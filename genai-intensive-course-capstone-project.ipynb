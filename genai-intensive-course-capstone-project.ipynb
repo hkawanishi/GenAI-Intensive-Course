{
 "cells": [
  {
   "cell_type": "markdown",
   "id": "a26815df",
   "metadata": {
    "papermill": {
     "duration": 0.00661,
     "end_time": "2025-04-16T00:50:13.453053",
     "exception": false,
     "start_time": "2025-04-16T00:50:13.446443",
     "status": "completed"
    },
    "tags": []
   },
   "source": [
    "# GenAI Intensive Course Capstone Project\n",
    "\n",
    "## Overview\n",
    "\n",
    "Reading the long and complicated terms of service on websites can be overwhelming for most people. These documents are full of legal language that many users don't read or fully understand, which can lead to uncertainty about the specifics of the service they are using, what they are agreeing to, and the responsibilities of the provider. This project tackles that problem by creating a smart \"Terms of Service Translator.\" It uses Gemini AI to turn complex legal text into simple, easy-to-understand summaries. The translated texts are written in plain English and made more approachable with helpful emoji.\n",
    "\n",
    "To demonstrate this project, I have written a sample terms of service document for a fictitious company called \"Dig-A-Hole.\" This company provides a service where customers can engage in the activity of digging holes in designated areas of a field for recreational exercise and stress relief, with options for subscription. This sample terms of service document has been saved in a PDF file, which Gemini AI is then used to read and process. The goal is to translate the formal legal language of this document into a clear and friendly summary."
   ]
  },
  {
   "cell_type": "code",
   "execution_count": 1,
   "id": "35516e2a",
   "metadata": {
    "_cell_guid": "b1076dfc-b9ad-4769-8c92-a6c4dae69d19",
    "_uuid": "8f2839f25d086af736a60e9eeb907d3b93b6e0e5",
    "execution": {
     "iopub.execute_input": "2025-04-16T00:50:13.465232Z",
     "iopub.status.busy": "2025-04-16T00:50:13.464839Z",
     "iopub.status.idle": "2025-04-16T00:50:14.627775Z",
     "shell.execute_reply": "2025-04-16T00:50:14.625658Z"
    },
    "papermill": {
     "duration": 1.171564,
     "end_time": "2025-04-16T00:50:14.629867",
     "exception": false,
     "start_time": "2025-04-16T00:50:13.458303",
     "status": "completed"
    },
    "tags": []
   },
   "outputs": [
    {
     "name": "stdout",
     "output_type": "stream",
     "text": [
      "/kaggle/input/sample-terms-of-service/sample_terms_of_service.pdf\n"
     ]
    }
   ],
   "source": [
    "# This Python 3 environment comes with many helpful analytics libraries installed\n",
    "# It is defined by the kaggle/python Docker image: https://github.com/kaggle/docker-python\n",
    "# For example, here's several helpful packages to load\n",
    "\n",
    "import numpy as np # linear algebra\n",
    "import pandas as pd # data processing, CSV file I/O (e.g. pd.read_csv)\n",
    "\n",
    "# Input data files are available in the read-only \"../input/\" directory\n",
    "# For example, running this (by clicking run or pressing Shift+Enter) will list all files under the input directory\n",
    "\n",
    "import os\n",
    "for dirname, _, filenames in os.walk('/kaggle/input'):\n",
    "    for filename in filenames:\n",
    "        print(os.path.join(dirname, filename))\n",
    "\n",
    "# You can write up to 20GB to the current directory (/kaggle/working/) that gets preserved as output when you create a version using \"Save & Run All\" \n",
    "# You can also write temporary files to /kaggle/temp/, but they won't be saved outside of the current session"
   ]
  },
  {
   "cell_type": "markdown",
   "id": "85d63821",
   "metadata": {
    "papermill": {
     "duration": 0.004738,
     "end_time": "2025-04-16T00:50:14.639988",
     "exception": false,
     "start_time": "2025-04-16T00:50:14.635250",
     "status": "completed"
    },
    "tags": []
   },
   "source": [
    "## Install the Python SDK"
   ]
  },
  {
   "cell_type": "code",
   "execution_count": 2,
   "id": "0f6100df",
   "metadata": {
    "execution": {
     "iopub.execute_input": "2025-04-16T00:50:14.651527Z",
     "iopub.status.busy": "2025-04-16T00:50:14.650963Z",
     "iopub.status.idle": "2025-04-16T00:50:21.659073Z",
     "shell.execute_reply": "2025-04-16T00:50:21.657529Z"
    },
    "papermill": {
     "duration": 7.016824,
     "end_time": "2025-04-16T00:50:21.661756",
     "exception": false,
     "start_time": "2025-04-16T00:50:14.644932",
     "status": "completed"
    },
    "tags": []
   },
   "outputs": [
    {
     "name": "stdout",
     "output_type": "stream",
     "text": [
      "\u001b[2K   \u001b[90m━━━━━━━━━━━━━━━━━━━━━━━━━━━━━━━━━━━━━━━━\u001b[0m \u001b[32m144.7/144.7 kB\u001b[0m \u001b[31m6.4 MB/s\u001b[0m eta \u001b[36m0:00:00\u001b[0m\r\n",
      "\u001b[2K   \u001b[90m━━━━━━━━━━━━━━━━━━━━━━━━━━━━━━━━━━━━━━━━\u001b[0m \u001b[32m100.9/100.9 kB\u001b[0m \u001b[31m4.1 MB/s\u001b[0m eta \u001b[36m0:00:00\u001b[0m\r\n",
      "\u001b[?25h"
     ]
    }
   ],
   "source": [
    "!pip install -Uq \"google-genai==1.7.0\""
   ]
  },
  {
   "cell_type": "code",
   "execution_count": 3,
   "id": "a71adf21",
   "metadata": {
    "execution": {
     "iopub.execute_input": "2025-04-16T00:50:21.675209Z",
     "iopub.status.busy": "2025-04-16T00:50:21.674764Z",
     "iopub.status.idle": "2025-04-16T00:50:23.254698Z",
     "shell.execute_reply": "2025-04-16T00:50:23.253166Z"
    },
    "papermill": {
     "duration": 1.589301,
     "end_time": "2025-04-16T00:50:23.256923",
     "exception": false,
     "start_time": "2025-04-16T00:50:21.667622",
     "status": "completed"
    },
    "tags": []
   },
   "outputs": [
    {
     "data": {
      "text/plain": [
       "'1.7.0'"
      ]
     },
     "execution_count": 3,
     "metadata": {},
     "output_type": "execute_result"
    }
   ],
   "source": [
    "from google import genai\n",
    "from google.genai import types\n",
    "\n",
    "from IPython.display import Markdown, display\n",
    "\n",
    "genai.__version__"
   ]
  },
  {
   "cell_type": "markdown",
   "id": "20a93916",
   "metadata": {
    "papermill": {
     "duration": 0.005173,
     "end_time": "2025-04-16T00:50:23.267942",
     "exception": false,
     "start_time": "2025-04-16T00:50:23.262769",
     "status": "completed"
    },
    "tags": []
   },
   "source": [
    "## Set up the API key"
   ]
  },
  {
   "cell_type": "code",
   "execution_count": 4,
   "id": "07fe716a",
   "metadata": {
    "execution": {
     "iopub.execute_input": "2025-04-16T00:50:23.282118Z",
     "iopub.status.busy": "2025-04-16T00:50:23.281208Z",
     "iopub.status.idle": "2025-04-16T00:50:23.885602Z",
     "shell.execute_reply": "2025-04-16T00:50:23.884276Z"
    },
    "papermill": {
     "duration": 0.614135,
     "end_time": "2025-04-16T00:50:23.888049",
     "exception": false,
     "start_time": "2025-04-16T00:50:23.273914",
     "status": "completed"
    },
    "tags": []
   },
   "outputs": [],
   "source": [
    "from kaggle_secrets import UserSecretsClient\n",
    "\n",
    "client = genai.Client(api_key=UserSecretsClient().get_secret(\"GOOGLE_API_KEY\"))"
   ]
  },
  {
   "cell_type": "markdown",
   "id": "a5018f33",
   "metadata": {
    "papermill": {
     "duration": 0.007306,
     "end_time": "2025-04-16T00:50:23.901411",
     "exception": false,
     "start_time": "2025-04-16T00:50:23.894105",
     "status": "completed"
    },
    "tags": []
   },
   "source": [
    "## Automated retry\n",
    "\n",
    "This codelab sends a lot of requests, so set up an automatic retry that ensures your requests are retried when per-minute quota is reached.\n"
   ]
  },
  {
   "cell_type": "code",
   "execution_count": 5,
   "id": "dbc6e8b8",
   "metadata": {
    "execution": {
     "iopub.execute_input": "2025-04-16T00:50:23.915402Z",
     "iopub.status.busy": "2025-04-16T00:50:23.914953Z",
     "iopub.status.idle": "2025-04-16T00:50:24.205009Z",
     "shell.execute_reply": "2025-04-16T00:50:24.203738Z"
    },
    "papermill": {
     "duration": 0.299891,
     "end_time": "2025-04-16T00:50:24.207599",
     "exception": false,
     "start_time": "2025-04-16T00:50:23.907708",
     "status": "completed"
    },
    "tags": []
   },
   "outputs": [],
   "source": [
    "from google.api_core import retry\n",
    "\n",
    "is_retriable = lambda e: (isinstance(e, genai.errors.APIError) and e.code in {429, 503})\n",
    "\n",
    "if not hasattr(genai.models.Models.generate_content, '__wrapped__'):\n",
    "  genai.models.Models.generate_content = retry.Retry(\n",
    "      predicate=is_retriable)(genai.models.Models.generate_content)"
   ]
  },
  {
   "cell_type": "markdown",
   "id": "c94c0919",
   "metadata": {
    "papermill": {
     "duration": 0.005656,
     "end_time": "2025-04-16T00:50:24.224648",
     "exception": false,
     "start_time": "2025-04-16T00:50:24.218992",
     "status": "completed"
    },
    "tags": []
   },
   "source": [
    "## Model Selection"
   ]
  },
  {
   "cell_type": "code",
   "execution_count": 6,
   "id": "1c695c56",
   "metadata": {
    "execution": {
     "iopub.execute_input": "2025-04-16T00:50:24.238838Z",
     "iopub.status.busy": "2025-04-16T00:50:24.238194Z",
     "iopub.status.idle": "2025-04-16T00:50:24.603221Z",
     "shell.execute_reply": "2025-04-16T00:50:24.601508Z"
    },
    "papermill": {
     "duration": 0.374292,
     "end_time": "2025-04-16T00:50:24.605216",
     "exception": false,
     "start_time": "2025-04-16T00:50:24.230924",
     "status": "completed"
    },
    "tags": []
   },
   "outputs": [
    {
     "name": "stdout",
     "output_type": "stream",
     "text": [
      "models/chat-bison-001\n",
      "models/text-bison-001\n",
      "models/embedding-gecko-001\n",
      "models/gemini-1.0-pro-vision-latest\n",
      "models/gemini-pro-vision\n",
      "models/gemini-1.5-pro-latest\n",
      "models/gemini-1.5-pro-001\n",
      "models/gemini-1.5-pro-002\n",
      "models/gemini-1.5-pro\n",
      "models/gemini-1.5-flash-latest\n",
      "models/gemini-1.5-flash-001\n",
      "models/gemini-1.5-flash-001-tuning\n",
      "models/gemini-1.5-flash\n",
      "models/gemini-1.5-flash-002\n",
      "models/gemini-1.5-flash-8b\n",
      "models/gemini-1.5-flash-8b-001\n",
      "models/gemini-1.5-flash-8b-latest\n",
      "models/gemini-1.5-flash-8b-exp-0827\n",
      "models/gemini-1.5-flash-8b-exp-0924\n",
      "models/gemini-2.5-pro-exp-03-25\n",
      "models/gemini-2.5-pro-preview-03-25\n",
      "models/gemini-2.0-flash-exp\n",
      "models/gemini-2.0-flash\n",
      "models/gemini-2.0-flash-001\n",
      "models/gemini-2.0-flash-exp-image-generation\n",
      "models/gemini-2.0-flash-lite-001\n",
      "models/gemini-2.0-flash-lite\n",
      "models/gemini-2.0-flash-lite-preview-02-05\n",
      "models/gemini-2.0-flash-lite-preview\n",
      "models/gemini-2.0-pro-exp\n",
      "models/gemini-2.0-pro-exp-02-05\n",
      "models/gemini-exp-1206\n",
      "models/gemini-2.0-flash-thinking-exp-01-21\n",
      "models/gemini-2.0-flash-thinking-exp\n",
      "models/gemini-2.0-flash-thinking-exp-1219\n",
      "models/learnlm-1.5-pro-experimental\n",
      "models/gemma-3-1b-it\n",
      "models/gemma-3-4b-it\n",
      "models/gemma-3-12b-it\n",
      "models/gemma-3-27b-it\n",
      "models/embedding-001\n",
      "models/text-embedding-004\n",
      "models/gemini-embedding-exp-03-07\n",
      "models/gemini-embedding-exp\n",
      "models/aqa\n",
      "models/imagen-3.0-generate-002\n",
      "models/gemini-2.0-flash-live-001\n"
     ]
    }
   ],
   "source": [
    "for model in client.models.list():\n",
    "  print(model.name)"
   ]
  },
  {
   "cell_type": "markdown",
   "id": "34896985",
   "metadata": {
    "papermill": {
     "duration": 0.00495,
     "end_time": "2025-04-16T00:50:24.615767",
     "exception": false,
     "start_time": "2025-04-16T00:50:24.610817",
     "status": "completed"
    },
    "tags": []
   },
   "source": [
    "For summarizing the main document, I'm rolling with **gemini-1.5-pro**. It seems pretty reliable and stable for text-based tasks like this.\n",
    "\n",
    "(Quick heads-up though! For the evaluation part later on, I had to switch gears and use **gemini-2.0-flash**.)"
   ]
  },
  {
   "cell_type": "code",
   "execution_count": 7,
   "id": "b04dbacd",
   "metadata": {
    "execution": {
     "iopub.execute_input": "2025-04-16T00:50:24.627855Z",
     "iopub.status.busy": "2025-04-16T00:50:24.627465Z",
     "iopub.status.idle": "2025-04-16T00:50:24.992958Z",
     "shell.execute_reply": "2025-04-16T00:50:24.991463Z"
    },
    "papermill": {
     "duration": 0.373783,
     "end_time": "2025-04-16T00:50:24.994942",
     "exception": false,
     "start_time": "2025-04-16T00:50:24.621159",
     "status": "completed"
    },
    "tags": []
   },
   "outputs": [
    {
     "name": "stdout",
     "output_type": "stream",
     "text": [
      "{'description': 'Stable version of Gemini 1.5 Pro, our mid-size multimodal '\n",
      "                'model that supports up to 2 million tokens, released in May '\n",
      "                'of 2024.',\n",
      " 'display_name': 'Gemini 1.5 Pro',\n",
      " 'input_token_limit': 2000000,\n",
      " 'name': 'models/gemini-1.5-pro',\n",
      " 'output_token_limit': 8192,\n",
      " 'supported_actions': ['generateContent', 'countTokens'],\n",
      " 'tuned_model_info': {},\n",
      " 'version': '001'}\n"
     ]
    }
   ],
   "source": [
    "from pprint import pprint\n",
    "\n",
    "for model in client.models.list():\n",
    "  if model.name == 'models/gemini-1.5-pro':\n",
    "    pprint(model.to_json_dict())\n",
    "    break"
   ]
  },
  {
   "cell_type": "markdown",
   "id": "c7da97ed",
   "metadata": {
    "papermill": {
     "duration": 0.005729,
     "end_time": "2025-04-16T00:50:25.006577",
     "exception": false,
     "start_time": "2025-04-16T00:50:25.000848",
     "status": "completed"
    },
    "tags": []
   },
   "source": [
    "## Document Understanding: Cracking Open the PDF! 🔓\n",
    "\n",
    "So, I've got my super important (but kinda snooze-worthy) terms of service all written down and tucked away in a PDF file. Right here, I'm gonna pull that document in and have Gemini work its magic to give me\n",
    "a quick and easy rundown in plain English – no legal headaches! 🥳"
   ]
  },
  {
   "cell_type": "code",
   "execution_count": 8,
   "id": "51de8c40",
   "metadata": {
    "execution": {
     "iopub.execute_input": "2025-04-16T00:50:25.020606Z",
     "iopub.status.busy": "2025-04-16T00:50:25.019972Z",
     "iopub.status.idle": "2025-04-16T00:50:26.396005Z",
     "shell.execute_reply": "2025-04-16T00:50:26.394836Z"
    },
    "papermill": {
     "duration": 1.385469,
     "end_time": "2025-04-16T00:50:26.398020",
     "exception": false,
     "start_time": "2025-04-16T00:50:25.012551",
     "status": "completed"
    },
    "tags": []
   },
   "outputs": [],
   "source": [
    "document_file = client.files.upload(file='/kaggle/input/sample-terms-of-service/sample_terms_of_service.pdf')"
   ]
  },
  {
   "cell_type": "code",
   "execution_count": 9,
   "id": "99fa238a",
   "metadata": {
    "execution": {
     "iopub.execute_input": "2025-04-16T00:50:26.412783Z",
     "iopub.status.busy": "2025-04-16T00:50:26.412329Z",
     "iopub.status.idle": "2025-04-16T00:50:35.182752Z",
     "shell.execute_reply": "2025-04-16T00:50:35.181314Z"
    },
    "papermill": {
     "duration": 8.779838,
     "end_time": "2025-04-16T00:50:35.184713",
     "exception": false,
     "start_time": "2025-04-16T00:50:26.404875",
     "status": "completed"
    },
    "tags": []
   },
   "outputs": [
    {
     "data": {
      "text/markdown": [
       "This is a summary of the Dig-A-Hole Terms of Service:\n",
       "\n",
       "**What Dig-A-Hole offers:**  Dig-A-Hole lets you dig holes in their field for fun and stress relief. They offer a free trial dig, monthly subscriptions, and optional shovel rentals.\n",
       "\n",
       "**Agreement:** By using Dig-A-Hole's services, you agree to these terms.\n",
       "\n",
       "**Subscriptions:** Subscriptions are for a minimum of one month.  You'll be charged monthly, starting on the day you subscribe. You can cancel anytime, but you still have to pay for the current month. No refunds for partial months.\n",
       "\n",
       "**Shovel Rental:** You can rent shovels for an extra fee. You're responsible for returning them in good condition (normal wear and tear is okay). Dig-A-Hole can charge you for lost or damaged shovels.\n",
       "\n",
       "**Safety and Risks:** Digging has risks (like injuries). You accept these risks and are responsible for your own safety.\n",
       "\n",
       "**Liability:** You agree not to sue Dig-A-Hole for anything that happens while you're digging, even if you get hurt. You also agree to protect Dig-A-Hole from any legal claims related to your use of their services.\n",
       "\n",
       "**Medical Disclaimer:** Dig-A-Hole isn't responsible for your health. See a doctor before digging, especially if you have health problems.\n",
       "\n",
       "**Conduct:** Be respectful and responsible. Dig-A-Hole can refuse service to anyone who isn't.\n",
       "\n",
       "**Changes to Terms:** Dig-A-Hole can change these terms anytime.  Using their services after a change means you accept the new terms.\n",
       "\n",
       "**Law and Disputes:** Ohio law governs these terms. Any disputes will be handled in Columbus, Ohio courts.\n",
       "\n",
       "**Contact:** Contact information is provided for questions.\n"
      ],
      "text/plain": [
       "<IPython.core.display.Markdown object>"
      ]
     },
     "execution_count": 9,
     "metadata": {},
     "output_type": "execute_result"
    }
   ],
   "source": [
    "request = 'Please summarize the following terms of servicein plain, easy-to-undersand English:'\n",
    "\n",
    "def translate_doc(request: str) -> str:\n",
    "  \"\"\"Execute the request on the uploaded document.\"\"\"\n",
    "  # Set the temperature low to stabilise the output.\n",
    "  config = types.GenerateContentConfig(temperature=0.0)\n",
    "  response = client.models.generate_content(\n",
    "      model='gemini-1.5-pro',\n",
    "      config=config,\n",
    "      contents=[request, document_file],\n",
    "  )\n",
    "\n",
    "  return response.text\n",
    "\n",
    "summary = translate_doc(request)\n",
    "Markdown(summary)"
   ]
  },
  {
   "cell_type": "markdown",
   "id": "8b655634",
   "metadata": {
    "papermill": {
     "duration": 0.005897,
     "end_time": "2025-04-16T00:50:35.196957",
     "exception": false,
     "start_time": "2025-04-16T00:50:35.191060",
     "status": "completed"
    },
    "tags": []
   },
   "source": [
    "## Few-Shot Prompt: Making it Friendly! 🎉\n",
    "\n",
    "The summary I got above is okay, but let's dial up the friendliness! To get Gemini to be a bit more casual and throw in some fun emoji, I am going to use a \"few-shot prompt.\" Think of it as showing Gemini a few examples of how I want the translations to sound – super chill and emoji-packed! 😎"
   ]
  },
  {
   "cell_type": "code",
   "execution_count": 10,
   "id": "b6deb70a",
   "metadata": {
    "execution": {
     "iopub.execute_input": "2025-04-16T00:50:35.210548Z",
     "iopub.status.busy": "2025-04-16T00:50:35.210118Z",
     "iopub.status.idle": "2025-04-16T00:50:43.809395Z",
     "shell.execute_reply": "2025-04-16T00:50:43.807816Z"
    },
    "papermill": {
     "duration": 8.608546,
     "end_time": "2025-04-16T00:50:43.811561",
     "exception": false,
     "start_time": "2025-04-16T00:50:35.203015",
     "status": "completed"
    },
    "tags": []
   },
   "outputs": [
    {
     "name": "stdout",
     "output_type": "stream",
     "text": [
      "Welcome to Dig-A-Hole! 🕳️  Here's the simple version of our rules:\n",
      "\n",
      "* **What we do:** We give you a place to dig holes!  It's for fun and stress relief. 😄  We have a field with designated digging areas.\n",
      "* **Free Trial:** First dig is free! 🎉\n",
      "* **Membership:**  You can sign up for a monthly membership to keep digging. 🗓️  One month minimum.\n",
      "* **Shovels:** We rent shovels 🥄 for an extra fee (if available).  Please return them in good shape (normal wear and tear is okay).\n",
      "* **Safety First!** ⚠️ Digging can be risky (sprains, strains, trips, falls, etc.). You're responsible for your own safety.  Be careful!\n",
      "* **No Lawsuits Please!** 🙏  If you get hurt, you can't sue us.  By digging here, you agree to this.\n",
      "* **Be Nice!**  Be respectful to others.  We can refuse service if you're disruptive or unsafe. 😠\n",
      "* **We Can Change the Rules:** We might update these terms.  Using our services after changes means you agree to the new rules.\n",
      "* **Questions?**  Contact us! 📞 📧\n",
      "* **Ohio Law Rules:**  Ohio law applies to these terms.  Any legal stuff happens in Columbus, OH courts. 🏛️\n",
      "\n",
      "Basically, dig responsibly, have fun, and don't sue us!  Happy digging! 🥳\n",
      "\n"
     ]
    }
   ],
   "source": [
    "model_config = types.GenerateContentConfig(\n",
    "    temperature=0.0\n",
    ")\n",
    "\n",
    "few_shot_prompt = \"\"\"\n",
    "Here are some examples of how to translate leagal terms of service and their friendly summaries using emoji:\n",
    "\n",
    "Original: \"We reserve the right to accept or refuse membership in our discretion.\" \n",
    "Translated: \"We get to say yay 👍 or nay 👎 to memberships, just because we can💪!\"\n",
    "\n",
    "Original: \"To the maximum extent permitted by law, you agree that the Company shall not be held liable for any injuries, damages, or losses incurred in connection with the use of our services or products. By using our services, you waive any right to bring a claim or lawsuit against us for such injuries.\"\n",
    "Translated: \"Oops! If you trip, slip, or fall dramatically and get hurt while using our stuff, please don’t sue us 😅🙏. By hanging out with us, you're saying, 'Okay cool, I won't blame you if I bonk myself💖'\"\n",
    "\n",
    "Please summarize the following terms of servicein plain, easy-to-undersand English with emoji.\n",
    "\"\"\"\n",
    "\n",
    "response = client.models.generate_content(\n",
    "    model='gemini-1.5-pro',\n",
    "    config=model_config,\n",
    "    contents=[few_shot_prompt, document_file],\n",
    ")\n",
    "\n",
    "print(response.text)"
   ]
  },
  {
   "cell_type": "markdown",
   "id": "f30afdea",
   "metadata": {
    "papermill": {
     "duration": 0.009791,
     "end_time": "2025-04-16T00:50:43.828692",
     "exception": false,
     "start_time": "2025-04-16T00:50:43.818901",
     "status": "completed"
    },
    "tags": []
   },
   "source": [
    "## JSON: Keeping Things Linked\n",
    "\n",
    "Good summaries so far! Now, let's structure things with JSON to keep each \"Original\" legal term directly linked to its \"Translated\" buddy. "
   ]
  },
  {
   "cell_type": "code",
   "execution_count": 11,
   "id": "a9834e0b",
   "metadata": {
    "execution": {
     "iopub.execute_input": "2025-04-16T00:50:43.842386Z",
     "iopub.status.busy": "2025-04-16T00:50:43.841946Z",
     "iopub.status.idle": "2025-04-16T00:51:08.276172Z",
     "shell.execute_reply": "2025-04-16T00:51:08.274261Z"
    },
    "papermill": {
     "duration": 24.442964,
     "end_time": "2025-04-16T00:51:08.277978",
     "exception": false,
     "start_time": "2025-04-16T00:50:43.835014",
     "status": "completed"
    },
    "tags": []
   },
   "outputs": [
    {
     "name": "stdout",
     "output_type": "stream",
     "text": [
      "[\n",
      "    {\n",
      "        \"Original\": \"We reserve the right to accept or refuse membership in our discretion.\",\n",
      "        \"Translated\": \"We can choose to accept 👍 or deny 👎 memberships as we see fit.\"\n",
      "    },\n",
      "    {\n",
      "        \"Original\": \"To the maximum extent permitted by law, you agree that the Company shall not be held liable for any injuries, damages, or losses incurred in connection with the use of our services or products. By using our services, you waive any right to bring a claim or lawsuit against us for such injuries.\",\n",
      "        \"Translated\": \"Legally speaking, we aren't responsible if you get hurt🤕 using our services. By using our services, you agree not to sue us. 🙏\"\n",
      "    },\n",
      "    {\n",
      "        \"Original\": \"These Terms of Service constitute a legally binding agreement between you (\\\"Customer,\\\" \\\"you,\\\" or \\\"your\\\") and Dig-A-Hole (\\\"Dig-A-Hole,\\\" \\\"we,\\\" \\\"us,\\\" or \\\"our\\\").\",\n",
      "        \"Translated\": \"This is a legal agreement between you and us (Dig-A-Hole)🤝.\"\n",
      "    },\n",
      "    {\n",
      "        \"Original\": \"By using our services, you acknowledge that you have read, understood, and agree to be bound by these Terms.\",\n",
      "        \"Translated\": \"By using our services, you're saying you've read, understood, and agree to these rules.📖\"\n",
      "    },\n",
      "    {\n",
      "        \"Original\": \"Dig-A-Hole provides a facility where customers can engage in the activity of digging holes in designated areas of a field. Our services are intended for recreational exercise and stress relief.\",\n",
      "        \"Translated\": \"We provide a place where you can dig holes for fun and stress relief! 🧘\"\n",
      "    },\n",
      "    {\n",
      "        \"Original\": \"New customers are eligible for one (1) complimentary digging session before requiring a subscription.\",\n",
      "        \"Translated\": \"First-timers get one free dig! 🆓\"\n",
      "    },\n",
      "    {\n",
      "        \"Original\": \"Customers can subscribe to a monthly plan for ongoing access to our digging facilities.\",\n",
      "        \"Translated\": \"Monthly subscriptions get you digging access. 🗓️\"\n",
      "    },\n",
      "    {\n",
      "        \"Original\": \"Customers have the option to rent shovels for an additional fee, subject to availability.\",\n",
      "        \"Translated\": \"Need a shovel? Rent one from us (if available)! 🥄\"\n",
      "    },\n",
      "    {\n",
      "        \"Original\": \"All subscriptions have a minimum commitment of one (1) full month.\",\n",
      "        \"Translated\": \"Subscriptions last for at least one month.📅\"\n",
      "    },\n",
      "    {\n",
      "        \"Original\": \"Subscription fees will be billed on a recurring monthly basis, commencing on the date of your initial subscription.\",\n",
      "        \"Translated\": \"We'll bill you each month, starting on the day you subscribe. 💰\"\n",
      "    },\n",
      "    {\n",
      "        \"Original\": \"You may cancel your subscription at any time. However, due to the minimum one-month commitment, you will be responsible for the full payment of the current billing cycle in which you cancel, and your access will continue until the end of that paid month. No refunds will be provided for partial months.\",\n",
      "        \"Translated\": \"Cancel anytime, but you still gotta pay for the current month. No refunds for partial months. 🙅\"\n",
      "    },\n",
      "    {\n",
      "        \"Original\": \"Shovels are available for rent on an add-on basis, subject to availability and an additional fee.\",\n",
      "        \"Translated\": \"Shovel rentals are extra, and depend on availability. 💰\"\n",
      "    },\n",
      "    {\n",
      "        \"Original\": \"Customers renting shovels are responsible for their proper use and return in the same condition (excluding normal wear and tear).\",\n",
      "        \"Translated\": \"Take care of the shovels! Return them in good shape (normal wear and tear is okay). 👍\"\n",
      "    },\n",
      "    {\n",
      "        \"Original\": \"Dig-A-Hole reserves the right to charge for any damage to or loss of rented shovels.\",\n",
      "        \"Translated\": \"If you break or lose a shovel, we'll charge you for it. 💸\"\n",
      "    },\n",
      "    {\n",
      "        \"Original\": \"Engaging in digging activities involves inherent risks, including but not limited to: Physical exertion and fatigue; Muscle strains, sprains, and other bodily injuries; Tripping, slipping, and falling; Injuries caused by contact with the ground, rocks, or other objects; Injuries resulting from the misuse of tools, including shovels; Exposure to weather conditions.\",\n",
      "        \"Translated\": \"Digging can be risky! Be careful of things like tripping, muscle strains, and weather.⚠️\"\n",
      "    },\n",
      "    {\n",
      "        \"Original\": \"By participating in digging activities at Dig-A-Hole, you acknowledge and voluntarily assume all such risks. You are responsible for ensuring your own safety and well-being while on our premises.\",\n",
      "        \"Translated\": \"You're responsible for your own safety while digging with us! 🙏\"\n",
      "    },\n",
      "    {\n",
      "        \"Original\": \"You hereby release and forever discharge Dig-A-Hole, its owners, officers, directors, employees, agents, and affiliates from any and all claims, demands, actions, causes of action, damages, losses, expenses, and liabilities of any kind or nature whatsoever, whether known or unknown, arising out of or in any way connected with your use of Dig-A-Hole's facilities or participation in digging activities, including but not limited to any injuries you may sustain.\",\n",
      "        \"Translated\": \"You agree not to sue us for anything that happens while you're digging, even if you get hurt.  🙅\"\n",
      "    },\n",
      "    {\n",
      "        \"Original\": \"You agree to indemnify, defend, and hold harmless Dig-A-Hole, its owners, officers, directors, employees, agents, and affiliates from and against any and all claims, demands, actions, causes of action, damages, losses, expenses (including attorneys' fees), and liabilities of any kind or nature whatsoever arising out of or in any way connected with your breach of these Terms of Service or your negligent or willful misconduct while using our services or facilities.\",\n",
      "        \"Translated\": \"If you break the rules and cause us trouble, you're responsible for any costs or damages. 👮\"\n",
      "    },\n",
      "    {\n",
      "        \"Original\": \"Dig-A-Hole does not provide medical services or advice. We recommend that you consult with your physician before participating in any physical activity, especially if you have any pre-existing medical conditions.\",\n",
      "        \"Translated\": \"We're not doctors! Talk to yours before digging, especially if you have health issues. 👩‍⚕️\"\n",
      "    },\n",
      "    {\n",
      "        \"Original\": \"You understand and agree that Dig-A-Hole will not be responsible for any medical expenses incurred by you as a result of any injury sustained while using our facilities or participating in digging activities. You are solely responsible for your own health and safety.\",\n",
      "        \"Translated\": \"We aren't responsible for your medical bills if you get injured while digging. Take care of yourself! 💖\"\n",
      "    },\n",
      "    {\n",
      "        \"Original\": \"Customers are expected to conduct themselves in a respectful and responsible manner while on Dig-A-Hole property. We reserve the right to refuse service to anyone who, in our sole discretion, engages in unsafe, disruptive, or inappropriate behavior.\",\n",
      "        \"Translated\": \"Be respectful and responsible while digging. We can refuse service to anyone who's unsafe or disruptive. 🚫\"\n",
      "    },\n",
      "    {\n",
      "        \"Original\": \"Dig-A-Hole reserves the right to modify or update these Terms of Service at any time without prior notice. Any changes will be effective immediately upon posting on our website or at our facility. Your continued use of our services after the posting of any revised Terms constitutes your acceptance of such changes.\",\n",
      "        \"Translated\": \"We can change these rules anytime. Using our services after a change means you accept the new rules. 🔄\"\n",
      "    },\n",
      "    {\n",
      "        \"Original\": \"These Terms of Service shall be governed by and construed in accordance with the laws of the State of Ohio, without regard to its conflict of law principles. Any dispute arising out of or relating to these Terms or your use of our services shall be exclusively resolved in the state or federal courts located in Columbus, OH, and you hereby consent to the jurisdiction of such courts.\",\n",
      "        \"Translated\": \"Ohio law applies to these rules, and any disputes will be settled in Columbus, OH courts. 🧑‍⚖️\"\n",
      "    },\n",
      "    {\n",
      "        \"Original\": \"These Terms of Service constitute the entire agreement between you and Dig-A-Hole with respect to the subject matter hereof and supersede all prior or contemporaneous communications and proposals, whether oral or written.\",\n",
      "        \"Translated\": \"These terms are the complete agreement between us. Any previous conversations don't apply. 🗣️\"\n",
      "    }\n",
      "]\n"
     ]
    }
   ],
   "source": [
    "import json\n",
    "\n",
    "few_shot_prompt = \"\"\"\n",
    "Please translate the following terms of service to more casual,friendly, easy-to-understand English with emoji. The output should be a JSON array and each element is\n",
    "a JSON object with the \"Original\" and \"Translated\" version.\n",
    "Here are some examples of how to translate leagal terms of service and their friendly summaries using emoji:\n",
    "```\n",
    "{\n",
    "Original: \"We reserve the right to accept or refuse membership in our discretion.\" \n",
    "Translated: \"We get to say yay 👍 or nay 👎 to memberships, just because we can💪!\"\n",
    "}\n",
    "{\n",
    "Original: \"To the maximum extent permitted by law, you agree that the Company shall not be held liable for any injuries, damages, or losses incurred in connection with the use of our services or products. By using our services, you waive any right to bring a claim or lawsuit against us for such injuries.\"\n",
    "Translated: \"Oops!😳 If you trip, slip, or fall dramatically and get hurt🤕 while using our stuff, please don’t sue us 😅🙏. By hanging out with us, you're saying, 'Okay cool, I won't blame you if I bonk myself💖'\"\n",
    "}\n",
    "```\n",
    "\n",
    "\"\"\"\n",
    "\n",
    "response = client.models.generate_content(\n",
    "    model='gemini-1.5-pro',\n",
    "    contents= [few_shot_prompt, document_file],\n",
    "    config={\n",
    "        'response_mime_type': 'application/json'\n",
    "    },\n",
    ")\n",
    "     \n",
    "#print(response.text)\n",
    "\n",
    "response_load = json.loads(response.text)\n",
    "print(json.dumps(response_load, indent=4, ensure_ascii=False))"
   ]
  },
  {
   "cell_type": "code",
   "execution_count": 12,
   "id": "7b5b5864",
   "metadata": {
    "execution": {
     "iopub.execute_input": "2025-04-16T00:51:08.292704Z",
     "iopub.status.busy": "2025-04-16T00:51:08.292249Z",
     "iopub.status.idle": "2025-04-16T00:51:08.311925Z",
     "shell.execute_reply": "2025-04-16T00:51:08.310375Z"
    },
    "papermill": {
     "duration": 0.029659,
     "end_time": "2025-04-16T00:51:08.314240",
     "exception": false,
     "start_time": "2025-04-16T00:51:08.284581",
     "status": "completed"
    },
    "tags": []
   },
   "outputs": [
    {
     "name": "stdout",
     "output_type": "stream",
     "text": [
      "\n",
      "Parsed JSON Summary:\n",
      "\n",
      "Item 1:\n",
      "  Original: We reserve the right to accept or refuse membership in our discretion.\n",
      "  Translated: We can choose to accept 👍 or deny 👎 memberships as we see fit.\n",
      "\n",
      "Item 2:\n",
      "  Original: To the maximum extent permitted by law, you agree that the Company shall not be held liable for any injuries, damages, or losses incurred in connection with the use of our services or products. By using our services, you waive any right to bring a claim or lawsuit against us for such injuries.\n",
      "  Translated: Legally speaking, we aren't responsible if you get hurt🤕 using our services. By using our services, you agree not to sue us. 🙏\n",
      "\n",
      "Item 3:\n",
      "  Original: These Terms of Service constitute a legally binding agreement between you (\"Customer,\" \"you,\" or \"your\") and Dig-A-Hole (\"Dig-A-Hole,\" \"we,\" \"us,\" or \"our\").\n",
      "  Translated: This is a legal agreement between you and us (Dig-A-Hole)🤝.\n",
      "\n",
      "Item 4:\n",
      "  Original: By using our services, you acknowledge that you have read, understood, and agree to be bound by these Terms.\n",
      "  Translated: By using our services, you're saying you've read, understood, and agree to these rules.📖\n",
      "\n",
      "Item 5:\n",
      "  Original: Dig-A-Hole provides a facility where customers can engage in the activity of digging holes in designated areas of a field. Our services are intended for recreational exercise and stress relief.\n",
      "  Translated: We provide a place where you can dig holes for fun and stress relief! 🧘\n",
      "\n",
      "Item 6:\n",
      "  Original: New customers are eligible for one (1) complimentary digging session before requiring a subscription.\n",
      "  Translated: First-timers get one free dig! 🆓\n",
      "\n",
      "Item 7:\n",
      "  Original: Customers can subscribe to a monthly plan for ongoing access to our digging facilities.\n",
      "  Translated: Monthly subscriptions get you digging access. 🗓️\n",
      "\n",
      "Item 8:\n",
      "  Original: Customers have the option to rent shovels for an additional fee, subject to availability.\n",
      "  Translated: Need a shovel? Rent one from us (if available)! 🥄\n",
      "\n",
      "Item 9:\n",
      "  Original: All subscriptions have a minimum commitment of one (1) full month.\n",
      "  Translated: Subscriptions last for at least one month.📅\n",
      "\n",
      "Item 10:\n",
      "  Original: Subscription fees will be billed on a recurring monthly basis, commencing on the date of your initial subscription.\n",
      "  Translated: We'll bill you each month, starting on the day you subscribe. 💰\n",
      "\n",
      "Item 11:\n",
      "  Original: You may cancel your subscription at any time. However, due to the minimum one-month commitment, you will be responsible for the full payment of the current billing cycle in which you cancel, and your access will continue until the end of that paid month. No refunds will be provided for partial months.\n",
      "  Translated: Cancel anytime, but you still gotta pay for the current month. No refunds for partial months. 🙅\n",
      "\n",
      "Item 12:\n",
      "  Original: Shovels are available for rent on an add-on basis, subject to availability and an additional fee.\n",
      "  Translated: Shovel rentals are extra, and depend on availability. 💰\n",
      "\n",
      "Item 13:\n",
      "  Original: Customers renting shovels are responsible for their proper use and return in the same condition (excluding normal wear and tear).\n",
      "  Translated: Take care of the shovels! Return them in good shape (normal wear and tear is okay). 👍\n",
      "\n",
      "Item 14:\n",
      "  Original: Dig-A-Hole reserves the right to charge for any damage to or loss of rented shovels.\n",
      "  Translated: If you break or lose a shovel, we'll charge you for it. 💸\n",
      "\n",
      "Item 15:\n",
      "  Original: Engaging in digging activities involves inherent risks, including but not limited to: Physical exertion and fatigue; Muscle strains, sprains, and other bodily injuries; Tripping, slipping, and falling; Injuries caused by contact with the ground, rocks, or other objects; Injuries resulting from the misuse of tools, including shovels; Exposure to weather conditions.\n",
      "  Translated: Digging can be risky! Be careful of things like tripping, muscle strains, and weather.⚠️\n",
      "\n",
      "Item 16:\n",
      "  Original: By participating in digging activities at Dig-A-Hole, you acknowledge and voluntarily assume all such risks. You are responsible for ensuring your own safety and well-being while on our premises.\n",
      "  Translated: You're responsible for your own safety while digging with us! 🙏\n",
      "\n",
      "Item 17:\n",
      "  Original: You hereby release and forever discharge Dig-A-Hole, its owners, officers, directors, employees, agents, and affiliates from any and all claims, demands, actions, causes of action, damages, losses, expenses, and liabilities of any kind or nature whatsoever, whether known or unknown, arising out of or in any way connected with your use of Dig-A-Hole's facilities or participation in digging activities, including but not limited to any injuries you may sustain.\n",
      "  Translated: You agree not to sue us for anything that happens while you're digging, even if you get hurt.  🙅\n",
      "\n",
      "Item 18:\n",
      "  Original: You agree to indemnify, defend, and hold harmless Dig-A-Hole, its owners, officers, directors, employees, agents, and affiliates from and against any and all claims, demands, actions, causes of action, damages, losses, expenses (including attorneys' fees), and liabilities of any kind or nature whatsoever arising out of or in any way connected with your breach of these Terms of Service or your negligent or willful misconduct while using our services or facilities.\n",
      "  Translated: If you break the rules and cause us trouble, you're responsible for any costs or damages. 👮\n",
      "\n",
      "Item 19:\n",
      "  Original: Dig-A-Hole does not provide medical services or advice. We recommend that you consult with your physician before participating in any physical activity, especially if you have any pre-existing medical conditions.\n",
      "  Translated: We're not doctors! Talk to yours before digging, especially if you have health issues. 👩‍⚕️\n",
      "\n",
      "Item 20:\n",
      "  Original: You understand and agree that Dig-A-Hole will not be responsible for any medical expenses incurred by you as a result of any injury sustained while using our facilities or participating in digging activities. You are solely responsible for your own health and safety.\n",
      "  Translated: We aren't responsible for your medical bills if you get injured while digging. Take care of yourself! 💖\n",
      "\n",
      "Item 21:\n",
      "  Original: Customers are expected to conduct themselves in a respectful and responsible manner while on Dig-A-Hole property. We reserve the right to refuse service to anyone who, in our sole discretion, engages in unsafe, disruptive, or inappropriate behavior.\n",
      "  Translated: Be respectful and responsible while digging. We can refuse service to anyone who's unsafe or disruptive. 🚫\n",
      "\n",
      "Item 22:\n",
      "  Original: Dig-A-Hole reserves the right to modify or update these Terms of Service at any time without prior notice. Any changes will be effective immediately upon posting on our website or at our facility. Your continued use of our services after the posting of any revised Terms constitutes your acceptance of such changes.\n",
      "  Translated: We can change these rules anytime. Using our services after a change means you accept the new rules. 🔄\n",
      "\n",
      "Item 23:\n",
      "  Original: These Terms of Service shall be governed by and construed in accordance with the laws of the State of Ohio, without regard to its conflict of law principles. Any dispute arising out of or relating to these Terms or your use of our services shall be exclusively resolved in the state or federal courts located in Columbus, OH, and you hereby consent to the jurisdiction of such courts.\n",
      "  Translated: Ohio law applies to these rules, and any disputes will be settled in Columbus, OH courts. 🧑‍⚖️\n",
      "\n",
      "Item 24:\n",
      "  Original: These Terms of Service constitute the entire agreement between you and Dig-A-Hole with respect to the subject matter hereof and supersede all prior or contemporaneous communications and proposals, whether oral or written.\n",
      "  Translated: These terms are the complete agreement between us. Any previous conversations don't apply. 🗣️\n"
     ]
    }
   ],
   "source": [
    "#I've got my data all nicely packed in JSON. But what if I want to parse it?  \n",
    "#Here's how I do the parsed summary.\n",
    "\n",
    "import json\n",
    "import re\n",
    "\n",
    "try:\n",
    "    print(\"\\nParsed JSON Summary:\")\n",
    "\n",
    "    if isinstance(response_load, list):\n",
    "        for i, item in enumerate(response_load, start=1):\n",
    "            original = item.get('Original', '[Missing original]')\n",
    "            translated = item.get('Translated', '[Missing translated]')\n",
    "            print(f\"\\nItem {i}:\")\n",
    "            print(f\"  Original: {original}\")\n",
    "            print(f\"  Translated: {translated}\")\n",
    "    else:\n",
    "        print(\"Expected a JSON array but received a different structure.\")\n",
    "except json.JSONDecodeError as e:\n",
    "    print(\"\\nError decoding JSON:\")\n",
    "    print(f\"  {e}\")\n",
    "    print(\"The output does not appear to be valid JSON.\")"
   ]
  },
  {
   "cell_type": "markdown",
   "id": "7372a60e",
   "metadata": {
    "papermill": {
     "duration": 0.006502,
     "end_time": "2025-04-16T00:51:08.327963",
     "exception": false,
     "start_time": "2025-04-16T00:51:08.321461",
     "status": "completed"
    },
    "tags": []
   },
   "source": [
    "## Define an Evaluator: Checking the Translation Quality\n",
    "\n",
    "My friendly translation are looking good against the original text. Now, the question is: how well did my translator actually do?\n",
    "\n",
    "In this section, I'm going to put the translations to the test by focusing on a few key things that matter:\n",
    "\n",
    "* **Clarity:** How easy is the translated text to understand for someone without a law degree?\n",
    "* **Friendliness:** Did the translation nail that approachable and emoji-filled vibe I was going for?\n",
    "* **Completeness:** Did it capture all the important info from the original legal stuff?\n",
    "\n",
    "To figure this out, I've set up a simple rating system, giving a score from 1 to 5. I've also laid out the evaluation steps. Let's see how they measure up!\n",
    "\n",
    "**Important:** To keep things running smoothly and avoid any hiccups with rate limits, I'm only going to evaluate the first three items from the terms of service for now. But I believe this will give me a good initial idea of how well the translator is performing."
   ]
  },
  {
   "cell_type": "code",
   "execution_count": 13,
   "id": "99fb761c",
   "metadata": {
    "execution": {
     "iopub.execute_input": "2025-04-16T00:51:08.343327Z",
     "iopub.status.busy": "2025-04-16T00:51:08.342908Z",
     "iopub.status.idle": "2025-04-16T00:51:14.004882Z",
     "shell.execute_reply": "2025-04-16T00:51:14.003671Z"
    },
    "papermill": {
     "duration": 5.673663,
     "end_time": "2025-04-16T00:51:14.008365",
     "exception": false,
     "start_time": "2025-04-16T00:51:08.334702",
     "status": "completed"
    },
    "tags": []
   },
   "outputs": [
    {
     "name": "stdout",
     "output_type": "stream",
     "text": [
      "Original: We reserve the right to accept or refuse membership in our discretion.\n",
      "Translated: We can choose to accept 👍 or deny 👎 memberships as we see fit.\n",
      "Verbose Evaluation:\n",
      "STEP 1:\n",
      "The translation captures the core meaning of the original sentence in a clear and straightforward way. It uses simple language and familiar terms (\"accept,\" \"deny,\" \"as we see fit\") to make the legal concept more accessible. The use of emojis adds to the friendly tone. All key information is preserved.\n",
      "Clarity: The translation is very clear.\n",
      "Friendliness: The translation is friendly because of the emojis.\n",
      "Completeness: The translation is complete.\n",
      "\n",
      "STEP 2:\n",
      "Based on the evaluation, the translation is very good.\n",
      "Rating: 5\n",
      "\n",
      "Structured Evaluation: VERY_GOOD\n",
      "--------------------\n",
      "Original: To the maximum extent permitted by law, you agree that the Company shall not be held liable for any injuries, damages, or losses incurred in connection with the use of our services or products. By using our services, you waive any right to bring a claim or lawsuit against us for such injuries.\n",
      "Translated: Legally speaking, we aren't responsible if you get hurt🤕 using our services. By using our services, you agree not to sue us. 🙏\n",
      "Verbose Evaluation:\n",
      "## Evaluation\n",
      "\n",
      "**STEP 1: Assess the translation in aspects of clarity, friendliness, and completeness according to the criteria.**\n",
      "\n",
      "*   **Clarity:** The translation is very clear and uses simple language. It avoids legal jargon and gets straight to the point.\n",
      "*   **Friendliness:** The translation adopts a friendly tone with the use of emojis and informal language (\"we aren't responsible\").\n",
      "*   **Completeness:** The translation captures the core meaning of the original sentence, which is a waiver of liability for injuries or damages. However, it simplifies some details, such as mentioning \"losses\" in addition to injuries and damages.\n",
      "\n",
      "**STEP 2: Score based on the rubric.**\n",
      "\n",
      "I would rate this translation a **4 (Good)**.\n",
      "\n",
      "**Explanation:**\n",
      "\n",
      "The translation is mostly accurate, clear, and friendly. It effectively conveys the main point of the original sentence in a more accessible way. The use of emojis contributes to the friendly tone. However, it lacks some of the detail from the original sentence, such as specifically mentioning \"losses.\" Although simplifying the language is the purpose, \"losses\" is related to potential legal liabilities and should not be omitted.\n",
      "\n",
      "Structured Evaluation: GOOD\n",
      "--------------------\n",
      "Original: These Terms of Service constitute a legally binding agreement between you (\"Customer,\" \"you,\" or \"your\") and Dig-A-Hole (\"Dig-A-Hole,\" \"we,\" \"us,\" or \"our\").\n",
      "Translated: This is a legal agreement between you and us (Dig-A-Hole)🤝.\n",
      "Verbose Evaluation:\n",
      "STEP 1:\n",
      "The translation maintains clarity by stating the core concept: a legal agreement between the user and Dig-A-Hole. It uses simpler language (\"you and us\") for better accessibility.\n",
      "It's friendly, using a handshake emoji to create a welcoming tone.\n",
      "It retains completeness, conveying the key information about the parties involved and the nature of the agreement.\n",
      "\n",
      "STEP 2:\n",
      "Rating: 5\n",
      "Explanation: The translation is accurate, clear, friendly, and complete. It simplifies the legal jargon while maintaining the essential meaning.\n",
      "\n",
      "Structured Evaluation: VERY_GOOD\n",
      "--------------------\n"
     ]
    }
   ],
   "source": [
    "import enum\n",
    "\n",
    "# Define the evaluation prompt for evaluating the \"Translated\" text\n",
    "TRANSLATION_EVAL_PROMPT = \"\"\"\\\n",
    "# Instruction\n",
    "You are an expert evaluator. Your task is to evaluate the quality of the AI-generated translation of a sentence from a terms of service\n",
    "document.\n",
    "We will provide you with the original sentence and the AI-generated translation.\n",
    "You should first read the original sentence carefully, then evaluate the quality of the translation based on the Criteria \n",
    "provided in the Evaluation section below.\n",
    "You will assign the translation a rating following the Rating Rubric and Evaluation Steps. Give step-by-step explanations \n",
    "for your rating, and only choose ratings from the Rating Rubric.\n",
    "\n",
    "# Evaluation\n",
    "## Metric Definition\n",
    "You will be assessing the translation Clarity, friendliness and Completeness.\n",
    "\n",
    "## Criteria\n",
    "Clarity: The translation prioritizes making the core meaning immediately accessible and easy to understand for everyone, \n",
    "even those unfamiliar with legal terms. It uses simple language and relatable analogies to convey the essential information effectively.\n",
    "Friendliness: The translation adopts an extremely approachable, casual, and enthusiastic tone, using emojis and informal language \n",
    "to create a positive and engaging experience for the reader. The high level of friendliness is intentional to make the legal terms \n",
    "feel less intimidating and more welcoming.\n",
    "Completeness: Completeness: The translation accurately and fully conveys the core meaning and key pieces of information presented \n",
    "in the original sentence. It should capture all the essential facts, actions, entities, and relationships described, \n",
    "even if expressed in simpler language. The level of detail in the translation should be sufficient to understand the main points \n",
    "of the original without losing critical information.\n",
    "\n",
    "## Rating Rubric\n",
    "5: (Very good). The translation is accurate, clear, friendly, and complete.\n",
    "4: (Good). The translation is mostly accurate, clear, friendly, and complete.\n",
    "3: (Ok). The translation is understandable but may have minor issues with accuracy, clarity, or friendliness. Emojis might \n",
    "be missing or slightly awkward.\n",
    "2: (Bad). The translation has significant issues with accuracy or clarity, or fails to adopt a friendly tone.\n",
    "1: (Very bad). The translation is inaccurate, incomprehensible, or completely fails to address the original meaning.\n",
    "\n",
    "## Evaluation Steps\n",
    "STEP 1: Assess the translation in aspects of clarity, friendliness, and completeness according to the criteria.\n",
    "STEP 2: Score based on the rubric.\n",
    "\n",
    "# User Inputs and AI-generated Response\n",
    "## Original Sentence\n",
    "\n",
    "{original}\n",
    "\n",
    "## AI-generated Translation\n",
    "\n",
    "{response}\n",
    "\"\"\"\n",
    "\n",
    "# Define a structured enum class to capture the result.\n",
    "class SummaryRating(enum.Enum):\n",
    "    VERY_GOOD = '5'\n",
    "    GOOD = '4'\n",
    "    OK = '3'\n",
    "    BAD = '2'\n",
    "    VERY_BAD = '1'\n",
    "\n",
    "def eval_translation(original, ai_response):\n",
    "    \"\"\"Evaluate the generated translation against the original sentence.\"\"\"\n",
    "\n",
    "    # It doesn't look like I can use chat with gemini-1.5-pro. Using gemini-2.0-flash here.\n",
    "    chat = client.chats.create(model='gemini-2.0-flash')\n",
    "    \n",
    "    # Generate the full text response.\n",
    "    response = chat.send_message(\n",
    "        message=TRANSLATION_EVAL_PROMPT.format(original=original, response=ai_response)\n",
    "    )\n",
    "    verbose_eval = response.text\n",
    "    \n",
    "    # Coerce into the desired structure.\n",
    "    structured_output_config = types.GenerateContentConfig(\n",
    "        response_mime_type=\"text/x.enum\",\n",
    "        response_schema=SummaryRating,\n",
    "    )\n",
    "    response = chat.send_message(\n",
    "        message=\"Convert the final score.\",\n",
    "        config=structured_output_config,\n",
    "    )\n",
    "    structured_eval = response.parsed\n",
    "    \n",
    "    return verbose_eval, structured_eval\n",
    "\n",
    "# Ideally, I want to check everything but I don't have enough quota. So, iterating only first three elements.\n",
    "evaluation_results = []\n",
    "for item in response_load[:3]:\n",
    "    original_text = item['Original']\n",
    "    translated_text = item['Translated']\n",
    "    verbose_eval, structured_eval = eval_translation(original=original_text, ai_response=translated_text)\n",
    "\n",
    "    evaluation_results.append({\n",
    "        'original': original_text,\n",
    "        'translated': translated_text,\n",
    "        'verbose_evaluation': verbose_eval,\n",
    "        'structured_evaluation': structured_eval.name if structured_eval else None\n",
    "    })\n",
    "\n",
    "for result in evaluation_results:\n",
    "    print(f\"Original: {result['original']}\")\n",
    "    print(f\"Translated: {result['translated']}\")\n",
    "    print(f\"Verbose Evaluation:\\n{result['verbose_evaluation']}\")\n",
    "    print(f\"Structured Evaluation: {result['structured_evaluation']}\")\n",
    "    print(\"-\" * 20)"
   ]
  },
  {
   "cell_type": "code",
   "execution_count": null,
   "id": "ce584751",
   "metadata": {
    "papermill": {
     "duration": 0.011483,
     "end_time": "2025-04-16T00:51:14.032988",
     "exception": false,
     "start_time": "2025-04-16T00:51:14.021505",
     "status": "completed"
    },
    "tags": []
   },
   "outputs": [],
   "source": []
  }
 ],
 "metadata": {
  "kaggle": {
   "accelerator": "none",
   "dataSources": [
    {
     "sourceId": 97258,
     "sourceType": "competition"
    },
    {
     "datasetId": 7069385,
     "sourceId": 11304051,
     "sourceType": "datasetVersion"
    }
   ],
   "dockerImageVersionId": 30918,
   "isGpuEnabled": false,
   "isInternetEnabled": true,
   "language": "python",
   "sourceType": "notebook"
  },
  "kernelspec": {
   "display_name": "Python 3",
   "language": "python",
   "name": "python3"
  },
  "language_info": {
   "codemirror_mode": {
    "name": "ipython",
    "version": 3
   },
   "file_extension": ".py",
   "mimetype": "text/x-python",
   "name": "python",
   "nbconvert_exporter": "python",
   "pygments_lexer": "ipython3",
   "version": "3.10.12"
  },
  "papermill": {
   "default_parameters": {},
   "duration": 65.25703,
   "end_time": "2025-04-16T00:51:14.969188",
   "environment_variables": {},
   "exception": null,
   "input_path": "__notebook__.ipynb",
   "output_path": "__notebook__.ipynb",
   "parameters": {},
   "start_time": "2025-04-16T00:50:09.712158",
   "version": "2.6.0"
  }
 },
 "nbformat": 4,
 "nbformat_minor": 5
}
