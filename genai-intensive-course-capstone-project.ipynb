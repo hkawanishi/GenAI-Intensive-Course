{
 "cells": [
  {
   "cell_type": "markdown",
   "id": "ae3346be",
   "metadata": {
    "papermill": {
     "duration": 0.008273,
     "end_time": "2025-04-17T23:36:26.156137",
     "exception": false,
     "start_time": "2025-04-17T23:36:26.147864",
     "status": "completed"
    },
    "tags": []
   },
   "source": [
    "# GenAI Intensive Course Capstone Project : Terms of Service Translator\n",
    "\n",
    "## Overview\n",
    "\n",
    "Reading the long and complicated terms of service on websites can be overwhelming for most people. These documents are full of legal language that many users don't read or fully understand, which can lead to uncertainty about the specifics of the service they are using, what they are agreeing to, and the responsibilities of the provider. **This project tackles that problem by creating a smart \"Terms of Service Translator.\"** It uses Gemini AI to turn complex legal text into simple, easy-to-understand summaries. The translated texts are written in plain English and made more approachable with helpful emoji.\n",
    "\n",
    "To illustrate the capabilities of this translator, a sample Terms of Service document has been created for a fictitious company called \"Dig-A-Hole.\" This whimsical example details a service where customers can engage in the activity of digging holes in designated areas of a field for recreational exercise and stress relief, with options for subscription. This sample terms of service document has been saved in a PDF file, which Gemini AI is then used to read and process. The goal is to translate the formal legal language of this document into a clear and friendly summary.\n",
    "\n",
    "This project was incorporated by the following approach along with demonstration of Gen AI capabilities in ().\n",
    "\n",
    "* A sample Terms of Service document was created for the fictitious \"Dig-A-Hole\" company, detailing their stress-relief digging service, and then saved as a PDF.\n",
    "* The necessary Google API key was set up to enable access to the Gen AI models.\n",
    "* A suitable Gemini model was selected for effective language processing.\n",
    "* The PDF document was then processed using Gemini AI with a carefully designed prompt to extract and summarize the key legal terms into plain, accessible English (Leveraging Gemini for **Document Understanding**).\n",
    "* Few-shot prompting with illustrative examples was employed to guide Gemini in incorporating relevant and helpful emojis into the translations (**Few-shot Prompting**).\n",
    "* The output was structured using JSON format to establish a direct and clear link between the original legal terms and their corresponding simplified translations (**JSON Mode**).\n",
    "* Gemini AI was utilized again to rigorously evaluate the quality of the translated output based on predefined metrics, specific evaluation criteria, and a detailed rating rubric (**Gen AI Evaluation**).\n",
    "* Interactivity was implemented in the translated Terms of Service by using Embeddings and Retrieval Augmented Generation (RAG). This allows users to ask specific questions about the terms and receive relevant, context-aware answers (**Embeddings** and **RAG**).\n",
    "\n",
    "This project demonstrates a practical application of Gen AI in making legal documents more accessible and user-friendly."
   ]
  },
  {
   "cell_type": "code",
   "execution_count": 1,
   "id": "033b7cdb",
   "metadata": {
    "_cell_guid": "b1076dfc-b9ad-4769-8c92-a6c4dae69d19",
    "_uuid": "8f2839f25d086af736a60e9eeb907d3b93b6e0e5",
    "execution": {
     "iopub.execute_input": "2025-04-17T23:36:26.172990Z",
     "iopub.status.busy": "2025-04-17T23:36:26.172603Z",
     "iopub.status.idle": "2025-04-17T23:36:27.159646Z",
     "shell.execute_reply": "2025-04-17T23:36:27.158249Z"
    },
    "papermill": {
     "duration": 0.997557,
     "end_time": "2025-04-17T23:36:27.161516",
     "exception": false,
     "start_time": "2025-04-17T23:36:26.163959",
     "status": "completed"
    },
    "tags": []
   },
   "outputs": [
    {
     "name": "stdout",
     "output_type": "stream",
     "text": [
      "/kaggle/input/sample-terms-of-service/sample_terms_of_service.pdf\n",
      "/kaggle/input/sample-terms-of-service/sample_terms_of_service2.pdf\n"
     ]
    }
   ],
   "source": [
    "# This Python 3 environment comes with many helpful analytics libraries installed\n",
    "# It is defined by the kaggle/python Docker image: https://github.com/kaggle/docker-python\n",
    "# For example, here's several helpful packages to load\n",
    "\n",
    "import numpy as np # linear algebra\n",
    "import pandas as pd # data processing, CSV file I/O (e.g. pd.read_csv)\n",
    "\n",
    "# Input data files are available in the read-only \"../input/\" directory\n",
    "# For example, running this (by clicking run or pressing Shift+Enter) will list all files under the input directory\n",
    "\n",
    "import os\n",
    "for dirname, _, filenames in os.walk('/kaggle/input'):\n",
    "    for filename in filenames:\n",
    "        print(os.path.join(dirname, filename))\n",
    "\n",
    "# You can write up to 20GB to the current directory (/kaggle/working/) that gets preserved as output when you create a version using \"Save & Run All\" \n",
    "# You can also write temporary files to /kaggle/temp/, but they won't be saved outside of the current session"
   ]
  },
  {
   "cell_type": "markdown",
   "id": "2003fbd4",
   "metadata": {
    "papermill": {
     "duration": 0.008599,
     "end_time": "2025-04-17T23:36:27.178199",
     "exception": false,
     "start_time": "2025-04-17T23:36:27.169600",
     "status": "completed"
    },
    "tags": []
   },
   "source": [
    "## Install the Python SDK"
   ]
  },
  {
   "cell_type": "code",
   "execution_count": 2,
   "id": "0b64113f",
   "metadata": {
    "execution": {
     "iopub.execute_input": "2025-04-17T23:36:27.194955Z",
     "iopub.status.busy": "2025-04-17T23:36:27.194445Z",
     "iopub.status.idle": "2025-04-17T23:37:12.834132Z",
     "shell.execute_reply": "2025-04-17T23:37:12.832847Z"
    },
    "papermill": {
     "duration": 45.650247,
     "end_time": "2025-04-17T23:37:12.836216",
     "exception": false,
     "start_time": "2025-04-17T23:36:27.185969",
     "status": "completed"
    },
    "tags": []
   },
   "outputs": [
    {
     "name": "stdout",
     "output_type": "stream",
     "text": [
      "\u001b[33mWARNING: Skipping kfp as it is not installed.\u001b[0m\u001b[33m\r\n",
      "\u001b[2K     \u001b[90m━━━━━━━━━━━━━━━━━━━━━━━━━━━━━━━━━━━━━━━━\u001b[0m \u001b[32m67.3/67.3 kB\u001b[0m \u001b[31m3.1 MB/s\u001b[0m eta \u001b[36m0:00:00\u001b[0m\r\n",
      "\u001b[?25h  Installing build dependencies ... \u001b[?25l\u001b[?25hdone\r\n",
      "  Getting requirements to build wheel ... \u001b[?25l\u001b[?25hdone\r\n",
      "  Preparing metadata (pyproject.toml) ... \u001b[?25l\u001b[?25hdone\r\n",
      "\u001b[2K   \u001b[90m━━━━━━━━━━━━━━━━━━━━━━━━━━━━━━━━━━━━━━━━\u001b[0m \u001b[32m144.7/144.7 kB\u001b[0m \u001b[31m7.8 MB/s\u001b[0m eta \u001b[36m0:00:00\u001b[0m\r\n",
      "\u001b[2K   \u001b[90m━━━━━━━━━━━━━━━━━━━━━━━━━━━━━━━━━━━━━━━━\u001b[0m \u001b[32m611.1/611.1 kB\u001b[0m \u001b[31m22.5 MB/s\u001b[0m eta \u001b[36m0:00:00\u001b[0m\r\n",
      "\u001b[2K   \u001b[90m━━━━━━━━━━━━━━━━━━━━━━━━━━━━━━━━━━━━━━━━\u001b[0m \u001b[32m2.4/2.4 MB\u001b[0m \u001b[31m54.5 MB/s\u001b[0m eta \u001b[36m0:00:00\u001b[0m\r\n",
      "\u001b[2K   \u001b[90m━━━━━━━━━━━━━━━━━━━━━━━━━━━━━━━━━━━━━━━━\u001b[0m \u001b[32m100.9/100.9 kB\u001b[0m \u001b[31m6.0 MB/s\u001b[0m eta \u001b[36m0:00:00\u001b[0m\r\n",
      "\u001b[2K   \u001b[90m━━━━━━━━━━━━━━━━━━━━━━━━━━━━━━━━━━━━━━━━\u001b[0m \u001b[32m284.2/284.2 kB\u001b[0m \u001b[31m13.4 MB/s\u001b[0m eta \u001b[36m0:00:00\u001b[0m\r\n",
      "\u001b[2K   \u001b[90m━━━━━━━━━━━━━━━━━━━━━━━━━━━━━━━━━━━━━━━━\u001b[0m \u001b[32m95.2/95.2 kB\u001b[0m \u001b[31m5.1 MB/s\u001b[0m eta \u001b[36m0:00:00\u001b[0m\r\n",
      "\u001b[2K   \u001b[90m━━━━━━━━━━━━━━━━━━━━━━━━━━━━━━━━━━━━━━━━\u001b[0m \u001b[32m2.0/2.0 MB\u001b[0m \u001b[31m49.1 MB/s\u001b[0m eta \u001b[36m0:00:00\u001b[0m\r\n",
      "\u001b[2K   \u001b[90m━━━━━━━━━━━━━━━━━━━━━━━━━━━━━━━━━━━━━━━━\u001b[0m \u001b[32m99.2/99.2 kB\u001b[0m \u001b[31m5.8 MB/s\u001b[0m eta \u001b[36m0:00:00\u001b[0m\r\n",
      "\u001b[2K   \u001b[90m━━━━━━━━━━━━━━━━━━━━━━━━━━━━━━━━━━━━━━━━\u001b[0m \u001b[32m16.0/16.0 MB\u001b[0m \u001b[31m48.1 MB/s\u001b[0m eta \u001b[36m0:00:00\u001b[0m\r\n",
      "\u001b[2K   \u001b[90m━━━━━━━━━━━━━━━━━━━━━━━━━━━━━━━━━━━━━━━━\u001b[0m \u001b[32m55.9/55.9 kB\u001b[0m \u001b[31m2.7 MB/s\u001b[0m eta \u001b[36m0:00:00\u001b[0m\r\n",
      "\u001b[2K   \u001b[90m━━━━━━━━━━━━━━━━━━━━━━━━━━━━━━━━━━━━━━━━\u001b[0m \u001b[32m188.4/188.4 kB\u001b[0m \u001b[31m9.6 MB/s\u001b[0m eta \u001b[36m0:00:00\u001b[0m\r\n",
      "\u001b[2K   \u001b[90m━━━━━━━━━━━━━━━━━━━━━━━━━━━━━━━━━━━━━━━━\u001b[0m \u001b[32m65.3/65.3 kB\u001b[0m \u001b[31m3.1 MB/s\u001b[0m eta \u001b[36m0:00:00\u001b[0m\r\n",
      "\u001b[2K   \u001b[90m━━━━━━━━━━━━━━━━━━━━━━━━━━━━━━━━━━━━━━━━\u001b[0m \u001b[32m119.0/119.0 kB\u001b[0m \u001b[31m5.9 MB/s\u001b[0m eta \u001b[36m0:00:00\u001b[0m\r\n",
      "\u001b[2K   \u001b[90m━━━━━━━━━━━━━━━━━━━━━━━━━━━━━━━━━━━━━━━━\u001b[0m \u001b[32m89.1/89.1 kB\u001b[0m \u001b[31m4.9 MB/s\u001b[0m eta \u001b[36m0:00:00\u001b[0m\r\n",
      "\u001b[2K   \u001b[90m━━━━━━━━━━━━━━━━━━━━━━━━━━━━━━━━━━━━━━━━\u001b[0m \u001b[32m62.4/62.4 kB\u001b[0m \u001b[31m3.1 MB/s\u001b[0m eta \u001b[36m0:00:00\u001b[0m\r\n",
      "\u001b[2K   \u001b[90m━━━━━━━━━━━━━━━━━━━━━━━━━━━━━━━━━━━━━━━━\u001b[0m \u001b[32m442.1/442.1 kB\u001b[0m \u001b[31m21.4 MB/s\u001b[0m eta \u001b[36m0:00:00\u001b[0m\r\n",
      "\u001b[2K   \u001b[90m━━━━━━━━━━━━━━━━━━━━━━━━━━━━━━━━━━━━━━━━\u001b[0m \u001b[32m319.7/319.7 kB\u001b[0m \u001b[31m11.1 MB/s\u001b[0m eta \u001b[36m0:00:00\u001b[0m\r\n",
      "\u001b[2K   \u001b[90m━━━━━━━━━━━━━━━━━━━━━━━━━━━━━━━━━━━━━━━━\u001b[0m \u001b[32m72.0/72.0 kB\u001b[0m \u001b[31m4.2 MB/s\u001b[0m eta \u001b[36m0:00:00\u001b[0m\r\n",
      "\u001b[2K   \u001b[90m━━━━━━━━━━━━━━━━━━━━━━━━━━━━━━━━━━━━━━━━\u001b[0m \u001b[32m3.8/3.8 MB\u001b[0m \u001b[31m74.4 MB/s\u001b[0m eta \u001b[36m0:00:00\u001b[0m\r\n",
      "\u001b[2K   \u001b[90m━━━━━━━━━━━━━━━━━━━━━━━━━━━━━━━━━━━━━━━━\u001b[0m \u001b[32m454.9/454.9 kB\u001b[0m \u001b[31m20.8 MB/s\u001b[0m eta \u001b[36m0:00:00\u001b[0m\r\n",
      "\u001b[2K   \u001b[90m━━━━━━━━━━━━━━━━━━━━━━━━━━━━━━━━━━━━━━━━\u001b[0m \u001b[32m46.0/46.0 kB\u001b[0m \u001b[31m2.0 MB/s\u001b[0m eta \u001b[36m0:00:00\u001b[0m\r\n",
      "\u001b[2K   \u001b[90m━━━━━━━━━━━━━━━━━━━━━━━━━━━━━━━━━━━━━━━━\u001b[0m \u001b[32m86.8/86.8 kB\u001b[0m \u001b[31m4.6 MB/s\u001b[0m eta \u001b[36m0:00:00\u001b[0m\r\n",
      "\u001b[?25h  Building wheel for pypika (pyproject.toml) ... \u001b[?25l\u001b[?25hdone\r\n",
      "\u001b[31mERROR: pip's dependency resolver does not currently take into account all the packages that are installed. This behaviour is the source of the following dependency conflicts.\r\n",
      "google-api-core 1.34.1 requires protobuf!=3.20.0,!=3.20.1,!=4.21.0,!=4.21.1,!=4.21.2,!=4.21.3,!=4.21.4,!=4.21.5,<4.0.0dev,>=3.19.5, but you have protobuf 5.29.4 which is incompatible.\r\n",
      "google-cloud-bigtable 2.27.0 requires google-api-core[grpc]<3.0.0dev,>=2.16.0, but you have google-api-core 1.34.1 which is incompatible.\r\n",
      "google-cloud-translate 3.12.1 requires protobuf!=3.20.0,!=3.20.1,!=4.21.0,!=4.21.1,!=4.21.2,!=4.21.3,!=4.21.4,!=4.21.5,<5.0.0dev,>=3.19.5, but you have protobuf 5.29.4 which is incompatible.\r\n",
      "pandas-gbq 0.25.0 requires google-api-core<3.0.0dev,>=2.10.2, but you have google-api-core 1.34.1 which is incompatible.\r\n",
      "tensorflow 2.17.1 requires protobuf!=4.21.0,!=4.21.1,!=4.21.2,!=4.21.3,!=4.21.4,!=4.21.5,<5.0.0dev,>=3.20.3, but you have protobuf 5.29.4 which is incompatible.\r\n",
      "tensorflow-decision-forests 1.10.0 requires tensorflow==2.17.0, but you have tensorflow 2.17.1 which is incompatible.\r\n",
      "tensorflow-metadata 1.13.1 requires protobuf<5,>=3.20.3, but you have protobuf 5.29.4 which is incompatible.\u001b[0m\u001b[31m\r\n",
      "\u001b[0m"
     ]
    }
   ],
   "source": [
    "#!pip install -Uq \"google-genai==1.7.0\"\n",
    "!pip uninstall -qqy jupyterlab kfp  # Remove unused conflicting packages\n",
    "!pip install -qU \"google-genai==1.7.0\" \"chromadb==0.6.3\""
   ]
  },
  {
   "cell_type": "code",
   "execution_count": 3,
   "id": "3d362ea7",
   "metadata": {
    "execution": {
     "iopub.execute_input": "2025-04-17T23:37:12.856935Z",
     "iopub.status.busy": "2025-04-17T23:37:12.856568Z",
     "iopub.status.idle": "2025-04-17T23:37:14.165713Z",
     "shell.execute_reply": "2025-04-17T23:37:14.164733Z"
    },
    "papermill": {
     "duration": 1.321459,
     "end_time": "2025-04-17T23:37:14.167392",
     "exception": false,
     "start_time": "2025-04-17T23:37:12.845933",
     "status": "completed"
    },
    "tags": []
   },
   "outputs": [
    {
     "data": {
      "text/plain": [
       "'1.7.0'"
      ]
     },
     "execution_count": 3,
     "metadata": {},
     "output_type": "execute_result"
    }
   ],
   "source": [
    "from google import genai\n",
    "from google.genai import types\n",
    "\n",
    "from IPython.display import Markdown, display\n",
    "\n",
    "genai.__version__"
   ]
  },
  {
   "cell_type": "markdown",
   "id": "10e8ba03",
   "metadata": {
    "papermill": {
     "duration": 0.009309,
     "end_time": "2025-04-17T23:37:14.186496",
     "exception": false,
     "start_time": "2025-04-17T23:37:14.177187",
     "status": "completed"
    },
    "tags": []
   },
   "source": [
    "## Set up the API key"
   ]
  },
  {
   "cell_type": "code",
   "execution_count": 4,
   "id": "2f81293d",
   "metadata": {
    "execution": {
     "iopub.execute_input": "2025-04-17T23:37:14.207004Z",
     "iopub.status.busy": "2025-04-17T23:37:14.206436Z",
     "iopub.status.idle": "2025-04-17T23:37:14.801420Z",
     "shell.execute_reply": "2025-04-17T23:37:14.800220Z"
    },
    "papermill": {
     "duration": 0.607405,
     "end_time": "2025-04-17T23:37:14.803425",
     "exception": false,
     "start_time": "2025-04-17T23:37:14.196020",
     "status": "completed"
    },
    "tags": []
   },
   "outputs": [],
   "source": [
    "from kaggle_secrets import UserSecretsClient\n",
    "\n",
    "client = genai.Client(api_key=UserSecretsClient().get_secret(\"GOOGLE_API_KEY\"))"
   ]
  },
  {
   "cell_type": "markdown",
   "id": "6157735e",
   "metadata": {
    "papermill": {
     "duration": 0.010124,
     "end_time": "2025-04-17T23:37:14.823534",
     "exception": false,
     "start_time": "2025-04-17T23:37:14.813410",
     "status": "completed"
    },
    "tags": []
   },
   "source": [
    "## Automated retry\n",
    "\n",
    "This codelab sends a lot of requests, so set up an automatic retry that ensures your requests are retried when per-minute quota is reached.\n"
   ]
  },
  {
   "cell_type": "code",
   "execution_count": 5,
   "id": "25624d1c",
   "metadata": {
    "execution": {
     "iopub.execute_input": "2025-04-17T23:37:14.845648Z",
     "iopub.status.busy": "2025-04-17T23:37:14.845287Z",
     "iopub.status.idle": "2025-04-17T23:37:15.027134Z",
     "shell.execute_reply": "2025-04-17T23:37:15.025948Z"
    },
    "papermill": {
     "duration": 0.195226,
     "end_time": "2025-04-17T23:37:15.029202",
     "exception": false,
     "start_time": "2025-04-17T23:37:14.833976",
     "status": "completed"
    },
    "tags": []
   },
   "outputs": [],
   "source": [
    "from google.api_core import retry\n",
    "\n",
    "is_retriable = lambda e: (isinstance(e, genai.errors.APIError) and e.code in {429, 503})\n",
    "\n",
    "if not hasattr(genai.models.Models.generate_content, '__wrapped__'):\n",
    "  genai.models.Models.generate_content = retry.Retry(\n",
    "      predicate=is_retriable)(genai.models.Models.generate_content)"
   ]
  },
  {
   "cell_type": "markdown",
   "id": "a43bf9f6",
   "metadata": {
    "papermill": {
     "duration": 0.009554,
     "end_time": "2025-04-17T23:37:15.048622",
     "exception": false,
     "start_time": "2025-04-17T23:37:15.039068",
     "status": "completed"
    },
    "tags": []
   },
   "source": [
    "## Model Selection"
   ]
  },
  {
   "cell_type": "code",
   "execution_count": 6,
   "id": "f3be5fc1",
   "metadata": {
    "execution": {
     "iopub.execute_input": "2025-04-17T23:37:15.070576Z",
     "iopub.status.busy": "2025-04-17T23:37:15.069952Z",
     "iopub.status.idle": "2025-04-17T23:37:15.568304Z",
     "shell.execute_reply": "2025-04-17T23:37:15.566961Z"
    },
    "papermill": {
     "duration": 0.512368,
     "end_time": "2025-04-17T23:37:15.570671",
     "exception": false,
     "start_time": "2025-04-17T23:37:15.058303",
     "status": "completed"
    },
    "tags": []
   },
   "outputs": [
    {
     "name": "stdout",
     "output_type": "stream",
     "text": [
      "models/chat-bison-001\n",
      "models/text-bison-001\n",
      "models/embedding-gecko-001\n",
      "models/gemini-1.0-pro-vision-latest\n",
      "models/gemini-pro-vision\n",
      "models/gemini-1.5-pro-latest\n",
      "models/gemini-1.5-pro-001\n",
      "models/gemini-1.5-pro-002\n",
      "models/gemini-1.5-pro\n",
      "models/gemini-1.5-flash-latest\n",
      "models/gemini-1.5-flash-001\n",
      "models/gemini-1.5-flash-001-tuning\n",
      "models/gemini-1.5-flash\n",
      "models/gemini-1.5-flash-002\n",
      "models/gemini-1.5-flash-8b\n",
      "models/gemini-1.5-flash-8b-001\n",
      "models/gemini-1.5-flash-8b-latest\n",
      "models/gemini-1.5-flash-8b-exp-0827\n",
      "models/gemini-1.5-flash-8b-exp-0924\n",
      "models/gemini-2.5-pro-exp-03-25\n",
      "models/gemini-2.5-pro-preview-03-25\n",
      "models/gemini-2.5-flash-preview-04-17\n",
      "models/gemini-2.0-flash-exp\n",
      "models/gemini-2.0-flash\n",
      "models/gemini-2.0-flash-001\n",
      "models/gemini-2.0-flash-exp-image-generation\n",
      "models/gemini-2.0-flash-lite-001\n",
      "models/gemini-2.0-flash-lite\n",
      "models/gemini-2.0-flash-lite-preview-02-05\n",
      "models/gemini-2.0-flash-lite-preview\n",
      "models/gemini-2.0-pro-exp\n",
      "models/gemini-2.0-pro-exp-02-05\n",
      "models/gemini-exp-1206\n",
      "models/gemini-2.0-flash-thinking-exp-01-21\n",
      "models/gemini-2.0-flash-thinking-exp\n",
      "models/gemini-2.0-flash-thinking-exp-1219\n",
      "models/learnlm-1.5-pro-experimental\n",
      "models/learnlm-2.0-flash-experimental\n",
      "models/gemma-3-1b-it\n",
      "models/gemma-3-4b-it\n",
      "models/gemma-3-12b-it\n",
      "models/gemma-3-27b-it\n",
      "models/embedding-001\n",
      "models/text-embedding-004\n",
      "models/gemini-embedding-exp-03-07\n",
      "models/gemini-embedding-exp\n",
      "models/aqa\n",
      "models/imagen-3.0-generate-002\n",
      "models/gemini-2.0-flash-live-001\n"
     ]
    }
   ],
   "source": [
    "for model in client.models.list():\n",
    "  print(model.name)"
   ]
  },
  {
   "cell_type": "markdown",
   "id": "dda22597",
   "metadata": {
    "papermill": {
     "duration": 0.009717,
     "end_time": "2025-04-17T23:37:15.590721",
     "exception": false,
     "start_time": "2025-04-17T23:37:15.581004",
     "status": "completed"
    },
    "tags": []
   },
   "source": [
    "For summarizing the main document, I'm rolling with **gemini-1.5-pro**. It seems pretty reliable and stable for text-based tasks like this.\n",
    "\n",
    "(Quick heads-up though! For the evaluation part later on, I had to switch gears and use **gemini-2.0-flash**.)"
   ]
  },
  {
   "cell_type": "code",
   "execution_count": 7,
   "id": "f96aa8b8",
   "metadata": {
    "execution": {
     "iopub.execute_input": "2025-04-17T23:37:15.618273Z",
     "iopub.status.busy": "2025-04-17T23:37:15.615694Z",
     "iopub.status.idle": "2025-04-17T23:37:15.956907Z",
     "shell.execute_reply": "2025-04-17T23:37:15.955394Z"
    },
    "papermill": {
     "duration": 0.357862,
     "end_time": "2025-04-17T23:37:15.958834",
     "exception": false,
     "start_time": "2025-04-17T23:37:15.600972",
     "status": "completed"
    },
    "tags": []
   },
   "outputs": [
    {
     "name": "stdout",
     "output_type": "stream",
     "text": [
      "{'description': 'Stable version of Gemini 1.5 Pro, our mid-size multimodal '\n",
      "                'model that supports up to 2 million tokens, released in May '\n",
      "                'of 2024.',\n",
      " 'display_name': 'Gemini 1.5 Pro',\n",
      " 'input_token_limit': 2000000,\n",
      " 'name': 'models/gemini-1.5-pro',\n",
      " 'output_token_limit': 8192,\n",
      " 'supported_actions': ['generateContent', 'countTokens'],\n",
      " 'tuned_model_info': {},\n",
      " 'version': '001'}\n"
     ]
    }
   ],
   "source": [
    "from pprint import pprint\n",
    "\n",
    "for model in client.models.list():\n",
    "  if model.name == 'models/gemini-1.5-pro':\n",
    "    pprint(model.to_json_dict())\n",
    "    break"
   ]
  },
  {
   "cell_type": "markdown",
   "id": "02a179cb",
   "metadata": {
    "papermill": {
     "duration": 0.009744,
     "end_time": "2025-04-17T23:37:15.978627",
     "exception": false,
     "start_time": "2025-04-17T23:37:15.968883",
     "status": "completed"
    },
    "tags": []
   },
   "source": [
    "## Document Understanding: Cracking Open the PDF! 🔓\n",
    "\n",
    "So, I've got my super important (but kinda snooze-worthy) terms of service all written down and tucked away in a PDF file. Right here, I'm gonna pull that document in and have Gemini work its magic to give me\n",
    "a quick and easy rundown in plain English – no legal headaches! 🥳"
   ]
  },
  {
   "cell_type": "code",
   "execution_count": 8,
   "id": "ecdf213b",
   "metadata": {
    "execution": {
     "iopub.execute_input": "2025-04-17T23:37:15.999950Z",
     "iopub.status.busy": "2025-04-17T23:37:15.999492Z",
     "iopub.status.idle": "2025-04-17T23:37:18.292370Z",
     "shell.execute_reply": "2025-04-17T23:37:18.291169Z"
    },
    "papermill": {
     "duration": 2.305932,
     "end_time": "2025-04-17T23:37:18.294383",
     "exception": false,
     "start_time": "2025-04-17T23:37:15.988451",
     "status": "completed"
    },
    "tags": []
   },
   "outputs": [],
   "source": [
    "document_file = client.files.upload(file='/kaggle/input/sample-terms-of-service/sample_terms_of_service.pdf')"
   ]
  },
  {
   "cell_type": "markdown",
   "id": "8c704774",
   "metadata": {
    "papermill": {
     "duration": 0.009631,
     "end_time": "2025-04-17T23:37:18.314347",
     "exception": false,
     "start_time": "2025-04-17T23:37:18.304716",
     "status": "completed"
    },
    "tags": []
   },
   "source": [
    "## Few-Shot Prompt: Making it Friendly! 🎉\n",
    "\n",
    "The summary I got above is okay, but let's dial up the friendliness! To get Gemini to be a bit more casual and throw in some fun emoji, I am going to use a \"few-shot prompt.\" Think of it as showing Gemini a few examples of how I want the translations to sound – super chill and emoji-packed! 😎"
   ]
  },
  {
   "cell_type": "code",
   "execution_count": 9,
   "id": "08c48c3c",
   "metadata": {
    "execution": {
     "iopub.execute_input": "2025-04-17T23:37:18.336443Z",
     "iopub.status.busy": "2025-04-17T23:37:18.336062Z",
     "iopub.status.idle": "2025-04-17T23:37:33.379586Z",
     "shell.execute_reply": "2025-04-17T23:37:33.378196Z"
    },
    "papermill": {
     "duration": 15.056646,
     "end_time": "2025-04-17T23:37:33.381341",
     "exception": false,
     "start_time": "2025-04-17T23:37:18.324695",
     "status": "completed"
    },
    "tags": []
   },
   "outputs": [
    {
     "name": "stdout",
     "output_type": "stream",
     "text": [
      "Dig-A-Hole Terms of Service - The Friendly Version 😊\n",
      "\n",
      "**1. The Agreement:** This is a contract between you and us (Dig-A-Hole). By using our services, you're saying you've read and agree to these rules.  🤝\n",
      "\n",
      "**2. What We Do:** We provide a place for you to dig holes! 🕳️  It's for fun and stress relief. We offer:\n",
      "* **Digging Access:**  Come dig in our designated area.\n",
      "* **Free Trial Dig:** First dig is free! 🎉\n",
      "* **Monthly Subscription:** Pay monthly to dig as much as you want. 🗓️\n",
      "* **Shovel Rental:** We rent shovels if you need one. 🥄 (Extra cost, might not always be available)\n",
      "\n",
      "**3. Subscriptions & Payment:**\n",
      "* **Minimum One Month:**  Subscriptions last at least one month.\n",
      "* **Subscription Fees:**  Check our website or facility for prices. 💰\n",
      "* **Billing:** We bill you monthly.\n",
      "* **Payment Methods:**  We take various payment methods (see website/facility).  Make sure your payment info is up-to-date! 💳\n",
      "* **Cancellation:** You can cancel anytime, but you still have to pay for the current month. No refunds for partial months. 🙅‍♀️\n",
      "\n",
      "**4. Shovel Rental:**\n",
      "* Rent shovels for an extra fee.  Please return them in good condition (normal wear and tear is okay).  If you break or lose a shovel, you'll have to pay for it. 💸\n",
      "\n",
      "**5. Safety & Risks:** Digging can be dangerous! ⚠️  You might get tired, hurt yourself, trip, or get injured by tools or rocks. You're responsible for your own safety, and by digging here, you agree not to blame us if something happens.\n",
      "\n",
      "**6. Don't Sue Us:**  Legally speaking, you're agreeing not to sue us for anything that happens while you're digging, even if it's our fault (within reason, of course).  You also agree to protect us from any legal trouble if someone tries to sue us because of something *you* did while digging. 🙏\n",
      "\n",
      "**7. Not Doctors:** We're not medical professionals.  Talk to your doctor before digging, especially if you have health issues.  We're not responsible for medical bills if you get hurt. 🚑\n",
      "\n",
      "**8. Be Nice:** Be respectful and responsible while you're here.  We can refuse service to anyone who is unsafe, disruptive, or inappropriate.  🚫\n",
      "\n",
      "**9. We Can Change the Rules:** We might update these terms anytime.  Changes are effective immediately when posted.  Keep checking back! 🔄\n",
      "\n",
      "**10. Legal Stuff:** Ohio law applies to this agreement. Any legal disputes will be handled in Columbus, OH courts. ⚖️\n",
      "\n",
      "**11. The Whole Story:** This document is the complete agreement between us.\n",
      "\n",
      "**12. Questions?** Contact us! 📞📧\n",
      "\n",
      "\n",
      "By digging with us, you agree to all of this! Happy digging! 😄\n",
      "\n"
     ]
    }
   ],
   "source": [
    "model_config = types.GenerateContentConfig(\n",
    "    temperature=0.0\n",
    ")\n",
    "\n",
    "few_shot_prompt = \"\"\"\n",
    "Here are some examples of how to translate leagal terms of service and their friendly summaries using emoji:\n",
    "\n",
    "Original: \"We reserve the right to accept or refuse membership in our discretion.\" \n",
    "Translated: \"We get to say yay 👍 or nay 👎 to memberships, just because we can💪!\"\n",
    "\n",
    "Original: \"To the maximum extent permitted by law, you agree that the Company shall not be held liable for any injuries, damages, or losses incurred in connection with the use of our services or products. By using our services, you waive any right to bring a claim or lawsuit against us for such injuries.\"\n",
    "Translated: \"Oops! If you trip, slip, or fall dramatically and get hurt while using our stuff, please don’t sue us 😅🙏. By hanging out with us, you're saying, 'Okay cool, I won't blame you if I bonk myself💖'\"\n",
    "\n",
    "Please summarize the following terms of servicein plain, easy-to-undersand English with emoji.\n",
    "\"\"\"\n",
    "\n",
    "response = client.models.generate_content(\n",
    "    model='gemini-1.5-pro',\n",
    "    config=model_config,\n",
    "    contents=[few_shot_prompt, document_file],\n",
    ")\n",
    "\n",
    "print(response.text)"
   ]
  },
  {
   "cell_type": "code",
   "execution_count": 10,
   "id": "5705fa56",
   "metadata": {
    "execution": {
     "iopub.execute_input": "2025-04-17T23:37:33.402624Z",
     "iopub.status.busy": "2025-04-17T23:37:33.402277Z",
     "iopub.status.idle": "2025-04-17T23:37:42.488974Z",
     "shell.execute_reply": "2025-04-17T23:37:42.487948Z"
    },
    "papermill": {
     "duration": 9.099246,
     "end_time": "2025-04-17T23:37:42.490825",
     "exception": false,
     "start_time": "2025-04-17T23:37:33.391579",
     "status": "completed"
    },
    "tags": []
   },
   "outputs": [
    {
     "data": {
      "text/markdown": [
       "Dig-A-Hole's Terms of Service basically say:\n",
       "\n",
       "* **Digging Holes:**  We let you dig holes in our field for fun and stress relief. You can try it once for free, then you need a monthly subscription. You can also rent shovels.\n",
       "* **Agreement:** By using our services, you agree to these rules.\n",
       "* **Subscriptions:** Subscriptions are monthly. You can cancel anytime, but you have to pay for the full month even if you cancel mid-month. No refunds for partial months.\n",
       "* **Shovel Rental:** You can rent shovels for an extra fee. You're responsible for any damage or loss beyond normal wear and tear.\n",
       "* **Safety:** Digging has risks (getting tired, injuries, etc.). You're responsible for your own safety. We're not liable for anything that happens to you while digging.\n",
       "* **Liability:** You agree not to sue us for anything related to using our services, and you agree to cover our legal costs if someone sues us because of something you did.\n",
       "* **Medical:** We don't offer medical services. See a doctor before digging, especially if you have health issues. We're not responsible for your medical bills.\n",
       "* **Behavior:** Behave respectfully. We can refuse service to anyone disruptive or unsafe.\n",
       "* **Changes:** We can change these terms anytime.  Using our services after a change means you accept the new terms.\n",
       "* **Law:** Ohio law applies to these terms. Any disputes will be handled in Columbus, Ohio courts.\n",
       "* **Contact:**  Contact information is provided if you have questions.\n",
       "\n",
       "\n",
       "In short, you pay to dig holes, you're responsible for your own safety and actions, and we're not liable for much.  Have fun digging!\n"
      ],
      "text/plain": [
       "<IPython.core.display.Markdown object>"
      ]
     },
     "execution_count": 10,
     "metadata": {},
     "output_type": "execute_result"
    }
   ],
   "source": [
    "request = 'Please summarize the following terms of servicein plain, easy-to-undersand English:'\n",
    "\n",
    "def translate_doc(request: str) -> str:\n",
    "  \"\"\"Execute the request on the uploaded document.\"\"\"\n",
    "  # Set the temperature low to stabilise the output.\n",
    "  config = types.GenerateContentConfig(temperature=0.0)\n",
    "  response = client.models.generate_content(\n",
    "      model='gemini-1.5-pro',\n",
    "      config=config,\n",
    "      contents=[request, document_file],\n",
    "  )\n",
    "\n",
    "  return response.text\n",
    "\n",
    "summary = translate_doc(request)\n",
    "Markdown(summary)"
   ]
  },
  {
   "cell_type": "code",
   "execution_count": 11,
   "id": "51b9372b",
   "metadata": {
    "execution": {
     "iopub.execute_input": "2025-04-17T23:37:42.513025Z",
     "iopub.status.busy": "2025-04-17T23:37:42.512644Z",
     "iopub.status.idle": "2025-04-17T23:37:46.087642Z",
     "shell.execute_reply": "2025-04-17T23:37:46.086588Z"
    },
    "papermill": {
     "duration": 3.588855,
     "end_time": "2025-04-17T23:37:46.089763",
     "exception": false,
     "start_time": "2025-04-17T23:37:42.500908",
     "status": "completed"
    },
    "tags": []
   },
   "outputs": [
    {
     "data": {
      "text/markdown": [
       "Hey there!  So, about the shovels at Dig-A-Hole 🕳️, you can rent them for an extra fee 💰, but it depends if they have any available when you're there 🤷‍♀️.  Just remember to bring them back in good shape (normal wear and tear is okay 😉) or you might have to pay for damages 💸.\n"
      ],
      "text/plain": [
       "<IPython.core.display.Markdown object>"
      ]
     },
     "execution_count": 11,
     "metadata": {},
     "output_type": "execute_result"
    }
   ],
   "source": [
    "request2 = 'Please read the following terms of service and tell me the shoes rental policy in a friendly, casual way using emoji. \\\n",
    "if you can not find the information, you can say you do not know:'\n",
    "\n",
    "def translate_doc2(request2: str) -> str:\n",
    "  \"\"\"Execute the request on the uploaded document.\"\"\"\n",
    "  # Set the temperature low to stabilise the output.\n",
    "  config = types.GenerateContentConfig(temperature=0.0)\n",
    "  response2 = client.models.generate_content(\n",
    "      model='gemini-1.5-pro',\n",
    "      config=config,\n",
    "      contents=[request2, document_file],\n",
    "  )\n",
    "\n",
    "  return response2.text\n",
    "\n",
    "summary2 = translate_doc(request2)\n",
    "Markdown(summary2)"
   ]
  },
  {
   "cell_type": "markdown",
   "id": "a3271dab",
   "metadata": {
    "papermill": {
     "duration": 0.009821,
     "end_time": "2025-04-17T23:37:46.110081",
     "exception": false,
     "start_time": "2025-04-17T23:37:46.100260",
     "status": "completed"
    },
    "tags": []
   },
   "source": [
    "## JSON: Keeping Things Linked\n",
    "\n",
    "Good summaries so far! Now, let's structure things with JSON to keep each \"Original\" legal term directly linked to its \"Translated\" buddy. "
   ]
  },
  {
   "cell_type": "code",
   "execution_count": 12,
   "id": "b2442632",
   "metadata": {
    "execution": {
     "iopub.execute_input": "2025-04-17T23:37:46.132976Z",
     "iopub.status.busy": "2025-04-17T23:37:46.132605Z",
     "iopub.status.idle": "2025-04-17T23:38:37.566502Z",
     "shell.execute_reply": "2025-04-17T23:38:37.565331Z"
    },
    "papermill": {
     "duration": 51.458439,
     "end_time": "2025-04-17T23:38:37.579692",
     "exception": false,
     "start_time": "2025-04-17T23:37:46.121253",
     "status": "completed"
    },
    "tags": []
   },
   "outputs": [
    {
     "name": "stdout",
     "output_type": "stream",
     "text": [
      "[\n",
      "    {\n",
      "        \"Original\": \"These Terms of Service constitute a legally binding agreement between you (\\\"Customer,\\\" \\\"you,\\\" or \\\"your\\\") and Dig-A-Hole (\\\"Dig-A-Hole,\\\" \\\"we,\\\" \\\"us,\\\" or \\\"our\\\"). By using our services, you acknowledge that you have read, understood, and agree to be bound by these Terms.\",\n",
      "        \"Translated\": \"This is like a pinky swear 🤝 between you (that's you!) and us (Dig-A-Hole!). By using our services, you're saying \\\"I get it, and I'm in! 👍\\\"\"\n",
      "    },\n",
      "    {\n",
      "        \"Original\": \"Dig-A-Hole provides a facility where customers can engage in the activity of digging holes in designated areas of a field. Our services are intended for recreational exercise and stress relief.\",\n",
      "        \"Translated\": \"We've got a place where you can dig holes to your heart's content! 🕳️ It's great for exercise and chilling out. 😎\"\n",
      "    },\n",
      "    {\n",
      "        \"Original\": \"Digging Access: Access to a designated field area for the purpose of digging holes.\",\n",
      "        \"Translated\": \"You get to dig in our special digging zone! 🚧\"\n",
      "    },\n",
      "    {\n",
      "        \"Original\": \"Free Trial Dig: New customers are eligible for one (1) complimentary digging session before requiring a subscription.\",\n",
      "        \"Translated\": \"First dig is on us! 🎉 Try it out before you subscribe.\"\n",
      "    },\n",
      "    {\n",
      "        \"Original\": \"Monthly Subscription Plan: Customers can subscribe to a monthly plan for ongoing access to our digging facilities.\",\n",
      "        \"Translated\": \"Keep digging with our monthly plan! 🗓️\"\n",
      "    },\n",
      "    {\n",
      "        \"Original\": \"Shovel Rental Add-On: Customers have the option to rent shovels for an additional fee, subject to availability.\",\n",
      "        \"Translated\": \"Need a shovel? 🥄 We rent those too (if we have any left!).\"\n",
      "    },\n",
      "    {\n",
      "        \"Original\": \"Minimum Subscription Period: All subscriptions have a minimum commitment of one (1) full month.\",\n",
      "        \"Translated\": \"Subscriptions are for at least one month.🗓️\"\n",
      "    },\n",
      "    {\n",
      "        \"Original\": \"Subscription Fees: The monthly subscription fee will be clearly communicated on our website or at our facility.\",\n",
      "        \"Translated\": \"We'll tell you how much it costs on our website and at our place. 💰\"\n",
      "    },\n",
      "    {\n",
      "        \"Original\": \"Billing: Subscription fees will be billed on a recurring monthly basis, commencing on the date of your initial subscription.\",\n",
      "        \"Translated\": \"We'll charge you every month, starting from when you first signed up. 💳\"\n",
      "    },\n",
      "    {\n",
      "        \"Original\": \"Payment Methods: We accept the payment methods specified on our website or at our facility. You agree to provide accurate and up-to-date payment information.\",\n",
      "        \"Translated\": \"Check our website or our facility for ways to pay. Make sure your payment info is up-to-date! 💵\"\n",
      "    },\n",
      "    {\n",
      "        \"Original\": \"Cancellation: You may cancel your subscription at any time. However, due to the minimum one-month commitment, you will be responsible for the full payment of the current billing cycle in which you cancel, and your access will continue until the end of that paid month. No refunds will be provided for partial months.\",\n",
      "        \"Translated\": \"You can cancel anytime, but you gotta pay for the whole month you're in. No partial refunds! 🙅\"\n",
      "    },\n",
      "    {\n",
      "        \"Original\": \"Shovels are available for rent on an add-on basis, subject to availability and an additional fee.\",\n",
      "        \"Translated\": \"Rent a shovel if you need one (while supplies last). Extra fees apply. 🥄\"\n",
      "    },\n",
      "    {\n",
      "        \"Original\": \"Customers renting shovels are responsible for their proper use and return in the same condition (excluding normal wear and tear).\",\n",
      "        \"Translated\": \"Take care of the shovels! Return them how you found them (normal wear and tear is okay). ✨\"\n",
      "    },\n",
      "    {\n",
      "        \"Original\": \"Dig-A-Hole reserves the right to charge for any damage to or loss of rented shovels.\",\n",
      "        \"Translated\": \"If you break or lose a shovel, we might charge you. 😬\"\n",
      "    },\n",
      "    {\n",
      "        \"Original\": \"Engaging in digging activities involves inherent risks, including but not limited to: Physical exertion and fatigue; Muscle strains, sprains, and other bodily injuries; Tripping, slipping, and falling; Injuries caused by contact with the ground, rocks, or other objects; Injuries resulting from the misuse of tools, including shovels; Exposure to weather conditions.\",\n",
      "        \"Translated\": \"Digging can be risky! You might get tired, pull a muscle, trip, or get hurt by rocks or tools. Be careful! ⚠️\"\n",
      "    },\n",
      "    {\n",
      "        \"Original\": \"By participating in digging activities at Dig-A-Hole, you acknowledge and voluntarily assume all such risks. You are responsible for ensuring your own safety and well-being while on our premises.\",\n",
      "        \"Translated\": \"You're responsible for your own safety while digging. Be smart! 🤓\"\n",
      "    },\n",
      "    {\n",
      "        \"Original\": \"To the fullest extent permitted by applicable law: You hereby release and forever discharge Dig-A-Hole, its owners, officers, directors, employees, agents, and affiliates from any and all claims, demands, actions, causes of action, damages, losses, expenses, and liabilities of any kind or nature whatsoever, whether known or unknown, arising out of or in any way connected with your use of Dig-A-Hole's facilities or participation in digging activities, including but not limited to any injuries you may sustain.\",\n",
      "        \"Translated\": \"Legally speaking, you can't sue us if you get hurt while digging (unless it's our fault, of course!).\"\n",
      "    },\n",
      "    {\n",
      "        \"Original\": \"You agree to indemnify, defend, and hold harmless Dig-A-Hole, its owners, officers, directors, employees, agents, and affiliates from and against any and all claims, demands, actions, causes of action, damages, losses, expenses (including attorneys' fees), and liabilities of any kind or nature whatsoever arising out of or in any way connected with your breach of these Terms of Service or your negligent or willful misconduct while using our services or facilities.\",\n",
      "        \"Translated\": \"If you break the rules and cause us trouble, you're on the hook for any costs or problems. 🚓\"\n",
      "    },\n",
      "    {\n",
      "        \"Original\": \"Dig-A-Hole does not provide medical services or advice. We recommend that you consult with your physician before participating in any physical activity, especially if you have any pre-existing medical conditions.\",\n",
      "        \"Translated\": \"We're not doctors! See a real doctor before digging, especially if you have health issues. 👩‍⚕️\"\n",
      "    },\n",
      "    {\n",
      "        \"Original\": \"You understand and agree that Dig-A-Hole will not be responsible for any medical expenses incurred by you as a result of any injury sustained while using our facilities or participating in digging activities. You are solely responsible for your own health and safety.\",\n",
      "        \"Translated\": \"You're on your own for medical bills if you get hurt. Be safe! 💖\"\n",
      "    },\n",
      "    {\n",
      "        \"Original\": \"Customers are expected to conduct themselves in a respectful and responsible manner while on Dig-A-Hole property. We reserve the right to refuse service to anyone who, in our sole discretion, engages in unsafe, disruptive, or inappropriate behavior.\",\n",
      "        \"Translated\": \"Be nice and respectful! We can kick you out if you're being unsafe or disruptive. 🚫\"\n",
      "    },\n",
      "    {\n",
      "        \"Original\": \"Dig-A-Hole reserves the right to modify or update these Terms of Service at any time without prior notice. Any changes will be effective immediately upon posting on our website or at our facility. Your continued use of our services after the posting of any revised Terms constitutes your acceptance of such changes.\",\n",
      "        \"Translated\": \"We can change these rules anytime! Check our website or our place for updates. If you keep digging after we change the rules, it means you agree to them.\"\n",
      "    },\n",
      "    {\n",
      "        \"Original\": \"These Terms of Service shall be governed by and construed in accordance with the laws of the State of Ohio, without regard to its conflict of law principles. Any dispute arising out of or relating to these Terms or your use of our services shall be exclusively resolved in the state or federal courts located in Columbus, OH, and you hereby consent to the jurisdiction of such courts.\",\n",
      "        \"Translated\": \"Ohio law applies to these rules. Any legal stuff happens in Columbus, OH. 🏛️\"\n",
      "    },\n",
      "    {\n",
      "        \"Original\": \"These Terms of Service constitute the entire agreement between you and Dig-A-Hole with respect to the subject matter hereof and supersede all prior or contemporaneous communications and proposals, whether oral or written.\",\n",
      "        \"Translated\": \"This is the whole agreement, folks! Everything else we've said or written before doesn't count.\"\n",
      "    },\n",
      "    {\n",
      "        \"Original\": \"If you have any questions about these Terms of Service, please contact us at: Dig-A-Hole [123 dig, awesometown, Columbus, OH] [digaholeA++++++++++++@gmail.com] [555-5555]\",\n",
      "        \"Translated\": \"Questions? Contact us! 📧📞\"\n",
      "    }\n",
      "]\n"
     ]
    }
   ],
   "source": [
    "import json\n",
    "\n",
    "few_shot_prompt = \"\"\"\n",
    "Please translate the following terms of service to more casual,friendly, easy-to-understand English with emoji. The output should be a JSON array and each element is\n",
    "a JSON object with the \"Original\" and \"Translated\" version.\n",
    "Here are some examples of how to translate leagal terms of service and their friendly summaries using emoji:\n",
    "```\n",
    "{\n",
    "Original: \"We reserve the right to accept or refuse membership in our discretion.\" \n",
    "Translated: \"We get to say yay 👍 or nay 👎 to memberships, just because we can💪!\"\n",
    "}\n",
    "{\n",
    "Original: \"To the maximum extent permitted by law, you agree that the Company shall not be held liable for any injuries, damages, or losses incurred in connection with the use of our services or products. By using our services, you waive any right to bring a claim or lawsuit against us for such injuries.\"\n",
    "Translated: \"Oops!😳 If you trip, slip, or fall dramatically and get hurt🤕 while using our stuff, please don’t sue us 😅🙏. By hanging out with us, you're saying, 'Okay cool, I won't blame you if I bonk myself💖'\"\n",
    "}\n",
    "```\n",
    "\n",
    "\"\"\"\n",
    "\n",
    "response = client.models.generate_content(\n",
    "    model='gemini-1.5-pro',\n",
    "    contents= [few_shot_prompt, document_file],\n",
    "    config={\n",
    "        'response_mime_type': 'application/json'\n",
    "    },\n",
    ")\n",
    "     \n",
    "#print(response.text)\n",
    "\n",
    "response_load = json.loads(response.text)\n",
    "print(json.dumps(response_load, indent=4, ensure_ascii=False))"
   ]
  },
  {
   "cell_type": "code",
   "execution_count": 13,
   "id": "84c71c14",
   "metadata": {
    "execution": {
     "iopub.execute_input": "2025-04-17T23:38:37.602476Z",
     "iopub.status.busy": "2025-04-17T23:38:37.602053Z",
     "iopub.status.idle": "2025-04-17T23:38:37.625332Z",
     "shell.execute_reply": "2025-04-17T23:38:37.624188Z"
    },
    "papermill": {
     "duration": 0.036762,
     "end_time": "2025-04-17T23:38:37.627385",
     "exception": false,
     "start_time": "2025-04-17T23:38:37.590623",
     "status": "completed"
    },
    "tags": []
   },
   "outputs": [
    {
     "name": "stdout",
     "output_type": "stream",
     "text": [
      "\n",
      "Parsed JSON Summary:\n",
      "\n",
      "Item 1:\n",
      "  Original: These Terms of Service constitute a legally binding agreement between you (\"Customer,\" \"you,\" or \"your\") and Dig-A-Hole (\"Dig-A-Hole,\" \"we,\" \"us,\" or \"our\"). By using our services, you acknowledge that you have read, understood, and agree to be bound by these Terms.\n",
      "  Translated: This is like a pinky swear 🤝 between you (that's you!) and us (Dig-A-Hole!). By using our services, you're saying \"I get it, and I'm in! 👍\"\n",
      "\n",
      "Item 2:\n",
      "  Original: Dig-A-Hole provides a facility where customers can engage in the activity of digging holes in designated areas of a field. Our services are intended for recreational exercise and stress relief.\n",
      "  Translated: We've got a place where you can dig holes to your heart's content! 🕳️ It's great for exercise and chilling out. 😎\n",
      "\n",
      "Item 3:\n",
      "  Original: Digging Access: Access to a designated field area for the purpose of digging holes.\n",
      "  Translated: You get to dig in our special digging zone! 🚧\n",
      "\n",
      "Item 4:\n",
      "  Original: Free Trial Dig: New customers are eligible for one (1) complimentary digging session before requiring a subscription.\n",
      "  Translated: First dig is on us! 🎉 Try it out before you subscribe.\n",
      "\n",
      "Item 5:\n",
      "  Original: Monthly Subscription Plan: Customers can subscribe to a monthly plan for ongoing access to our digging facilities.\n",
      "  Translated: Keep digging with our monthly plan! 🗓️\n",
      "\n",
      "Item 6:\n",
      "  Original: Shovel Rental Add-On: Customers have the option to rent shovels for an additional fee, subject to availability.\n",
      "  Translated: Need a shovel? 🥄 We rent those too (if we have any left!).\n",
      "\n",
      "Item 7:\n",
      "  Original: Minimum Subscription Period: All subscriptions have a minimum commitment of one (1) full month.\n",
      "  Translated: Subscriptions are for at least one month.🗓️\n",
      "\n",
      "Item 8:\n",
      "  Original: Subscription Fees: The monthly subscription fee will be clearly communicated on our website or at our facility.\n",
      "  Translated: We'll tell you how much it costs on our website and at our place. 💰\n",
      "\n",
      "Item 9:\n",
      "  Original: Billing: Subscription fees will be billed on a recurring monthly basis, commencing on the date of your initial subscription.\n",
      "  Translated: We'll charge you every month, starting from when you first signed up. 💳\n",
      "\n",
      "Item 10:\n",
      "  Original: Payment Methods: We accept the payment methods specified on our website or at our facility. You agree to provide accurate and up-to-date payment information.\n",
      "  Translated: Check our website or our facility for ways to pay. Make sure your payment info is up-to-date! 💵\n",
      "\n",
      "Item 11:\n",
      "  Original: Cancellation: You may cancel your subscription at any time. However, due to the minimum one-month commitment, you will be responsible for the full payment of the current billing cycle in which you cancel, and your access will continue until the end of that paid month. No refunds will be provided for partial months.\n",
      "  Translated: You can cancel anytime, but you gotta pay for the whole month you're in. No partial refunds! 🙅\n",
      "\n",
      "Item 12:\n",
      "  Original: Shovels are available for rent on an add-on basis, subject to availability and an additional fee.\n",
      "  Translated: Rent a shovel if you need one (while supplies last). Extra fees apply. 🥄\n",
      "\n",
      "Item 13:\n",
      "  Original: Customers renting shovels are responsible for their proper use and return in the same condition (excluding normal wear and tear).\n",
      "  Translated: Take care of the shovels! Return them how you found them (normal wear and tear is okay). ✨\n",
      "\n",
      "Item 14:\n",
      "  Original: Dig-A-Hole reserves the right to charge for any damage to or loss of rented shovels.\n",
      "  Translated: If you break or lose a shovel, we might charge you. 😬\n",
      "\n",
      "Item 15:\n",
      "  Original: Engaging in digging activities involves inherent risks, including but not limited to: Physical exertion and fatigue; Muscle strains, sprains, and other bodily injuries; Tripping, slipping, and falling; Injuries caused by contact with the ground, rocks, or other objects; Injuries resulting from the misuse of tools, including shovels; Exposure to weather conditions.\n",
      "  Translated: Digging can be risky! You might get tired, pull a muscle, trip, or get hurt by rocks or tools. Be careful! ⚠️\n",
      "\n",
      "Item 16:\n",
      "  Original: By participating in digging activities at Dig-A-Hole, you acknowledge and voluntarily assume all such risks. You are responsible for ensuring your own safety and well-being while on our premises.\n",
      "  Translated: You're responsible for your own safety while digging. Be smart! 🤓\n",
      "\n",
      "Item 17:\n",
      "  Original: To the fullest extent permitted by applicable law: You hereby release and forever discharge Dig-A-Hole, its owners, officers, directors, employees, agents, and affiliates from any and all claims, demands, actions, causes of action, damages, losses, expenses, and liabilities of any kind or nature whatsoever, whether known or unknown, arising out of or in any way connected with your use of Dig-A-Hole's facilities or participation in digging activities, including but not limited to any injuries you may sustain.\n",
      "  Translated: Legally speaking, you can't sue us if you get hurt while digging (unless it's our fault, of course!).\n",
      "\n",
      "Item 18:\n",
      "  Original: You agree to indemnify, defend, and hold harmless Dig-A-Hole, its owners, officers, directors, employees, agents, and affiliates from and against any and all claims, demands, actions, causes of action, damages, losses, expenses (including attorneys' fees), and liabilities of any kind or nature whatsoever arising out of or in any way connected with your breach of these Terms of Service or your negligent or willful misconduct while using our services or facilities.\n",
      "  Translated: If you break the rules and cause us trouble, you're on the hook for any costs or problems. 🚓\n",
      "\n",
      "Item 19:\n",
      "  Original: Dig-A-Hole does not provide medical services or advice. We recommend that you consult with your physician before participating in any physical activity, especially if you have any pre-existing medical conditions.\n",
      "  Translated: We're not doctors! See a real doctor before digging, especially if you have health issues. 👩‍⚕️\n",
      "\n",
      "Item 20:\n",
      "  Original: You understand and agree that Dig-A-Hole will not be responsible for any medical expenses incurred by you as a result of any injury sustained while using our facilities or participating in digging activities. You are solely responsible for your own health and safety.\n",
      "  Translated: You're on your own for medical bills if you get hurt. Be safe! 💖\n",
      "\n",
      "Item 21:\n",
      "  Original: Customers are expected to conduct themselves in a respectful and responsible manner while on Dig-A-Hole property. We reserve the right to refuse service to anyone who, in our sole discretion, engages in unsafe, disruptive, or inappropriate behavior.\n",
      "  Translated: Be nice and respectful! We can kick you out if you're being unsafe or disruptive. 🚫\n",
      "\n",
      "Item 22:\n",
      "  Original: Dig-A-Hole reserves the right to modify or update these Terms of Service at any time without prior notice. Any changes will be effective immediately upon posting on our website or at our facility. Your continued use of our services after the posting of any revised Terms constitutes your acceptance of such changes.\n",
      "  Translated: We can change these rules anytime! Check our website or our place for updates. If you keep digging after we change the rules, it means you agree to them.\n",
      "\n",
      "Item 23:\n",
      "  Original: These Terms of Service shall be governed by and construed in accordance with the laws of the State of Ohio, without regard to its conflict of law principles. Any dispute arising out of or relating to these Terms or your use of our services shall be exclusively resolved in the state or federal courts located in Columbus, OH, and you hereby consent to the jurisdiction of such courts.\n",
      "  Translated: Ohio law applies to these rules. Any legal stuff happens in Columbus, OH. 🏛️\n",
      "\n",
      "Item 24:\n",
      "  Original: These Terms of Service constitute the entire agreement between you and Dig-A-Hole with respect to the subject matter hereof and supersede all prior or contemporaneous communications and proposals, whether oral or written.\n",
      "  Translated: This is the whole agreement, folks! Everything else we've said or written before doesn't count.\n",
      "\n",
      "Item 25:\n",
      "  Original: If you have any questions about these Terms of Service, please contact us at: Dig-A-Hole [123 dig, awesometown, Columbus, OH] [digaholeA++++++++++++@gmail.com] [555-5555]\n",
      "  Translated: Questions? Contact us! 📧📞\n"
     ]
    }
   ],
   "source": [
    "#I've got my data all nicely packed in JSON. But what if I want to parse it?  \n",
    "#Here's how I do the parsed summary.\n",
    "\n",
    "import json\n",
    "import re\n",
    "\n",
    "try:\n",
    "    print(\"\\nParsed JSON Summary:\")\n",
    "\n",
    "    if isinstance(response_load, list):\n",
    "        for i, item in enumerate(response_load, start=1):\n",
    "            original = item.get('Original', '[Missing original]')\n",
    "            translated = item.get('Translated', '[Missing translated]')\n",
    "            print(f\"\\nItem {i}:\")\n",
    "            print(f\"  Original: {original}\")\n",
    "            print(f\"  Translated: {translated}\")\n",
    "    else:\n",
    "        print(\"Expected a JSON array but received a different structure.\")\n",
    "except json.JSONDecodeError as e:\n",
    "    print(\"\\nError decoding JSON:\")\n",
    "    print(f\"  {e}\")\n",
    "    print(\"The output does not appear to be valid JSON.\")"
   ]
  },
  {
   "cell_type": "markdown",
   "id": "ba65c1eb",
   "metadata": {
    "papermill": {
     "duration": 0.01183,
     "end_time": "2025-04-17T23:38:37.650461",
     "exception": false,
     "start_time": "2025-04-17T23:38:37.638631",
     "status": "completed"
    },
    "tags": []
   },
   "source": [
    "## Define an Evaluator: Checking the Translation Quality\n",
    "\n",
    "My friendly translation are looking good against the original text. Now, the question is: how well did my translator actually do?\n",
    "\n",
    "In this section, I'm going to put the translations to the test by focusing on a few key things that matter:\n",
    "\n",
    "* **Clarity:** How easy is the translated text to understand for someone without a law degree?\n",
    "* **Friendliness:** Did the translation nail that approachable and emoji-filled vibe I was going for?\n",
    "* **Completeness:** Did it capture all the important info from the original legal stuff?\n",
    "\n",
    "To figure this out, I've set up a simple rating system, giving a score from 1 to 5. I've also laid out the evaluation steps. Let's see how they measure up!\n",
    "\n",
    "**Important:** To keep things running smoothly and avoid any hiccups with rate limits, I'm only going to evaluate the first three items from the terms of service for now. But I believe this will give me a good initial idea of how well the translator is performing."
   ]
  },
  {
   "cell_type": "code",
   "execution_count": 14,
   "id": "1f7741fa",
   "metadata": {
    "execution": {
     "iopub.execute_input": "2025-04-17T23:38:37.673376Z",
     "iopub.status.busy": "2025-04-17T23:38:37.672985Z",
     "iopub.status.idle": "2025-04-17T23:38:43.104000Z",
     "shell.execute_reply": "2025-04-17T23:38:43.102660Z"
    },
    "papermill": {
     "duration": 5.444835,
     "end_time": "2025-04-17T23:38:43.105806",
     "exception": false,
     "start_time": "2025-04-17T23:38:37.660971",
     "status": "completed"
    },
    "tags": []
   },
   "outputs": [
    {
     "name": "stdout",
     "output_type": "stream",
     "text": [
      "Original: These Terms of Service constitute a legally binding agreement between you (\"Customer,\" \"you,\" or \"your\") and Dig-A-Hole (\"Dig-A-Hole,\" \"we,\" \"us,\" or \"our\"). By using our services, you acknowledge that you have read, understood, and agree to be bound by these Terms.\n",
      "Translated: This is like a pinky swear 🤝 between you (that's you!) and us (Dig-A-Hole!). By using our services, you're saying \"I get it, and I'm in! 👍\"\n",
      "Verbose Evaluation:\n",
      "## Evaluation:\n",
      "\n",
      "**STEP 1: Assess the translation in aspects of clarity, friendliness, and completeness according to the criteria.**\n",
      "\n",
      "*   **Clarity:** The translation uses simple, easily understandable language and an analogy (pinky swear) to make the legal agreement feel less intimidating.\n",
      "*   **Friendliness:** The tone is extremely friendly, using informal language (\"pinky swear,\" \"that's you!,\" \"I get it, and I'm in!\"), emojis, and direct address to engage the reader.\n",
      "*   **Completeness:** The translation captures the core meaning of the original sentence, which is that using the service implies agreement to the terms. However, it simplifies significantly and omits some details like explicitly stating that the Terms of Service are legally binding.\n",
      "\n",
      "**STEP 2: Score based on the rubric.**\n",
      "\n",
      "Considering the high degree of friendliness and clarity, but acknowledging the simplification and omission of some details, the translation is \"Good\".\n",
      "\n",
      "## Rating: 4\n",
      "\n",
      "Structured Evaluation: GOOD\n",
      "--------------------\n",
      "Original: Dig-A-Hole provides a facility where customers can engage in the activity of digging holes in designated areas of a field. Our services are intended for recreational exercise and stress relief.\n",
      "Translated: We've got a place where you can dig holes to your heart's content! 🕳️ It's great for exercise and chilling out. 😎\n",
      "Verbose Evaluation:\n",
      "STEP 1:\n",
      "The translation is clear and uses simple language. It is very friendly and uses emojis appropriately. It accurately and completely conveys the core meaning of the original sentence.\n",
      "\n",
      "STEP 2:\n",
      "Rating: 5\n",
      "Explanation: The translation is accurate, clear, friendly, and complete. It perfectly captures the essence of the original sentence in a more approachable and engaging way.\n",
      "\n",
      "Structured Evaluation: VERY_GOOD\n",
      "--------------------\n",
      "Original: Digging Access: Access to a designated field area for the purpose of digging holes.\n",
      "Translated: You get to dig in our special digging zone! 🚧\n",
      "Verbose Evaluation:\n",
      "STEP 1:\n",
      "The AI-generated translation captures the core idea of \"digging access\" by stating \"You get to dig.\" It clarifies this access is within a specific area, referring to it as \"our special digging zone!\" The use of an exclamation point adds to the friendly tone. However, the original sentence mentions \"digging holes\" as the purpose, which is somewhat implied but not explicitly stated in the translation. The emoji adds to the friendliness.\n",
      "\n",
      "STEP 2:\n",
      "Rating: 4. The translation is mostly accurate, clear, and friendly. It simplifies the original sentence into an easy-to-understand and inviting statement. The completeness is slightly lacking as it doesn't explicitly state the purpose of digging is to create holes, but it's strongly implied.\n",
      "\n",
      "Structured Evaluation: GOOD\n",
      "--------------------\n"
     ]
    }
   ],
   "source": [
    "import enum\n",
    "\n",
    "# Define the evaluation prompt for evaluating the \"Translated\" text\n",
    "TRANSLATION_EVAL_PROMPT = \"\"\"\\\n",
    "# Instruction\n",
    "You are an expert evaluator. Your task is to evaluate the quality of the AI-generated translation of a sentence from a terms of service\n",
    "document.\n",
    "We will provide you with the original sentence and the AI-generated translation.\n",
    "You should first read the original sentence carefully, then evaluate the quality of the translation based on the Criteria \n",
    "provided in the Evaluation section below.\n",
    "You will assign the translation a rating following the Rating Rubric and Evaluation Steps. Give step-by-step explanations \n",
    "for your rating, and only choose ratings from the Rating Rubric.\n",
    "\n",
    "# Evaluation\n",
    "## Metric Definition\n",
    "You will be assessing the translation Clarity, friendliness and Completeness.\n",
    "\n",
    "## Criteria\n",
    "Clarity: The translation prioritizes making the core meaning immediately accessible and easy to understand for everyone, \n",
    "even those unfamiliar with legal terms. It uses simple language and relatable analogies to convey the essential information effectively.\n",
    "Friendliness: The translation adopts an extremely approachable, casual, and enthusiastic tone, using emojis and informal language \n",
    "to create a positive and engaging experience for the reader. The high level of friendliness is intentional to make the legal terms \n",
    "feel less intimidating and more welcoming.\n",
    "Completeness: Completeness: The translation accurately and fully conveys the core meaning and key pieces of information presented \n",
    "in the original sentence. It should capture all the essential facts, actions, entities, and relationships described, \n",
    "even if expressed in simpler language. The level of detail in the translation should be sufficient to understand the main points \n",
    "of the original without losing critical information.\n",
    "\n",
    "## Rating Rubric\n",
    "5: (Very good). The translation is accurate, clear, friendly, and complete.\n",
    "4: (Good). The translation is mostly accurate, clear, friendly, and complete.\n",
    "3: (Ok). The translation is understandable but may have minor issues with accuracy, clarity, or friendliness. Emojis might \n",
    "be missing or slightly awkward.\n",
    "2: (Bad). The translation has significant issues with accuracy or clarity, or fails to adopt a friendly tone.\n",
    "1: (Very bad). The translation is inaccurate, incomprehensible, or completely fails to address the original meaning.\n",
    "\n",
    "## Evaluation Steps\n",
    "STEP 1: Assess the translation in aspects of clarity, friendliness, and completeness according to the criteria.\n",
    "STEP 2: Score based on the rubric.\n",
    "\n",
    "# User Inputs and AI-generated Response\n",
    "## Original Sentence\n",
    "\n",
    "{original}\n",
    "\n",
    "## AI-generated Translation\n",
    "\n",
    "{response}\n",
    "\"\"\"\n",
    "\n",
    "# Define a structured enum class to capture the result.\n",
    "class SummaryRating(enum.Enum):\n",
    "    VERY_GOOD = '5'\n",
    "    GOOD = '4'\n",
    "    OK = '3'\n",
    "    BAD = '2'\n",
    "    VERY_BAD = '1'\n",
    "\n",
    "def eval_translation(original, ai_response):\n",
    "    \"\"\"Evaluate the generated translation against the original sentence.\"\"\"\n",
    "\n",
    "    # It doesn't look like I can use chat with gemini-1.5-pro. Using gemini-2.0-flash here.\n",
    "    chat = client.chats.create(model='gemini-2.0-flash')\n",
    "    \n",
    "    # Generate the full text response.\n",
    "    response = chat.send_message(\n",
    "        message=TRANSLATION_EVAL_PROMPT.format(original=original, response=ai_response)\n",
    "    )\n",
    "    verbose_eval = response.text\n",
    "    \n",
    "    # Coerce into the desired structure.\n",
    "    structured_output_config = types.GenerateContentConfig(\n",
    "        response_mime_type=\"text/x.enum\",\n",
    "        response_schema=SummaryRating,\n",
    "    )\n",
    "    response = chat.send_message(\n",
    "        message=\"Convert the final score.\",\n",
    "        config=structured_output_config,\n",
    "    )\n",
    "    structured_eval = response.parsed\n",
    "    \n",
    "    return verbose_eval, structured_eval\n",
    "\n",
    "# Ideally, I want to check everything but I don't have enough quota. So, iterating only first three elements.\n",
    "evaluation_results = []\n",
    "for item in response_load[:3]:\n",
    "    original_text = item['Original']\n",
    "    translated_text = item['Translated']\n",
    "    verbose_eval, structured_eval = eval_translation(original=original_text, ai_response=translated_text)\n",
    "\n",
    "    evaluation_results.append({\n",
    "        'original': original_text,\n",
    "        'translated': translated_text,\n",
    "        'verbose_evaluation': verbose_eval,\n",
    "        'structured_evaluation': structured_eval.name if structured_eval else None\n",
    "    })\n",
    "\n",
    "for result in evaluation_results:\n",
    "    print(f\"Original: {result['original']}\")\n",
    "    print(f\"Translated: {result['translated']}\")\n",
    "    print(f\"Verbose Evaluation:\\n{result['verbose_evaluation']}\")\n",
    "    print(f\"Structured Evaluation: {result['structured_evaluation']}\")\n",
    "    print(\"-\" * 20)"
   ]
  },
  {
   "cell_type": "markdown",
   "id": "484470bf",
   "metadata": {
    "papermill": {
     "duration": 0.010752,
     "end_time": "2025-04-17T23:38:43.128259",
     "exception": false,
     "start_time": "2025-04-17T23:38:43.117507",
     "status": "completed"
    },
    "tags": []
   },
   "source": [
    "## Ask Away! 🗣️ Getting Answers from the Document\n",
    "\n",
    "So far, I've built a friendly translator using the magic of few-shot prompting and structured my results neatly with JSON. I also put my translator to the test with a custom AI evaluator! 🎉 Now, if I want to take this project to the next level and make it even more interactive, I can explore how to let users ask specific questions about the Terms of Service. That's where this next bit comes in using some clever tech to let the AI dig through the document and pull out the most relevant answers. Think of it as an extra layer of cool functionality I could add! 😎"
   ]
  },
  {
   "cell_type": "markdown",
   "id": "7434fdb7",
   "metadata": {
    "papermill": {
     "duration": 0.010462,
     "end_time": "2025-04-17T23:38:43.149816",
     "exception": false,
     "start_time": "2025-04-17T23:38:43.139354",
     "status": "completed"
    },
    "tags": []
   },
   "source": [
    "### Read and Split the Sample Terms of Service Document\n",
    "\n",
    "First, I am going to install PdfReader and read the sample Terms of Service, and then divide the document into smaller chunks."
   ]
  },
  {
   "cell_type": "code",
   "execution_count": 15,
   "id": "5b119092",
   "metadata": {
    "execution": {
     "iopub.execute_input": "2025-04-17T23:38:43.173084Z",
     "iopub.status.busy": "2025-04-17T23:38:43.172719Z",
     "iopub.status.idle": "2025-04-17T23:38:48.105460Z",
     "shell.execute_reply": "2025-04-17T23:38:48.104067Z"
    },
    "papermill": {
     "duration": 4.94698,
     "end_time": "2025-04-17T23:38:48.107603",
     "exception": false,
     "start_time": "2025-04-17T23:38:43.160623",
     "status": "completed"
    },
    "tags": []
   },
   "outputs": [
    {
     "name": "stdout",
     "output_type": "stream",
     "text": [
      "Collecting PyPDF2\r\n",
      "  Downloading pypdf2-3.0.1-py3-none-any.whl.metadata (6.8 kB)\r\n",
      "Downloading pypdf2-3.0.1-py3-none-any.whl (232 kB)\r\n",
      "\u001b[2K   \u001b[90m━━━━━━━━━━━━━━━━━━━━━━━━━━━━━━━━━━━━━━━━\u001b[0m \u001b[32m232.6/232.6 kB\u001b[0m \u001b[31m7.9 MB/s\u001b[0m eta \u001b[36m0:00:00\u001b[0m\r\n",
      "\u001b[?25hInstalling collected packages: PyPDF2\r\n",
      "Successfully installed PyPDF2-3.0.1\r\n"
     ]
    }
   ],
   "source": [
    "!pip install PyPDF2"
   ]
  },
  {
   "cell_type": "code",
   "execution_count": 16,
   "id": "4379791c",
   "metadata": {
    "execution": {
     "iopub.execute_input": "2025-04-17T23:38:48.133516Z",
     "iopub.status.busy": "2025-04-17T23:38:48.133125Z",
     "iopub.status.idle": "2025-04-17T23:38:48.999931Z",
     "shell.execute_reply": "2025-04-17T23:38:48.998783Z"
    },
    "papermill": {
     "duration": 0.882448,
     "end_time": "2025-04-17T23:38:49.002259",
     "exception": false,
     "start_time": "2025-04-17T23:38:48.119811",
     "status": "completed"
    },
    "tags": []
   },
   "outputs": [
    {
     "name": "stdout",
     "output_type": "stream",
     "text": [
      "Paragraph 1:\n",
      "Dig-A-Hole - Terms of Service Last Updated: April 6, 2025 Please read these Terms of Service carefully before using the services provided by Dig-A-Hole. By accessing our facilities, participating in our digging activities, or subscribing to our services, you agree to be bound by these Terms.\n",
      "====================\n",
      "Paragraph 2:\n",
      "1. Acceptance of Terms These Terms of Service constitute a legally binding agreement between you (\"Customer,\" \"you,\" or \"your\") and Dig-A-Hole (\"Dig-A-Hole,\" \"we,\" \"us,\" or \"our\"). By using our services, you acknowledge that you have read, understood, and agree to be bound by these Terms.\n",
      "====================\n",
      "Paragraph 3:\n",
      "2. Description of Services Dig-A-Hole provides a facility where customers can engage in the activity of digging holes in designated areas of a field. Our services are intended for recreational exercise and stress relief. We offer the following: ● Digging Access: Access to a designated field area for the purpose of digging holes. ● Free Trial Dig: New customers are eligible for one (1) complimentary digging session before requiring a subscription. ● Monthly Subscription Plan: Customers can subscribe to a monthly plan for ongoing access to our digging facilities. ● Shovel Rental Add-On: Customers have the option to rent shovels for an additional fee, subject to availability.\n",
      "====================\n",
      "Paragraph 4:\n",
      "3. Subscription Terms and Payment ● Minimum Subscription Period: All subscriptions have a minimum commitment of one (1) full month. ● Subscription Fees: The monthly subscription fee will be clearly communicated on our website or at our facility. ● Billing: Subscription fees will be billed on a recurring monthly basis, commencing on the date of your initial subscription. ● Payment Methods: We accept the payment methods specified on our website or at our facility. You agree to provide accurate and up-to-date payment information. ● Cancellation: You may cancel your subscription at any time. However, due to the minimum one-month commitment, you will be responsible for the full payment of the current billing cycle in which you cancel, and your access will continue until the end of that paid month. No refunds will be provided for partial months.\n",
      "====================\n",
      "Paragraph 5:\n",
      "4. Shovel Rental ● Shovels are available for rent on an add-on basis, subject to availability and an additional fee. ● Customers renting shovels are responsible for their proper use and return in the same condition (excluding normal wear and tear). ● Dig-A-Hole reserves the right to charge for any damage to or loss of rented shovels.\n",
      "====================\n",
      "Paragraph 6:\n",
      "5. Safety and Assumption of Risk Engaging in digging activities involves inherent risks, including but not limited to: ● Physical exertion and fatigue. ● Muscle strains, sprains, and other bodily injuries. ● Tripping, slipping, and falling. ● Injuries caused by contact with the ground, rocks, or other objects. ● Injuries resulting from the misuse of tools, including shovels. ● Exposure to weather conditions. By participating in digging activities at Dig-A-Hole, you acknowledge and voluntarily assume all such risks. You are responsible for ensuring your own safety and well-being while on our premises.\n",
      "====================\n",
      "Paragraph 7:\n",
      "6. Release of Liability and Indemnification To the fullest extent permitted by applicable law: ● You hereby release and forever discharge Dig-A-Hole, its owners, officers, directors, employees, agents, and affiliates from any and all claims, demands, actions, causes of action, damages, losses, expenses, and liabilities of any kind or nature whatsoever, whether known or unknown, arising out of or in any way connected with your use of Dig-A-Hole's facilities or participation in digging activities, including but not limited to any injuries you may sustain. ● You agree to indemnify, defend, and hold harmless Dig-A-Hole, its owners, officers, directors, employees, agents, and affiliates from and against any and all claims, demands, actions, causes of action, damages, losses, expenses (including attorneys' fees), and liabilities of any kind or nature whatsoever arising out of or in any way connected with your breach of these Terms of Service or your negligent or willful misconduct while using our services or facilities.\n",
      "====================\n",
      "Paragraph 8:\n",
      "7. Medical Disclaimer Dig-A-Hole does not provide medical services or advice. We recommend that you consult with your physician before participating in any physical activity, especially if you have any pre-existing medical conditions. You understand and agree that Dig-A-Hole will not be responsible for any medical expenses incurred by you as a result of any injury sustained while using our facilities or participating in digging activities. You are solely responsible for your own health and safety.\n",
      "====================\n",
      "Paragraph 9:\n",
      "8. Conduct Customers are expected to conduct themselves in a respectful and responsible manner while on Dig-A-Hole property. We reserve the right to refuse service to anyone who, in our sole discretion, engages in unsafe, disruptive, or inappropriate behavior.\n",
      "====================\n",
      "Paragraph 10:\n",
      "9. Changes to Terms of Service Dig-A-Hole reserves the right to modify or update these Terms of Service at any time without prior notice. Any changes will be effective immediately upon posting on our website or at our facility. Your continued use of our services after the posting of any revised Terms constitutes your acceptance of such changes.\n",
      "====================\n",
      "Paragraph 11:\n",
      "10. Governing Law and Dispute Resolution These Terms of Service shall be governed by and construed in accordance with the laws of the State of Ohio, without regard to its conflict of law principles. Any dispute arising out of or relating to these Terms or your use of our services shall be exclusively resolved in the state or federal courts located in Columbus, OH, and you hereby consent to the jurisdiction of such courts.\n",
      "====================\n",
      "Paragraph 12:\n",
      "11. Entire Agreement These Terms of Service constitute the entire agreement between you and Dig-A-Hole with respect to the subject matter hereof and supersede all prior or contemporaneous communications and proposals, whether oral or written. 5\n",
      "====================\n",
      "Paragraph 13:\n",
      "12. Contact Us If you have any questions about these Terms of Service, please contact us at: Dig-A-Hole [123 dig, awesometown, Columbus, OH] [digaholeA++++++++++++@gmail.com] [555-5555] By using Dig-A-Hole's services, you acknowledge that you have read, understood, and agree to be bound by these Terms of Service.\n",
      "====================\n"
     ]
    }
   ],
   "source": [
    "import re\n",
    "from PyPDF2 import PdfReader\n",
    "\n",
    "def split_into_paragraphs(text):\n",
    "    # Remove newlines that interrupt sentences\n",
    "    text = text.replace('\\n', ' ')\n",
    "    text = re.sub(r'\\s+', ' ', text)\n",
    "\n",
    "    # Check if the text contains numbered sections like 1., 2., etc.\n",
    "    if re.search(r'\\b\\d+\\.\\s', text):\n",
    "        # Split based on numbered sections\n",
    "        parts = re.split(r'(?=\\b\\d+\\.\\s)', text)\n",
    "        paragraphs = [part.strip() for part in parts if part.strip()]\n",
    "    else:\n",
    "        # Fallback: Split based on sentence boundaries and group into paragraphs\n",
    "        sentence_candidates = re.split(r'(?<=[.?!])\\s+(?=[A-Z])', text)\n",
    "\n",
    "        paragraphs = []\n",
    "        temp = \"\"\n",
    "        sentence_count = 0\n",
    "\n",
    "        for part in sentence_candidates:\n",
    "            temp += part.strip() + \" \"\n",
    "            sentence_count += 1\n",
    "            if sentence_count >= 2:\n",
    "                paragraphs.append(temp.strip())\n",
    "                temp = \"\"\n",
    "                sentence_count = 0\n",
    "\n",
    "        if temp.strip():\n",
    "            paragraphs.append(temp.strip())\n",
    "\n",
    "    return paragraphs\n",
    "\n",
    "try:\n",
    "    reader = PdfReader('/kaggle/input/sample-terms-of-service/sample_terms_of_service.pdf')\n",
    "    text = \"\"\n",
    "    for page in reader.pages:\n",
    "        text += page.extract_text() + \"\\n\"\n",
    "\n",
    "    all_paragraphs = []\n",
    "    paragraphs = split_into_paragraphs(text)\n",
    "    for i, paragraph in enumerate(paragraphs):\n",
    "        print(f\"Paragraph {i+1}:\\n{paragraph}\\n{'='*20}\")\n",
    "        all_paragraphs.append(paragraph)\n",
    "\n",
    "except FileNotFoundError:\n",
    "    print(\"Error: The PDF file was not found.\")\n",
    "except Exception as e:\n",
    "    print(f\"An error occurred while reading the PDF: {e}\")"
   ]
  },
  {
   "cell_type": "markdown",
   "id": "dfcba1ab",
   "metadata": {
    "papermill": {
     "duration": 0.012623,
     "end_time": "2025-04-17T23:38:49.027117",
     "exception": false,
     "start_time": "2025-04-17T23:38:49.014494",
     "status": "completed"
    },
    "tags": []
   },
   "source": [
    "### Examine Available Embedding Model\n",
    "\n",
    "Let's check available embedding model. I am using text-embedding-004 model here."
   ]
  },
  {
   "cell_type": "code",
   "execution_count": 17,
   "id": "baeb4542",
   "metadata": {
    "execution": {
     "iopub.execute_input": "2025-04-17T23:38:49.051934Z",
     "iopub.status.busy": "2025-04-17T23:38:49.051530Z",
     "iopub.status.idle": "2025-04-17T23:38:49.230059Z",
     "shell.execute_reply": "2025-04-17T23:38:49.228122Z"
    },
    "papermill": {
     "duration": 0.193495,
     "end_time": "2025-04-17T23:38:49.232493",
     "exception": false,
     "start_time": "2025-04-17T23:38:49.038998",
     "status": "completed"
    },
    "tags": []
   },
   "outputs": [
    {
     "name": "stdout",
     "output_type": "stream",
     "text": [
      "models/embedding-001\n",
      "models/text-embedding-004\n",
      "models/gemini-embedding-exp-03-07\n",
      "models/gemini-embedding-exp\n"
     ]
    }
   ],
   "source": [
    "for m in client.models.list():\n",
    "    if \"embedContent\" in m.supported_actions:\n",
    "        print(m.name)"
   ]
  },
  {
   "cell_type": "markdown",
   "id": "2b2a4b08",
   "metadata": {
    "papermill": {
     "duration": 0.011758,
     "end_time": "2025-04-17T23:38:49.256363",
     "exception": false,
     "start_time": "2025-04-17T23:38:49.244605",
     "status": "completed"
    },
    "tags": []
   },
   "source": [
    "### Define a Custom Embedding Function\n",
    "\n",
    "I am now setting up a special tool so that ChromaDB can understand the sample document chunks using Google's Gemini AI. This tool grabs the text, sends it to Gemini to get its digital fingerprint, and gives those fingerprints back to ChromaDB so it can later find relevant information when the user asks questions."
   ]
  },
  {
   "cell_type": "code",
   "execution_count": 18,
   "id": "f6b09fd2",
   "metadata": {
    "execution": {
     "iopub.execute_input": "2025-04-17T23:38:49.282956Z",
     "iopub.status.busy": "2025-04-17T23:38:49.282568Z",
     "iopub.status.idle": "2025-04-17T23:38:50.099797Z",
     "shell.execute_reply": "2025-04-17T23:38:50.098339Z"
    },
    "papermill": {
     "duration": 0.833209,
     "end_time": "2025-04-17T23:38:50.101911",
     "exception": false,
     "start_time": "2025-04-17T23:38:49.268702",
     "status": "completed"
    },
    "tags": []
   },
   "outputs": [],
   "source": [
    "from chromadb import Documents, EmbeddingFunction, Embeddings\n",
    "from google.api_core import retry\n",
    "\n",
    "from google.genai import types\n",
    "\n",
    "\n",
    "# Define a helper to retry when per-minute quota is reached.\n",
    "is_retriable = lambda e: (isinstance(e, genai.errors.APIError) and e.code in {429, 503})\n",
    "\n",
    "\n",
    "class GeminiEmbeddingFunction(EmbeddingFunction):\n",
    "    # Specify whether to generate embeddings for documents, or queries\n",
    "    document_mode = True\n",
    "\n",
    "    @retry.Retry(predicate=is_retriable)\n",
    "    def __call__(self, input: all_paragraphs) -> Embeddings:\n",
    "        if self.document_mode:\n",
    "            embedding_task = \"retrieval_document\"\n",
    "        else:\n",
    "            embedding_task = \"retrieval_query\"\n",
    "\n",
    "        resp = client.models.embed_content(\n",
    "            model=\"models/text-embedding-004\",\n",
    "            contents=input,\n",
    "            config=types.EmbedContentConfig(\n",
    "                task_type=embedding_task,\n",
    "            ),\n",
    "        )\n",
    "        return [e.values for e in resp.embeddings]"
   ]
  },
  {
   "cell_type": "markdown",
   "id": "c09a11fa",
   "metadata": {
    "papermill": {
     "duration": 0.012455,
     "end_time": "2025-04-17T23:38:50.126579",
     "exception": false,
     "start_time": "2025-04-17T23:38:50.114124",
     "status": "completed"
    },
    "tags": []
   },
   "source": [
    "### Getting the ChromaDB Toolbox Ready\n",
    "\n",
    "Putting the sample document chunks into the ChromaDB collection here."
   ]
  },
  {
   "cell_type": "code",
   "execution_count": 19,
   "id": "e99f6df1",
   "metadata": {
    "execution": {
     "iopub.execute_input": "2025-04-17T23:38:50.152478Z",
     "iopub.status.busy": "2025-04-17T23:38:50.152130Z",
     "iopub.status.idle": "2025-04-17T23:38:51.023565Z",
     "shell.execute_reply": "2025-04-17T23:38:51.022452Z"
    },
    "papermill": {
     "duration": 0.887055,
     "end_time": "2025-04-17T23:38:51.025623",
     "exception": false,
     "start_time": "2025-04-17T23:38:50.138568",
     "status": "completed"
    },
    "tags": []
   },
   "outputs": [],
   "source": [
    "import chromadb\n",
    "\n",
    "DB_NAME = \"googlecardb\"\n",
    "\n",
    "embed_fn = GeminiEmbeddingFunction()\n",
    "embed_fn.document_mode = True\n",
    "\n",
    "chroma_client = chromadb.Client()\n",
    "db = chroma_client.get_or_create_collection(name=DB_NAME, embedding_function=embed_fn)\n",
    "\n",
    "db.add(documents=all_paragraphs, ids=[str(i) for i in range(len(all_paragraphs))])\n",
    "\n"
   ]
  },
  {
   "cell_type": "code",
   "execution_count": 20,
   "id": "90428725",
   "metadata": {
    "execution": {
     "iopub.execute_input": "2025-04-17T23:38:51.052311Z",
     "iopub.status.busy": "2025-04-17T23:38:51.051924Z",
     "iopub.status.idle": "2025-04-17T23:38:51.061615Z",
     "shell.execute_reply": "2025-04-17T23:38:51.060590Z"
    },
    "papermill": {
     "duration": 0.024408,
     "end_time": "2025-04-17T23:38:51.063652",
     "exception": false,
     "start_time": "2025-04-17T23:38:51.039244",
     "status": "completed"
    },
    "tags": []
   },
   "outputs": [
    {
     "data": {
      "text/plain": [
       "13"
      ]
     },
     "execution_count": 20,
     "metadata": {},
     "output_type": "execute_result"
    }
   ],
   "source": [
    "db.count()"
   ]
  },
  {
   "cell_type": "markdown",
   "id": "b21e1f80",
   "metadata": {
    "papermill": {
     "duration": 0.012809,
     "end_time": "2025-04-17T23:38:51.093280",
     "exception": false,
     "start_time": "2025-04-17T23:38:51.080471",
     "status": "completed"
    },
    "tags": []
   },
   "source": [
    "### Asking a Question\n",
    "\n",
    "Switching to query mode, the question is also processed to create its numerical representation. Then, ChromaDB uses this representation to find the document chunks with the most similar meaning."
   ]
  },
  {
   "cell_type": "code",
   "execution_count": 21,
   "id": "cddb4154",
   "metadata": {
    "execution": {
     "iopub.execute_input": "2025-04-17T23:38:51.118615Z",
     "iopub.status.busy": "2025-04-17T23:38:51.118235Z",
     "iopub.status.idle": "2025-04-17T23:38:51.416114Z",
     "shell.execute_reply": "2025-04-17T23:38:51.414840Z"
    },
    "papermill": {
     "duration": 0.312858,
     "end_time": "2025-04-17T23:38:51.418299",
     "exception": false,
     "start_time": "2025-04-17T23:38:51.105441",
     "status": "completed"
    },
    "tags": []
   },
   "outputs": [
    {
     "data": {
      "text/markdown": [
       "3. Subscription Terms and Payment ● Minimum Subscription Period: All subscriptions have a minimum commitment of one (1) full month. ● Subscription Fees: The monthly subscription fee will be clearly communicated on our website or at our facility. ● Billing: Subscription fees will be billed on a recurring monthly basis, commencing on the date of your initial subscription. ● Payment Methods: We accept the payment methods specified on our website or at our facility. You agree to provide accurate and up-to-date payment information. ● Cancellation: You may cancel your subscription at any time. However, due to the minimum one-month commitment, you will be responsible for the full payment of the current billing cycle in which you cancel, and your access will continue until the end of that paid month. No refunds will be provided for partial months."
      ],
      "text/plain": [
       "<IPython.core.display.Markdown object>"
      ]
     },
     "execution_count": 21,
     "metadata": {},
     "output_type": "execute_result"
    }
   ],
   "source": [
    "# Switch to query mode when generating embeddings.\n",
    "embed_fn.document_mode = False\n",
    "\n",
    "# Search the Chroma DB using the specified query.\n",
    "query = \"What is the cancellation policy?\"\n",
    "\n",
    "result = db.query(query_texts=[query], n_results=1) \n",
    "[all_passages] = result[\"documents\"]\n",
    "\n",
    "Markdown(all_passages[0])"
   ]
  },
  {
   "cell_type": "markdown",
   "id": "f45d9409",
   "metadata": {
    "papermill": {
     "duration": 0.011671,
     "end_time": "2025-04-17T23:38:51.451009",
     "exception": false,
     "start_time": "2025-04-17T23:38:51.439338",
     "status": "completed"
    },
    "tags": []
   },
   "source": [
    "### Getting the Friendly Answer\n",
    "\n",
    "The following two cells sends the question and relevant document snippets to the Gemini AI model with specific instructions on how to answer (be friendly, use simple language, include emojis, stick to the provided text, and be precise). Then, it takes the AI's generated answer and displays it in a readable format. This is the exciting moment where we see the RAG pipeline in action, delivering a user-friendly answer based on the information retrieved from the Terms of Service document! 🥳"
   ]
  },
  {
   "cell_type": "code",
   "execution_count": 22,
   "id": "4a59b92a",
   "metadata": {
    "execution": {
     "iopub.execute_input": "2025-04-17T23:38:51.477312Z",
     "iopub.status.busy": "2025-04-17T23:38:51.476932Z",
     "iopub.status.idle": "2025-04-17T23:38:51.482208Z",
     "shell.execute_reply": "2025-04-17T23:38:51.481201Z"
    },
    "papermill": {
     "duration": 0.021298,
     "end_time": "2025-04-17T23:38:51.484367",
     "exception": false,
     "start_time": "2025-04-17T23:38:51.463069",
     "status": "completed"
    },
    "tags": []
   },
   "outputs": [
    {
     "name": "stdout",
     "output_type": "stream",
     "text": [
      "You are a very friendly bot that answers questions using text from the reference passage included below.\n",
      "Be sure to respond in a complete sentence, but being casual and very friendly. Make sure to include some appropriate emoji.\n",
      "You need to use easy-to-understand English instead of using legal terms. If the passage is irrelevant to the answer, you\n",
      "may say that you can not find the information.\n",
      "\n",
      "QUESTION: What is the cancellation policy?\n",
      "\n",
      "PASSAGE: 3. Subscription Terms and Payment ● Minimum Subscription Period: All subscriptions have a minimum commitment of one (1) full month. ● Subscription Fees: The monthly subscription fee will be clearly communicated on our website or at our facility. ● Billing: Subscription fees will be billed on a recurring monthly basis, commencing on the date of your initial subscription. ● Payment Methods: We accept the payment methods specified on our website or at our facility. You agree to provide accurate and up-to-date payment information. ● Cancellation: You may cancel your subscription at any time. However, due to the minimum one-month commitment, you will be responsible for the full payment of the current billing cycle in which you cancel, and your access will continue until the end of that paid month. No refunds will be provided for partial months.\n",
      "\n"
     ]
    }
   ],
   "source": [
    "query_oneline = query.replace(\"\\n\", \" \")\n",
    "\n",
    "# This prompt is where you can specify any guidance on tone, or what topics the model should stick to, or avoid.\n",
    "prompt = f\"\"\"You are a very friendly bot that answers questions using text from the reference passage included below.\n",
    "Be sure to respond in a complete sentence, but being casual and very friendly. Make sure to include some appropriate emoji.\n",
    "You need to use easy-to-understand English instead of using legal terms. If the passage is irrelevant to the answer, you\n",
    "may say that you can not find the information.\n",
    "\n",
    "QUESTION: {query_oneline}\n",
    "\"\"\"\n",
    "\n",
    "\n",
    "# Add the retrieved documents to the prompt.\n",
    "for passage in all_passages:\n",
    "    passage_oneline = passage.replace(\"\\n\", \" \")\n",
    "    prompt += f\"\\nPASSAGE: {passage_oneline}\\n\"\n",
    "\n",
    "print(prompt)"
   ]
  },
  {
   "cell_type": "code",
   "execution_count": 23,
   "id": "080e3b61",
   "metadata": {
    "execution": {
     "iopub.execute_input": "2025-04-17T23:38:51.516162Z",
     "iopub.status.busy": "2025-04-17T23:38:51.515780Z",
     "iopub.status.idle": "2025-04-17T23:38:52.399087Z",
     "shell.execute_reply": "2025-04-17T23:38:52.397960Z"
    },
    "papermill": {
     "duration": 0.897922,
     "end_time": "2025-04-17T23:38:52.401044",
     "exception": false,
     "start_time": "2025-04-17T23:38:51.503122",
     "status": "completed"
    },
    "tags": []
   },
   "outputs": [
    {
     "data": {
      "text/markdown": [
       "Hey there! 👋 You can cancel your subscription whenever you want, but since there's a one-month minimum, you'll still need to pay for the current month you're in. Your access will keep going until the end of that month you've already paid for. Just so you know, there are no refunds for partial months. 😊\n"
      ],
      "text/plain": [
       "<IPython.core.display.Markdown object>"
      ]
     },
     "execution_count": 23,
     "metadata": {},
     "output_type": "execute_result"
    }
   ],
   "source": [
    "model_config=types.GenerateContentConfig(temperature=0.0)\n",
    "answer = client.models.generate_content(\n",
    "    model=\"gemini-2.0-flash\",\n",
    "    config=model_config,\n",
    "    contents=prompt\n",
    ")\n",
    "\n",
    "Markdown(answer.text)"
   ]
  },
  {
   "cell_type": "code",
   "execution_count": null,
   "id": "aaee0f8a",
   "metadata": {
    "papermill": {
     "duration": 0.012652,
     "end_time": "2025-04-17T23:38:52.426306",
     "exception": false,
     "start_time": "2025-04-17T23:38:52.413654",
     "status": "completed"
    },
    "tags": []
   },
   "outputs": [],
   "source": []
  }
 ],
 "metadata": {
  "kaggle": {
   "accelerator": "none",
   "dataSources": [
    {
     "datasetId": 7069385,
     "sourceId": 11428914,
     "sourceType": "datasetVersion"
    }
   ],
   "dockerImageVersionId": 30918,
   "isGpuEnabled": false,
   "isInternetEnabled": true,
   "language": "python",
   "sourceType": "notebook"
  },
  "kernelspec": {
   "display_name": "Python 3",
   "language": "python",
   "name": "python3"
  },
  "language_info": {
   "codemirror_mode": {
    "name": "ipython",
    "version": 3
   },
   "file_extension": ".py",
   "mimetype": "text/x-python",
   "name": "python",
   "nbconvert_exporter": "python",
   "pygments_lexer": "ipython3",
   "version": "3.10.12"
  },
  "papermill": {
   "default_parameters": {},
   "duration": 151.088688,
   "end_time": "2025-04-17T23:38:53.662350",
   "environment_variables": {},
   "exception": null,
   "input_path": "__notebook__.ipynb",
   "output_path": "__notebook__.ipynb",
   "parameters": {},
   "start_time": "2025-04-17T23:36:22.573662",
   "version": "2.6.0"
  }
 },
 "nbformat": 4,
 "nbformat_minor": 5
}
