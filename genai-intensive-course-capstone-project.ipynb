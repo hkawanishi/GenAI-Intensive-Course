{
 "cells": [
  {
   "cell_type": "markdown",
   "id": "db162081",
   "metadata": {
    "papermill": {
     "duration": 0.006923,
     "end_time": "2025-04-13T03:59:01.022853",
     "exception": false,
     "start_time": "2025-04-13T03:59:01.015930",
     "status": "completed"
    },
    "tags": []
   },
   "source": [
    "# GenAI Intensive Course Capstone Project\n",
    "\n",
    "## Overview\n",
    "\n",
    "Reading the long and complicated terms of service on websites can be overwhelming for most people. These documents are full of legal language that many users don't read or fully understand, which can lead to uncertainty about the specifics of the service they are using, what they are agreeing to, and the responsibilities of the provider. This project tackles that problem by creating a smart \"Terms of Service Translator.\" It uses Gemini AI to turn complex legal text into simple, easy-to-understand summaries. The translated texts are written in plain English and made more approachable with helpful emoji.\n",
    "\n",
    "To demonstrate this project, I have written a sample terms of service document for a fictitious company called \"Dig-A-Hole.\" This company provides a service where customers can engage in the activity of digging holes in designated areas of a field for recreational exercise and stress relief, with options for subscription. This sample terms of service document has been saved in a PDF file, which Gemini AI is then used to read and process. The goal is to translate the formal legal language of this document into a clear and friendly summary."
   ]
  },
  {
   "cell_type": "code",
   "execution_count": 1,
   "id": "b8465bea",
   "metadata": {
    "_cell_guid": "b1076dfc-b9ad-4769-8c92-a6c4dae69d19",
    "_uuid": "8f2839f25d086af736a60e9eeb907d3b93b6e0e5",
    "execution": {
     "iopub.execute_input": "2025-04-13T03:59:01.036991Z",
     "iopub.status.busy": "2025-04-13T03:59:01.036369Z",
     "iopub.status.idle": "2025-04-13T03:59:02.369209Z",
     "shell.execute_reply": "2025-04-13T03:59:02.367854Z"
    },
    "papermill": {
     "duration": 1.342764,
     "end_time": "2025-04-13T03:59:02.371848",
     "exception": false,
     "start_time": "2025-04-13T03:59:01.029084",
     "status": "completed"
    },
    "tags": []
   },
   "outputs": [
    {
     "name": "stdout",
     "output_type": "stream",
     "text": [
      "/kaggle/input/sample-terms-of-service/sample_terms_of_service.pdf\n"
     ]
    }
   ],
   "source": [
    "# This Python 3 environment comes with many helpful analytics libraries installed\n",
    "# It is defined by the kaggle/python Docker image: https://github.com/kaggle/docker-python\n",
    "# For example, here's several helpful packages to load\n",
    "\n",
    "import numpy as np # linear algebra\n",
    "import pandas as pd # data processing, CSV file I/O (e.g. pd.read_csv)\n",
    "\n",
    "# Input data files are available in the read-only \"../input/\" directory\n",
    "# For example, running this (by clicking run or pressing Shift+Enter) will list all files under the input directory\n",
    "\n",
    "import os\n",
    "for dirname, _, filenames in os.walk('/kaggle/input'):\n",
    "    for filename in filenames:\n",
    "        print(os.path.join(dirname, filename))\n",
    "\n",
    "# You can write up to 20GB to the current directory (/kaggle/working/) that gets preserved as output when you create a version using \"Save & Run All\" \n",
    "# You can also write temporary files to /kaggle/temp/, but they won't be saved outside of the current session"
   ]
  },
  {
   "cell_type": "markdown",
   "id": "d56c031f",
   "metadata": {
    "papermill": {
     "duration": 0.005597,
     "end_time": "2025-04-13T03:59:02.383886",
     "exception": false,
     "start_time": "2025-04-13T03:59:02.378289",
     "status": "completed"
    },
    "tags": []
   },
   "source": [
    "## Install the Python SDK"
   ]
  },
  {
   "cell_type": "code",
   "execution_count": 2,
   "id": "e1fac50c",
   "metadata": {
    "execution": {
     "iopub.execute_input": "2025-04-13T03:59:02.398068Z",
     "iopub.status.busy": "2025-04-13T03:59:02.397449Z",
     "iopub.status.idle": "2025-04-13T03:59:10.949103Z",
     "shell.execute_reply": "2025-04-13T03:59:10.946988Z"
    },
    "papermill": {
     "duration": 8.561768,
     "end_time": "2025-04-13T03:59:10.951578",
     "exception": false,
     "start_time": "2025-04-13T03:59:02.389810",
     "status": "completed"
    },
    "tags": []
   },
   "outputs": [
    {
     "name": "stdout",
     "output_type": "stream",
     "text": [
      "\u001b[2K   \u001b[90m━━━━━━━━━━━━━━━━━━━━━━━━━━━━━━━━━━━━━━━━\u001b[0m \u001b[32m144.7/144.7 kB\u001b[0m \u001b[31m5.2 MB/s\u001b[0m eta \u001b[36m0:00:00\u001b[0m\r\n",
      "\u001b[2K   \u001b[90m━━━━━━━━━━━━━━━━━━━━━━━━━━━━━━━━━━━━━━━━\u001b[0m \u001b[32m100.9/100.9 kB\u001b[0m \u001b[31m4.0 MB/s\u001b[0m eta \u001b[36m0:00:00\u001b[0m\r\n",
      "\u001b[?25h"
     ]
    }
   ],
   "source": [
    "!pip install -Uq \"google-genai==1.7.0\""
   ]
  },
  {
   "cell_type": "code",
   "execution_count": 3,
   "id": "d58ffce2",
   "metadata": {
    "execution": {
     "iopub.execute_input": "2025-04-13T03:59:10.966626Z",
     "iopub.status.busy": "2025-04-13T03:59:10.966118Z",
     "iopub.status.idle": "2025-04-13T03:59:12.659519Z",
     "shell.execute_reply": "2025-04-13T03:59:12.658279Z"
    },
    "papermill": {
     "duration": 1.703615,
     "end_time": "2025-04-13T03:59:12.661881",
     "exception": false,
     "start_time": "2025-04-13T03:59:10.958266",
     "status": "completed"
    },
    "tags": []
   },
   "outputs": [
    {
     "data": {
      "text/plain": [
       "'1.7.0'"
      ]
     },
     "execution_count": 3,
     "metadata": {},
     "output_type": "execute_result"
    }
   ],
   "source": [
    "from google import genai\n",
    "from google.genai import types\n",
    "\n",
    "from IPython.display import Markdown, display\n",
    "\n",
    "genai.__version__"
   ]
  },
  {
   "cell_type": "markdown",
   "id": "d15261ea",
   "metadata": {
    "papermill": {
     "duration": 0.006005,
     "end_time": "2025-04-13T03:59:12.674412",
     "exception": false,
     "start_time": "2025-04-13T03:59:12.668407",
     "status": "completed"
    },
    "tags": []
   },
   "source": [
    "## Set up the API key"
   ]
  },
  {
   "cell_type": "code",
   "execution_count": 4,
   "id": "65d6862e",
   "metadata": {
    "execution": {
     "iopub.execute_input": "2025-04-13T03:59:12.689126Z",
     "iopub.status.busy": "2025-04-13T03:59:12.688355Z",
     "iopub.status.idle": "2025-04-13T03:59:13.395220Z",
     "shell.execute_reply": "2025-04-13T03:59:13.393539Z"
    },
    "papermill": {
     "duration": 0.717168,
     "end_time": "2025-04-13T03:59:13.397788",
     "exception": false,
     "start_time": "2025-04-13T03:59:12.680620",
     "status": "completed"
    },
    "tags": []
   },
   "outputs": [],
   "source": [
    "from kaggle_secrets import UserSecretsClient\n",
    "\n",
    "client = genai.Client(api_key=UserSecretsClient().get_secret(\"GOOGLE_API_KEY\"))"
   ]
  },
  {
   "cell_type": "markdown",
   "id": "d22412e4",
   "metadata": {
    "papermill": {
     "duration": 0.005924,
     "end_time": "2025-04-13T03:59:13.410821",
     "exception": false,
     "start_time": "2025-04-13T03:59:13.404897",
     "status": "completed"
    },
    "tags": []
   },
   "source": [
    "## Automated retry\n",
    "\n",
    "This codelab sends a lot of requests, so set up an automatic retry that ensures your requests are retried when per-minute quota is reached.\n"
   ]
  },
  {
   "cell_type": "code",
   "execution_count": 5,
   "id": "a18ae1aa",
   "metadata": {
    "execution": {
     "iopub.execute_input": "2025-04-13T03:59:13.424870Z",
     "iopub.status.busy": "2025-04-13T03:59:13.424379Z",
     "iopub.status.idle": "2025-04-13T03:59:13.733566Z",
     "shell.execute_reply": "2025-04-13T03:59:13.731753Z"
    },
    "papermill": {
     "duration": 0.318974,
     "end_time": "2025-04-13T03:59:13.736064",
     "exception": false,
     "start_time": "2025-04-13T03:59:13.417090",
     "status": "completed"
    },
    "tags": []
   },
   "outputs": [],
   "source": [
    "from google.api_core import retry\n",
    "\n",
    "is_retriable = lambda e: (isinstance(e, genai.errors.APIError) and e.code in {429, 503})\n",
    "\n",
    "if not hasattr(genai.models.Models.generate_content, '__wrapped__'):\n",
    "  genai.models.Models.generate_content = retry.Retry(\n",
    "      predicate=is_retriable)(genai.models.Models.generate_content)"
   ]
  },
  {
   "cell_type": "markdown",
   "id": "1d348787",
   "metadata": {
    "papermill": {
     "duration": 0.006021,
     "end_time": "2025-04-13T03:59:13.748744",
     "exception": false,
     "start_time": "2025-04-13T03:59:13.742723",
     "status": "completed"
    },
    "tags": []
   },
   "source": [
    "## Model Selection"
   ]
  },
  {
   "cell_type": "code",
   "execution_count": 6,
   "id": "420f9a9d",
   "metadata": {
    "execution": {
     "iopub.execute_input": "2025-04-13T03:59:13.763897Z",
     "iopub.status.busy": "2025-04-13T03:59:13.763153Z",
     "iopub.status.idle": "2025-04-13T03:59:14.151726Z",
     "shell.execute_reply": "2025-04-13T03:59:14.150344Z"
    },
    "papermill": {
     "duration": 0.399431,
     "end_time": "2025-04-13T03:59:14.154377",
     "exception": false,
     "start_time": "2025-04-13T03:59:13.754946",
     "status": "completed"
    },
    "tags": []
   },
   "outputs": [
    {
     "name": "stdout",
     "output_type": "stream",
     "text": [
      "models/chat-bison-001\n",
      "models/text-bison-001\n",
      "models/embedding-gecko-001\n",
      "models/gemini-1.0-pro-vision-latest\n",
      "models/gemini-pro-vision\n",
      "models/gemini-1.5-pro-latest\n",
      "models/gemini-1.5-pro-001\n",
      "models/gemini-1.5-pro-002\n",
      "models/gemini-1.5-pro\n",
      "models/gemini-1.5-flash-latest\n",
      "models/gemini-1.5-flash-001\n",
      "models/gemini-1.5-flash-001-tuning\n",
      "models/gemini-1.5-flash\n",
      "models/gemini-1.5-flash-002\n",
      "models/gemini-1.5-flash-8b\n",
      "models/gemini-1.5-flash-8b-001\n",
      "models/gemini-1.5-flash-8b-latest\n",
      "models/gemini-1.5-flash-8b-exp-0827\n",
      "models/gemini-1.5-flash-8b-exp-0924\n",
      "models/gemini-2.5-pro-exp-03-25\n",
      "models/gemini-2.5-pro-preview-03-25\n",
      "models/gemini-2.0-flash-exp\n",
      "models/gemini-2.0-flash\n",
      "models/gemini-2.0-flash-001\n",
      "models/gemini-2.0-flash-exp-image-generation\n",
      "models/gemini-2.0-flash-lite-001\n",
      "models/gemini-2.0-flash-lite\n",
      "models/gemini-2.0-flash-lite-preview-02-05\n",
      "models/gemini-2.0-flash-lite-preview\n",
      "models/gemini-2.0-pro-exp\n",
      "models/gemini-2.0-pro-exp-02-05\n",
      "models/gemini-exp-1206\n",
      "models/gemini-2.0-flash-thinking-exp-01-21\n",
      "models/gemini-2.0-flash-thinking-exp\n",
      "models/gemini-2.0-flash-thinking-exp-1219\n",
      "models/learnlm-1.5-pro-experimental\n",
      "models/gemma-3-1b-it\n",
      "models/gemma-3-4b-it\n",
      "models/gemma-3-12b-it\n",
      "models/gemma-3-27b-it\n",
      "models/embedding-001\n",
      "models/text-embedding-004\n",
      "models/gemini-embedding-exp-03-07\n",
      "models/gemini-embedding-exp\n",
      "models/aqa\n",
      "models/imagen-3.0-generate-002\n",
      "models/gemini-2.0-flash-live-001\n"
     ]
    }
   ],
   "source": [
    "for model in client.models.list():\n",
    "  print(model.name)"
   ]
  },
  {
   "cell_type": "markdown",
   "id": "1d5e7993",
   "metadata": {
    "papermill": {
     "duration": 0.005896,
     "end_time": "2025-04-13T03:59:14.167037",
     "exception": false,
     "start_time": "2025-04-13T03:59:14.161141",
     "status": "completed"
    },
    "tags": []
   },
   "source": [
    "For summarizing the main document, I'm rolling with **gemini-1.5-pro**. It seems pretty reliable and stable for text-based tasks like this.\n",
    "\n",
    "(Quick heads-up though! For the evaluation part later on, I had to switch gears and use **gemini-2.0-flash**.)"
   ]
  },
  {
   "cell_type": "code",
   "execution_count": 7,
   "id": "a99c2bec",
   "metadata": {
    "execution": {
     "iopub.execute_input": "2025-04-13T03:59:14.181834Z",
     "iopub.status.busy": "2025-04-13T03:59:14.181334Z",
     "iopub.status.idle": "2025-04-13T03:59:14.551269Z",
     "shell.execute_reply": "2025-04-13T03:59:14.549615Z"
    },
    "papermill": {
     "duration": 0.379994,
     "end_time": "2025-04-13T03:59:14.553483",
     "exception": false,
     "start_time": "2025-04-13T03:59:14.173489",
     "status": "completed"
    },
    "tags": []
   },
   "outputs": [
    {
     "name": "stdout",
     "output_type": "stream",
     "text": [
      "{'description': 'Stable version of Gemini 1.5 Pro, our mid-size multimodal '\n",
      "                'model that supports up to 2 million tokens, released in May '\n",
      "                'of 2024.',\n",
      " 'display_name': 'Gemini 1.5 Pro',\n",
      " 'input_token_limit': 2000000,\n",
      " 'name': 'models/gemini-1.5-pro',\n",
      " 'output_token_limit': 8192,\n",
      " 'supported_actions': ['generateContent', 'countTokens'],\n",
      " 'tuned_model_info': {},\n",
      " 'version': '001'}\n"
     ]
    }
   ],
   "source": [
    "from pprint import pprint\n",
    "\n",
    "for model in client.models.list():\n",
    "  if model.name == 'models/gemini-1.5-pro':\n",
    "    pprint(model.to_json_dict())\n",
    "    break"
   ]
  },
  {
   "cell_type": "markdown",
   "id": "319c4030",
   "metadata": {
    "papermill": {
     "duration": 0.006073,
     "end_time": "2025-04-13T03:59:14.566427",
     "exception": false,
     "start_time": "2025-04-13T03:59:14.560354",
     "status": "completed"
    },
    "tags": []
   },
   "source": [
    "## Document Understanding: Cracking Open the PDF! 🔓\n",
    "\n",
    "So, I've got my super important (but kinda snooze-worthy) terms of service all written down and tucked away in a PDF file. Right here, I'm gonna pull that document in and have Gemini work its magic to give me\n",
    "a quick and easy rundown in plain English – no legal headaches! 🥳"
   ]
  },
  {
   "cell_type": "code",
   "execution_count": 8,
   "id": "4c6f7373",
   "metadata": {
    "execution": {
     "iopub.execute_input": "2025-04-13T03:59:14.581228Z",
     "iopub.status.busy": "2025-04-13T03:59:14.580719Z",
     "iopub.status.idle": "2025-04-13T03:59:16.509948Z",
     "shell.execute_reply": "2025-04-13T03:59:16.508269Z"
    },
    "papermill": {
     "duration": 1.939878,
     "end_time": "2025-04-13T03:59:16.512746",
     "exception": false,
     "start_time": "2025-04-13T03:59:14.572868",
     "status": "completed"
    },
    "tags": []
   },
   "outputs": [],
   "source": [
    "document_file = client.files.upload(file='/kaggle/input/sample-terms-of-service/sample_terms_of_service.pdf')"
   ]
  },
  {
   "cell_type": "code",
   "execution_count": 9,
   "id": "519f890a",
   "metadata": {
    "execution": {
     "iopub.execute_input": "2025-04-13T03:59:16.529236Z",
     "iopub.status.busy": "2025-04-13T03:59:16.528634Z",
     "iopub.status.idle": "2025-04-13T03:59:25.616006Z",
     "shell.execute_reply": "2025-04-13T03:59:25.614729Z"
    },
    "papermill": {
     "duration": 9.0986,
     "end_time": "2025-04-13T03:59:25.618300",
     "exception": false,
     "start_time": "2025-04-13T03:59:16.519700",
     "status": "completed"
    },
    "tags": []
   },
   "outputs": [
    {
     "data": {
      "text/markdown": [
       "This is a summary of the Dig-A-Hole Terms of Service:\n",
       "\n",
       "**What Dig-A-Hole offers:**  Dig-A-Hole lets you dig holes in their field for fun and stress relief. They offer a free trial dig, monthly subscriptions, and optional shovel rentals.\n",
       "\n",
       "**Agreement:** By using their services, you agree to these terms.\n",
       "\n",
       "**Subscriptions:** Subscriptions are monthly and require a one-month minimum commitment. You can cancel anytime, but you still have to pay for the current month. No refunds for partial months.  The price is listed on their website or at the facility.\n",
       "\n",
       "**Shovel Rental:** You can rent shovels for an extra fee, but you're responsible for any damage or loss (beyond normal wear and tear).\n",
       "\n",
       "**Safety & Risks:** Digging has risks (like injuries from exertion, falls, or tools). You accept these risks and are responsible for your own safety.\n",
       "\n",
       "**Liability:** You release Dig-A-Hole from any responsibility for injuries or other issues related to using their services. You also agree to protect them from legal claims related to your actions while digging.\n",
       "\n",
       "**Medical:** Dig-A-Hole isn't responsible for your medical expenses. See a doctor before digging, especially if you have health conditions.\n",
       "\n",
       "**Conduct:** Be respectful and responsible. Dig-A-Hole can refuse service to anyone behaving badly.\n",
       "\n",
       "**Changes to Terms:** Dig-A-Hole can change these terms anytime, and the changes are effective immediately when posted.  Continued use of the service means you accept the changes.\n",
       "\n",
       "**Law & Disputes:** Ohio law governs these terms. Any disputes will be handled in Columbus, Ohio courts.\n",
       "\n",
       "**Contact:** Contact information is provided for questions.  Using the service means you've read, understood, and agree to these terms.\n"
      ],
      "text/plain": [
       "<IPython.core.display.Markdown object>"
      ]
     },
     "execution_count": 9,
     "metadata": {},
     "output_type": "execute_result"
    }
   ],
   "source": [
    "request = 'Please summarize the following terms of servicein plain, easy-to-undersand English:'\n",
    "\n",
    "def translate_doc(request: str) -> str:\n",
    "  \"\"\"Execute the request on the uploaded document.\"\"\"\n",
    "  # Set the temperature low to stabilise the output.\n",
    "  config = types.GenerateContentConfig(temperature=0.0)\n",
    "  response = client.models.generate_content(\n",
    "      model='gemini-1.5-pro',\n",
    "      config=config,\n",
    "      contents=[request, document_file],\n",
    "  )\n",
    "\n",
    "  return response.text\n",
    "\n",
    "summary = translate_doc(request)\n",
    "Markdown(summary)"
   ]
  },
  {
   "cell_type": "markdown",
   "id": "df0d01dc",
   "metadata": {
    "papermill": {
     "duration": 0.007627,
     "end_time": "2025-04-13T03:59:25.632939",
     "exception": false,
     "start_time": "2025-04-13T03:59:25.625312",
     "status": "completed"
    },
    "tags": []
   },
   "source": [
    "## Few-Shot Prompt: Making it Friendly! 🎉\n",
    "\n",
    "The summary I got above is okay, but let's dial up the friendliness! To get Gemini to be a bit more casual and throw in some fun emoji, I am going to use a \"few-shot prompt.\" Think of it as showing Gemini a few examples of how I want the translations to sound – super chill and emoji-packed! 😎"
   ]
  },
  {
   "cell_type": "code",
   "execution_count": 10,
   "id": "e9292704",
   "metadata": {
    "execution": {
     "iopub.execute_input": "2025-04-13T03:59:25.648222Z",
     "iopub.status.busy": "2025-04-13T03:59:25.647708Z",
     "iopub.status.idle": "2025-04-13T03:59:36.920496Z",
     "shell.execute_reply": "2025-04-13T03:59:36.918709Z"
    },
    "papermill": {
     "duration": 11.283373,
     "end_time": "2025-04-13T03:59:36.923026",
     "exception": false,
     "start_time": "2025-04-13T03:59:25.639653",
     "status": "completed"
    },
    "tags": []
   },
   "outputs": [
    {
     "name": "stdout",
     "output_type": "stream",
     "text": [
      "Welcome to Dig-A-Hole! 🕳️  Here's the simple version of our rules:\n",
      "\n",
      "* **What we do:** We give you a place to dig holes!  It's for fun and stress relief. 😄  You can dig by yourself or with friends.👯‍♀️\n",
      "* **Free Trial:**  First dig is on us! 🎉\n",
      "* **Membership:**  If you like digging, you can sign up for a monthly membership. 🗓️  You're in for at least one month.  You can cancel anytime, but you still have to pay for the current month. 💰 No refunds for partial months.\n",
      "* **Shovels:** We have shovels you can rent. 🥄  Pay extra, and please bring them back in one piece (normal wear and tear is okay).  If you break or lose it, you'll have to pay for it. 💸\n",
      "* **Safety First:** Digging can be dangerous! ⚠️  You might get tired, pull a muscle, trip, or get hurt by a shovel or rocks.  Be careful!  You're responsible for your own safety.  We're not liable if you get hurt.  🤕\n",
      "* **Don't Sue Us:**  Seriously, please don't sue us. 🙏  By digging here, you agree not to blame us if anything bad happens.\n",
      "* **Be Nice:**  Don't be disruptive or unsafe.  Be respectful of others.  We can kick you out if you're not. 🚫\n",
      "* **We Can Change the Rules:** We might update these rules anytime.  Check back here or at our facility for the latest version. \n",
      "* **Questions?**  Contact us! 📞📧\n",
      "* **Ohio Law Rules:**  These rules are based on Ohio law. 🇺🇲  Any legal stuff has to be handled in Ohio courts. 🏛️\n",
      "\n",
      "Happy digging! ⛏️\n",
      "\n"
     ]
    }
   ],
   "source": [
    "model_config = types.GenerateContentConfig(\n",
    "    temperature=0.0\n",
    ")\n",
    "\n",
    "few_shot_prompt = \"\"\"\n",
    "Here are some examples of how to translate leagal terms of service and their friendly summaries using emoji:\n",
    "\n",
    "Original: \"We reserve the right to accept or refuse membership in our discretion.\" \n",
    "Translated: \"We get to say yay 👍 or nay 👎 to memberships, just because we can💪!\"\n",
    "\n",
    "Original: \"To the maximum extent permitted by law, you agree that the Company shall not be held liable for any injuries, damages, or losses incurred in connection with the use of our services or products. By using our services, you waive any right to bring a claim or lawsuit against us for such injuries.\"\n",
    "Translated: \"Oops! If you trip, slip, or fall dramatically and get hurt while using our stuff, please don’t sue us 😅🙏. By hanging out with us, you're saying, 'Okay cool, I won't blame you if I bonk myself💖'\"\n",
    "\n",
    "Please summarize the following terms of servicein plain, easy-to-undersand English with emoji.\n",
    "\"\"\"\n",
    "\n",
    "response = client.models.generate_content(\n",
    "    model='gemini-1.5-pro',\n",
    "    config=model_config,\n",
    "    contents=[few_shot_prompt, document_file],\n",
    ")\n",
    "\n",
    "print(response.text)"
   ]
  },
  {
   "cell_type": "markdown",
   "id": "037a9446",
   "metadata": {
    "papermill": {
     "duration": 0.006387,
     "end_time": "2025-04-13T03:59:36.936577",
     "exception": false,
     "start_time": "2025-04-13T03:59:36.930190",
     "status": "completed"
    },
    "tags": []
   },
   "source": [
    "## JSON: Keeping Things Linked\n",
    "\n",
    "Good summaries so far! Now, let's structure things with JSON to keep each \"Original\" legal term directly linked to its \"Translated\" buddy. "
   ]
  },
  {
   "cell_type": "code",
   "execution_count": 11,
   "id": "07dfe980",
   "metadata": {
    "execution": {
     "iopub.execute_input": "2025-04-13T03:59:36.951382Z",
     "iopub.status.busy": "2025-04-13T03:59:36.950893Z",
     "iopub.status.idle": "2025-04-13T04:00:05.946652Z",
     "shell.execute_reply": "2025-04-13T04:00:05.944813Z"
    },
    "papermill": {
     "duration": 29.006316,
     "end_time": "2025-04-13T04:00:05.949426",
     "exception": false,
     "start_time": "2025-04-13T03:59:36.943110",
     "status": "completed"
    },
    "tags": []
   },
   "outputs": [
    {
     "name": "stdout",
     "output_type": "stream",
     "text": [
      "```json\n",
      "[\n",
      "  {\n",
      "    \"Original\": \"These Terms of Service constitute a legally binding agreement between you (\\\"Customer,\\\" \\\"you,\\\" or \\\"your\\\") and Dig-A-Hole (\\\"Dig-A-Hole,\\\" \\\"we,\\\" \\\"us,\\\" or \\\"our\\\"). By using our services, you acknowledge that you have read, understood, and agree to be bound by these Terms.\",\n",
      "    \"Translated\": \"This is like a pinky swear 🤝 between you and us (Dig-A-Hole) that you've read, get it, and agree to follow these rules.  Using our stuff means you're in! 🥳\"\n",
      "  },\n",
      "  {\n",
      "    \"Original\": \"Dig-A-Hole provides a facility where customers can engage in the activity of digging holes in designated areas of a field. Our services are intended for recreational exercise and stress relief.\",\n",
      "    \"Translated\": \"We've got a place where you can dig holes! 🕳️ It's for fun and chilling out. 😎\"\n",
      "  },\n",
      "  {\n",
      "    \"Original\": \"Digging Access: Access to a designated field area for the purpose of digging holes.\\nFree Trial Dig: New customers are eligible for one (1) complimentary digging session before requiring a subscription.\\nMonthly Subscription Plan: Customers can subscribe to a monthly plan for ongoing access to our digging facilities.\\nShovel Rental Add-On: Customers have the option to rent shovels for an additional fee, subject to availability.\",\n",
      "    \"Translated\": \"Here's what we offer:\\n* Digging Access: Get your dig on in our special digging zone! ⛏️\\n* Free Trial Dig: First dig's on us! 🎉 Try it out before you subscribe.\\n* Monthly Subscription Plan: Dig all month long! 🗓️\\n* Shovel Rental Add-On: Need a shovel? We've got 'em! 🥄 (If we're not out... 🤷)\"\n",
      "  },\n",
      "  {\n",
      "    \"Original\": \"Minimum Subscription Period: All subscriptions have a minimum commitment of one (1) full month.\\nSubscription Fees: The monthly subscription fee will be clearly communicated on our website or at our facility.\\nBilling: Subscription fees will be billed on a recurring monthly basis, commencing on the date of your initial subscription.\\nPayment Methods: We accept the payment methods specified on our website or at our facility. You agree to provide accurate and up-to-date payment information.\\nCancellation: You may cancel your subscription at any time. However, due to the minimum one-month commitment, you will be responsible for the full payment of the current billing cycle in which you cancel, and your access will continue until the end of that paid month. No refunds will be provided for partial months.\",\n",
      "    \"Translated\": \"Subscription stuff:\\n* Gotta stick around for at least one month. 📅\\n* We'll tell you how much it costs on our website or at the field. 💰\\n* We'll bill you every month, starting on the day you sign up. 🔄\\n* Pay us how we say on our website or at the field.  Make sure your payment info is up-to-date! 💳\\n* Wanna cancel? No prob! Just know you gotta pay for the whole month you're in, even if you cancel early.  No partial refunds! 🙅‍♀️\"\n",
      "  },\n",
      "  {\n",
      "    \"Original\": \"Shovels are available for rent on an add-on basis, subject to availability and an additional fee.\\nCustomers renting shovels are responsible for their proper use and return in the same condition (excluding normal wear and tear).\",\n",
      "    \"Translated\": \"Shovel rentals:\\n* Rent a shovel if you need one! (If we have any left...)  Extra cost applies. ➕\\n* Treat our shovels nicely!  Return them in good shape (a little dirt is okay). ✨\"\n",
      "  },\n",
      "  {\n",
      "    \"Original\": \"Dig-A-Hole reserves the right to charge for any damage to or loss of rented shovels.\",\n",
      "    \"Translated\": \"Break or lose a shovel? You'll have to pay for it. 💸\"\n",
      "  },\n",
      "  {\n",
      "    \"Original\": \"Engaging in digging activities involves inherent risks, including but not limited to:\\nPhysical exertion and fatigue.\\nMuscle strains, sprains, and other bodily injuries.\\nTripping, slipping, and falling.\\nInjuries caused by contact with the ground, rocks, or other objects.\\nInjuries resulting from the misuse of tools, including shovels.\\nExposure to weather conditions.\",\n",
      "    \"Translated\": \"Digging can be risky! ⚠️ Here are some things that could happen:\\n* Getting tired 😴\\n* Ouchies!  Muscle strains, sprains, etc.🤕\\n* Whoops! Tripping, slipping, and falling. 꽈당\\n* Bonking yourself on rocks or other stuff. 🤕\\n* Hurting yourself with tools (like shovels). 🛠️\\n* Sunburn! ☀️ Or getting rained on! 🌧️\"\n",
      "  },\n",
      "  {\n",
      "    \"Original\": \"By participating in digging activities at Dig-A-Hole, you acknowledge and voluntarily assume all such risks. You are responsible for ensuring your own safety and well-being while on our premises.\",\n",
      "    \"Translated\": \"By digging with us, you're saying, \\\"I know digging can be risky, and I'm okay with that!\\\"  Be careful and look out for yourself! 💖\"\n",
      "  },\n",
      "  {\n",
      "    \"Original\": \"To the fullest extent permitted by applicable law:\\nYou hereby release and forever discharge Dig-A-Hole, its owners, officers, directors, employees, agents, and affiliates from any and all claims, demands, actions, causes of action, damages, losses, expenses, and liabilities of any kind or nature whatsoever, whether known or unknown, arising out of or in any way connected with your use of Dig-A-Hole's facilities or participation in digging activities, including but not limited to any injuries you may sustain.\\nYou agree to indemnify, defend, and hold harmless Dig-A-Hole, its owners, officers, directors, employees, agents, and affiliates from and against any and all claims, demands, actions, causes of action, damages, losses, expenses (including attorneys' fees), and liabilities of any kind or nature whatsoever arising out of or in any way connected with your breach of these Terms of Service or your negligent or willful misconduct while using our services or facilities.\",\n",
      "    \"Translated\": \"Legalese alert! 🚨 Basically, if you get hurt while digging (even if it's our fault! 😬), you promise not to sue us. 🙏  You're also agreeing to protect us from any legal trouble you might cause by breaking the rules or being careless. 💖\"\n",
      "  },\n",
      "  {\n",
      "    \"Original\": \"Dig-A-Hole does not provide medical services or advice. We recommend that you consult with your physician before participating in any physical activity, especially if you have any pre-existing medical conditions.\",\n",
      "    \"Translated\": \"We're not doctors! 👨‍⚕️  Talk to yours before digging, especially if you have any health issues. 💖\"\n",
      "  },\n",
      "  {\n",
      "    \"Original\": \"Customers are expected to conduct themselves in a respectful and responsible manner while on Dig-A-Hole property. We reserve the right to refuse service to anyone who, in our sole discretion, engages in unsafe, disruptive, or inappropriate behavior.\",\n",
      "    \"Translated\": \"Be nice and respectful!  Don't be a jerk.  We can kick you out if you're being unsafe, disruptive, or inappropriate. 🙅‍♀️\"\n",
      "  },\n",
      "  {\n",
      "    \"Original\": \"Dig-A-Hole reserves the right to modify or update these Terms of Service at any time without prior notice. Any changes will be effective immediately upon posting on our website or at our facility. Your continued use of our services after the posting of any revised Terms constitutes your acceptance of such changes.\",\n",
      "    \"Translated\": \"We might change these rules anytime.  We'll post updates on our website or at the field. Keep digging with us, and you're agreeing to the new rules! 👍\"\n",
      "  },\n",
      "  {\n",
      "    \"Original\": \"These Terms of Service shall be governed by and construed in accordance with the laws of the State of Ohio, without regard to its conflict of law principles. Any dispute arising out of or relating to these Terms or your use of our services shall be exclusively resolved in the state or federal courts located in Columbus, OH, and you hereby consent to the jurisdiction of such courts.\",\n",
      "    \"Translated\": \"More legalese! ⚖️  Ohio law applies to these rules.  Any legal fights happen in Columbus, OH.  Okay? 👌\"\n",
      "  }\n",
      "]\n",
      "```\n"
     ]
    }
   ],
   "source": [
    "# this is the same as above.\n",
    "model_config = types.GenerateContentConfig(\n",
    "    temperature=0.0\n",
    ")\n",
    "\n",
    "few_shot_prompt = \"\"\"\n",
    "Please translate the following terms of service to more casual,friendly, easy-to-understand English with emoji. The output should be a JSON array and each element is\n",
    "a JSON object with the \"Original\" and \"Translated\" version.\n",
    "Here are some examples of how to translate leagal terms of service and their friendly summaries using emoji:\n",
    "```\n",
    "{\n",
    "Original: \"We reserve the right to accept or refuse membership in our discretion.\" \n",
    "Translated: \"We get to say yay 👍 or nay 👎 to memberships, just because we can💪!\"\n",
    "}\n",
    "{\n",
    "Original: \"To the maximum extent permitted by law, you agree that the Company shall not be held liable for any injuries, damages, or losses incurred in connection with the use of our services or products. By using our services, you waive any right to bring a claim or lawsuit against us for such injuries.\"\n",
    "Translated: \"Oops!😳 If you trip, slip, or fall dramatically and get hurt🤕 while using our stuff, please don’t sue us 😅🙏. By hanging out with us, you're saying, 'Okay cool, I won't blame you if I bonk myself💖'\"\n",
    "}\n",
    "```\n",
    "\n",
    "\"\"\"\n",
    "response_JSON = client.models.generate_content(\n",
    "    model='gemini-1.5-pro',\n",
    "    config=model_config,\n",
    "    contents=[few_shot_prompt, document_file],\n",
    ")\n",
    "\n",
    "print(response_JSON.text)\n",
    "\n"
   ]
  },
  {
   "cell_type": "code",
   "execution_count": 12,
   "id": "67ffbc90",
   "metadata": {
    "execution": {
     "iopub.execute_input": "2025-04-13T04:00:05.966352Z",
     "iopub.status.busy": "2025-04-13T04:00:05.965854Z",
     "iopub.status.idle": "2025-04-13T04:00:05.982532Z",
     "shell.execute_reply": "2025-04-13T04:00:05.979952Z"
    },
    "papermill": {
     "duration": 0.029747,
     "end_time": "2025-04-13T04:00:05.987166",
     "exception": false,
     "start_time": "2025-04-13T04:00:05.957419",
     "status": "completed"
    },
    "tags": []
   },
   "outputs": [
    {
     "name": "stdout",
     "output_type": "stream",
     "text": [
      "\n",
      "Parsed JSON Summary:\n",
      "\n",
      "Item 1:\n",
      "  Original: These Terms of Service constitute a legally binding agreement between you (\"Customer,\" \"you,\" or \"your\") and Dig-A-Hole (\"Dig-A-Hole,\" \"we,\" \"us,\" or \"our\"). By using our services, you acknowledge that you have read, understood, and agree to be bound by these Terms.\n",
      "  Translated: This is like a pinky swear 🤝 between you and us (Dig-A-Hole) that you've read, get it, and agree to follow these rules.  Using our stuff means you're in! 🥳\n",
      "\n",
      "Item 2:\n",
      "  Original: Dig-A-Hole provides a facility where customers can engage in the activity of digging holes in designated areas of a field. Our services are intended for recreational exercise and stress relief.\n",
      "  Translated: We've got a place where you can dig holes! 🕳️ It's for fun and chilling out. 😎\n",
      "\n",
      "Item 3:\n",
      "  Original: Digging Access: Access to a designated field area for the purpose of digging holes.\n",
      "Free Trial Dig: New customers are eligible for one (1) complimentary digging session before requiring a subscription.\n",
      "Monthly Subscription Plan: Customers can subscribe to a monthly plan for ongoing access to our digging facilities.\n",
      "Shovel Rental Add-On: Customers have the option to rent shovels for an additional fee, subject to availability.\n",
      "  Translated: Here's what we offer:\n",
      "* Digging Access: Get your dig on in our special digging zone! ⛏️\n",
      "* Free Trial Dig: First dig's on us! 🎉 Try it out before you subscribe.\n",
      "* Monthly Subscription Plan: Dig all month long! 🗓️\n",
      "* Shovel Rental Add-On: Need a shovel? We've got 'em! 🥄 (If we're not out... 🤷)\n",
      "\n",
      "Item 4:\n",
      "  Original: Minimum Subscription Period: All subscriptions have a minimum commitment of one (1) full month.\n",
      "Subscription Fees: The monthly subscription fee will be clearly communicated on our website or at our facility.\n",
      "Billing: Subscription fees will be billed on a recurring monthly basis, commencing on the date of your initial subscription.\n",
      "Payment Methods: We accept the payment methods specified on our website or at our facility. You agree to provide accurate and up-to-date payment information.\n",
      "Cancellation: You may cancel your subscription at any time. However, due to the minimum one-month commitment, you will be responsible for the full payment of the current billing cycle in which you cancel, and your access will continue until the end of that paid month. No refunds will be provided for partial months.\n",
      "  Translated: Subscription stuff:\n",
      "* Gotta stick around for at least one month. 📅\n",
      "* We'll tell you how much it costs on our website or at the field. 💰\n",
      "* We'll bill you every month, starting on the day you sign up. 🔄\n",
      "* Pay us how we say on our website or at the field.  Make sure your payment info is up-to-date! 💳\n",
      "* Wanna cancel? No prob! Just know you gotta pay for the whole month you're in, even if you cancel early.  No partial refunds! 🙅‍♀️\n",
      "\n",
      "Item 5:\n",
      "  Original: Shovels are available for rent on an add-on basis, subject to availability and an additional fee.\n",
      "Customers renting shovels are responsible for their proper use and return in the same condition (excluding normal wear and tear).\n",
      "  Translated: Shovel rentals:\n",
      "* Rent a shovel if you need one! (If we have any left...)  Extra cost applies. ➕\n",
      "* Treat our shovels nicely!  Return them in good shape (a little dirt is okay). ✨\n",
      "\n",
      "Item 6:\n",
      "  Original: Dig-A-Hole reserves the right to charge for any damage to or loss of rented shovels.\n",
      "  Translated: Break or lose a shovel? You'll have to pay for it. 💸\n",
      "\n",
      "Item 7:\n",
      "  Original: Engaging in digging activities involves inherent risks, including but not limited to:\n",
      "Physical exertion and fatigue.\n",
      "Muscle strains, sprains, and other bodily injuries.\n",
      "Tripping, slipping, and falling.\n",
      "Injuries caused by contact with the ground, rocks, or other objects.\n",
      "Injuries resulting from the misuse of tools, including shovels.\n",
      "Exposure to weather conditions.\n",
      "  Translated: Digging can be risky! ⚠️ Here are some things that could happen:\n",
      "* Getting tired 😴\n",
      "* Ouchies!  Muscle strains, sprains, etc.🤕\n",
      "* Whoops! Tripping, slipping, and falling. 꽈당\n",
      "* Bonking yourself on rocks or other stuff. 🤕\n",
      "* Hurting yourself with tools (like shovels). 🛠️\n",
      "* Sunburn! ☀️ Or getting rained on! 🌧️\n",
      "\n",
      "Item 8:\n",
      "  Original: By participating in digging activities at Dig-A-Hole, you acknowledge and voluntarily assume all such risks. You are responsible for ensuring your own safety and well-being while on our premises.\n",
      "  Translated: By digging with us, you're saying, \"I know digging can be risky, and I'm okay with that!\"  Be careful and look out for yourself! 💖\n",
      "\n",
      "Item 9:\n",
      "  Original: To the fullest extent permitted by applicable law:\n",
      "You hereby release and forever discharge Dig-A-Hole, its owners, officers, directors, employees, agents, and affiliates from any and all claims, demands, actions, causes of action, damages, losses, expenses, and liabilities of any kind or nature whatsoever, whether known or unknown, arising out of or in any way connected with your use of Dig-A-Hole's facilities or participation in digging activities, including but not limited to any injuries you may sustain.\n",
      "You agree to indemnify, defend, and hold harmless Dig-A-Hole, its owners, officers, directors, employees, agents, and affiliates from and against any and all claims, demands, actions, causes of action, damages, losses, expenses (including attorneys' fees), and liabilities of any kind or nature whatsoever arising out of or in any way connected with your breach of these Terms of Service or your negligent or willful misconduct while using our services or facilities.\n",
      "  Translated: Legalese alert! 🚨 Basically, if you get hurt while digging (even if it's our fault! 😬), you promise not to sue us. 🙏  You're also agreeing to protect us from any legal trouble you might cause by breaking the rules or being careless. 💖\n",
      "\n",
      "Item 10:\n",
      "  Original: Dig-A-Hole does not provide medical services or advice. We recommend that you consult with your physician before participating in any physical activity, especially if you have any pre-existing medical conditions.\n",
      "  Translated: We're not doctors! 👨‍⚕️  Talk to yours before digging, especially if you have any health issues. 💖\n",
      "\n",
      "Item 11:\n",
      "  Original: Customers are expected to conduct themselves in a respectful and responsible manner while on Dig-A-Hole property. We reserve the right to refuse service to anyone who, in our sole discretion, engages in unsafe, disruptive, or inappropriate behavior.\n",
      "  Translated: Be nice and respectful!  Don't be a jerk.  We can kick you out if you're being unsafe, disruptive, or inappropriate. 🙅‍♀️\n",
      "\n",
      "Item 12:\n",
      "  Original: Dig-A-Hole reserves the right to modify or update these Terms of Service at any time without prior notice. Any changes will be effective immediately upon posting on our website or at our facility. Your continued use of our services after the posting of any revised Terms constitutes your acceptance of such changes.\n",
      "  Translated: We might change these rules anytime.  We'll post updates on our website or at the field. Keep digging with us, and you're agreeing to the new rules! 👍\n",
      "\n",
      "Item 13:\n",
      "  Original: These Terms of Service shall be governed by and construed in accordance with the laws of the State of Ohio, without regard to its conflict of law principles. Any dispute arising out of or relating to these Terms or your use of our services shall be exclusively resolved in the state or federal courts located in Columbus, OH, and you hereby consent to the jurisdiction of such courts.\n",
      "  Translated: More legalese! ⚖️  Ohio law applies to these rules.  Any legal fights happen in Columbus, OH.  Okay? 👌\n"
     ]
    }
   ],
   "source": [
    "#I've got my data all nicely packed in JSON. But what if I want to parse it?  \n",
    "#Here's how I do the parsed summary.\n",
    "\n",
    "import json\n",
    "import re\n",
    "\n",
    "raw_text = response_JSON.text.strip()\n",
    "\n",
    "# clean up my JSON text.\n",
    "cleaned_text = re.sub(r\"^```(?:json)?\\s*\", \"\", raw_text)\n",
    "cleaned_text = re.sub(r\"\\s*```$\", \"\", cleaned_text)\n",
    "\n",
    "try:\n",
    "    parsed_summary = json.loads(cleaned_text)\n",
    "    print(\"\\nParsed JSON Summary:\")\n",
    "\n",
    "    if isinstance(parsed_summary, list):\n",
    "        for i, item in enumerate(parsed_summary, start=1):\n",
    "            original = item.get('Original', '[Missing original]')\n",
    "            translated = item.get('Translated', '[Missing translated]')\n",
    "            print(f\"\\nItem {i}:\")\n",
    "            print(f\"  Original: {original}\")\n",
    "            print(f\"  Translated: {translated}\")\n",
    "    else:\n",
    "        print(\"Expected a JSON array but received a different structure.\")\n",
    "except json.JSONDecodeError as e:\n",
    "    print(\"\\nError decoding JSON:\")\n",
    "    print(f\"  {e}\")\n",
    "    print(\"The output does not appear to be valid JSON.\")"
   ]
  },
  {
   "cell_type": "markdown",
   "id": "676b1422",
   "metadata": {
    "papermill": {
     "duration": 0.007343,
     "end_time": "2025-04-13T04:00:06.002253",
     "exception": false,
     "start_time": "2025-04-13T04:00:05.994910",
     "status": "completed"
    },
    "tags": []
   },
   "source": [
    "## Define an Evaluator: Checking the Translation Quality\n",
    "\n",
    "My friendly translation are looking good against the original text. Now, the question is: how well did my translator actually do?\n",
    "\n",
    "In this section, I'm going to put the translations to the test by focusing on a few key things that matter:\n",
    "\n",
    "* **Clarity:** How easy is the translated text to understand for someone without a law degree?\n",
    "* **Friendliness:** Did the translation nail that approachable and emoji-filled vibe I was going for?\n",
    "* **Completeness:** Did it capture all the important info from the original legal stuff?\n",
    "\n",
    "To figure this out, I've set up a simple rating system, giving a score from 1 to 5. I've also laid out the evaluation steps. Let's see how they measure up!\n",
    "\n",
    "**Important:** To keep things running smoothly and avoid any hiccups with rate limits, I'm only going to evaluate the first three items from the terms of service for now. But I believe this will give me a good initial idea of how well the translator is performing."
   ]
  },
  {
   "cell_type": "code",
   "execution_count": 13,
   "id": "ea747ce4",
   "metadata": {
    "execution": {
     "iopub.execute_input": "2025-04-13T04:00:06.020079Z",
     "iopub.status.busy": "2025-04-13T04:00:06.019563Z",
     "iopub.status.idle": "2025-04-13T04:00:11.271802Z",
     "shell.execute_reply": "2025-04-13T04:00:11.270452Z"
    },
    "papermill": {
     "duration": 5.264067,
     "end_time": "2025-04-13T04:00:11.274339",
     "exception": false,
     "start_time": "2025-04-13T04:00:06.010272",
     "status": "completed"
    },
    "tags": []
   },
   "outputs": [
    {
     "name": "stdout",
     "output_type": "stream",
     "text": [
      "Original: These Terms of Service constitute a legally binding agreement between you (\"Customer,\" \"you,\" or \"your\") and Dig-A-Hole (\"Dig-A-Hole,\" \"we,\" \"us,\" or \"our\"). By using our services, you acknowledge that you have read, understood, and agree to be bound by these Terms.\n",
      "Translated: This is like a pinky swear 🤝 between you and us (Dig-A-Hole) that you've read, get it, and agree to follow these rules.  Using our stuff means you're in! 🥳\n",
      "Verbose Evaluation:\n",
      "## Evaluation\n",
      "\n",
      "**STEP 1: Assess the translation in aspects of clarity, friendliness, and completeness according to the criteria.**\n",
      "\n",
      "*   **Clarity:** The translation uses a \"pinky swear\" analogy which is generally clear and relatable for most people. The translation uses simple language to convey the essential information.\n",
      "*   **Friendliness:** The translation is very friendly, using a casual tone (\"pinky swear\", \"Using our stuff means you're in!\"). Emojis are used to create a positive and engaging experience.\n",
      "*   **Completeness:** The translation captures the core meaning of the original sentence, but it simplifies the legal weight of the agreement. It mentions the agreement to follow the rules, but it does not highlight the legally binding nature.\n",
      "\n",
      "**STEP 2: Score based on the rubric.**\n",
      "\n",
      "The translation is mostly accurate, clear, and friendly. However, it lacks some completeness because it does not fully convey the legally binding nature of the agreement.\n",
      "Therefore, the translation is rated as **4**.\n",
      "\n",
      "Structured Evaluation: GOOD\n",
      "--------------------\n",
      "Original: Dig-A-Hole provides a facility where customers can engage in the activity of digging holes in designated areas of a field. Our services are intended for recreational exercise and stress relief.\n",
      "Translated: We've got a place where you can dig holes! 🕳️ It's for fun and chilling out. 😎\n",
      "Verbose Evaluation:\n",
      "STEP 1:\n",
      "The translation uses simple language to convey the core idea of digging holes for recreation. The emojis contribute to the friendly tone. However, it omits the detail about \"designated areas of a field,\" which is important for completeness.\n",
      "\n",
      "STEP 2:\n",
      "The translation is mostly accurate, clear, and friendly, but has a minor issue with completeness. Therefore, the rating is 4.\n",
      "\n",
      "Rating: 4\n",
      "\n",
      "Structured Evaluation: GOOD\n",
      "--------------------\n",
      "Original: Digging Access: Access to a designated field area for the purpose of digging holes.\n",
      "Free Trial Dig: New customers are eligible for one (1) complimentary digging session before requiring a subscription.\n",
      "Monthly Subscription Plan: Customers can subscribe to a monthly plan for ongoing access to our digging facilities.\n",
      "Shovel Rental Add-On: Customers have the option to rent shovels for an additional fee, subject to availability.\n",
      "Translated: Here's what we offer:\n",
      "* Digging Access: Get your dig on in our special digging zone! ⛏️\n",
      "* Free Trial Dig: First dig's on us! 🎉 Try it out before you subscribe.\n",
      "* Monthly Subscription Plan: Dig all month long! 🗓️\n",
      "* Shovel Rental Add-On: Need a shovel? We've got 'em! 🥄 (If we're not out... 🤷)\n",
      "Verbose Evaluation:\n",
      "STEP 1:\n",
      "The translation is very clear, friendly, and complete. It uses simple language and emojis to make the information easy to understand and engaging. The core meaning of each sentence is accurately conveyed, and the translation maintains a consistent and enthusiastic tone throughout.\n",
      "\n",
      "STEP 2:\n",
      "Rating: 5\n",
      "Explanation: The translation excels in all aspects of clarity, friendliness, and completeness, making it a very good translation.\n",
      "\n",
      "Structured Evaluation: VERY_GOOD\n",
      "--------------------\n"
     ]
    }
   ],
   "source": [
    "import enum\n",
    "\n",
    "# Define the evaluation prompt for evaluating the \"Translated\" text\n",
    "TRANSLATION_EVAL_PROMPT = \"\"\"\\\n",
    "# Instruction\n",
    "You are an expert evaluator. Your task is to evaluate the quality of the AI-generated translation of a sentence from a terms of service\n",
    "document.\n",
    "We will provide you with the original sentence and the AI-generated translation.\n",
    "You should first read the original sentence carefully, then evaluate the quality of the translation based on the Criteria \n",
    "provided in the Evaluation section below.\n",
    "You will assign the translation a rating following the Rating Rubric and Evaluation Steps. Give step-by-step explanations \n",
    "for your rating, and only choose ratings from the Rating Rubric.\n",
    "\n",
    "# Evaluation\n",
    "## Metric Definition\n",
    "You will be assessing the translation Clarity, friendliness and Completeness.\n",
    "\n",
    "## Criteria\n",
    "Clarity: The translation prioritizes making the core meaning immediately accessible and easy to understand for everyone, \n",
    "even those unfamiliar with legal terms. It uses simple language and relatable analogies to convey the essential information effectively.\n",
    "Friendliness: The translation adopts an extremely approachable, casual, and enthusiastic tone, using emojis and informal language \n",
    "to create a positive and engaging experience for the reader. The high level of friendliness is intentional to make the legal terms \n",
    "feel less intimidating and more welcoming.\n",
    "Completeness: Completeness: The translation accurately and fully conveys the core meaning and key pieces of information presented \n",
    "in the original sentence. It should capture all the essential facts, actions, entities, and relationships described, \n",
    "even if expressed in simpler language. The level of detail in the translation should be sufficient to understand the main points \n",
    "of the original without losing critical information.\n",
    "\n",
    "## Rating Rubric\n",
    "5: (Very good). The translation is accurate, clear, friendly, and complete.\n",
    "4: (Good). The translation is mostly accurate, clear, friendly, and complete.\n",
    "3: (Ok). The translation is understandable but may have minor issues with accuracy, clarity, or friendliness. Emojis might \n",
    "be missing or slightly awkward.\n",
    "2: (Bad). The translation has significant issues with accuracy or clarity, or fails to adopt a friendly tone.\n",
    "1: (Very bad). The translation is inaccurate, incomprehensible, or completely fails to address the original meaning.\n",
    "\n",
    "## Evaluation Steps\n",
    "STEP 1: Assess the translation in aspects of clarity, friendliness, and completeness according to the criteria.\n",
    "STEP 2: Score based on the rubric.\n",
    "\n",
    "# User Inputs and AI-generated Response\n",
    "## Original Sentence\n",
    "\n",
    "{original}\n",
    "\n",
    "## AI-generated Translation\n",
    "\n",
    "{response}\n",
    "\"\"\"\n",
    "\n",
    "# Define a structured enum class to capture the result.\n",
    "class SummaryRating(enum.Enum):\n",
    "    VERY_GOOD = '5'\n",
    "    GOOD = '4'\n",
    "    OK = '3'\n",
    "    BAD = '2'\n",
    "    VERY_BAD = '1'\n",
    "\n",
    "def eval_translation(original, ai_response):\n",
    "    \"\"\"Evaluate the generated translation against the original sentence.\"\"\"\n",
    "\n",
    "    # It doesn't look like I can use chat with gemini-1.5-pro. Using gemini-2.0-flash here.\n",
    "    chat = client.chats.create(model='gemini-2.0-flash')\n",
    "    \n",
    "    # Generate the full text response.\n",
    "    response = chat.send_message(\n",
    "        message=TRANSLATION_EVAL_PROMPT.format(original=original, response=ai_response)\n",
    "    )\n",
    "    verbose_eval = response.text\n",
    "    \n",
    "    # Coerce into the desired structure.\n",
    "    structured_output_config = types.GenerateContentConfig(\n",
    "        response_mime_type=\"text/x.enum\",\n",
    "        response_schema=SummaryRating,\n",
    "    )\n",
    "    response = chat.send_message(\n",
    "        message=\"Convert the final score.\",\n",
    "        config=structured_output_config,\n",
    "    )\n",
    "    structured_eval = response.parsed\n",
    "    \n",
    "    return verbose_eval, structured_eval\n",
    "\n",
    "# Ideally, I want to check everything but I don't have enough quota. So, iterating only first three elements.\n",
    "evaluation_results = []\n",
    "for item in parsed_summary[:3]:\n",
    "    original_text = item['Original']\n",
    "    translated_text = item['Translated']\n",
    "    verbose_eval, structured_eval = eval_translation(original=original_text, ai_response=translated_text)\n",
    "\n",
    "    evaluation_results.append({\n",
    "        'original': original_text,\n",
    "        'translated': translated_text,\n",
    "        'verbose_evaluation': verbose_eval,\n",
    "        'structured_evaluation': structured_eval.name if structured_eval else None\n",
    "    })\n",
    "\n",
    "for result in evaluation_results:\n",
    "    print(f\"Original: {result['original']}\")\n",
    "    print(f\"Translated: {result['translated']}\")\n",
    "    print(f\"Verbose Evaluation:\\n{result['verbose_evaluation']}\")\n",
    "    print(f\"Structured Evaluation: {result['structured_evaluation']}\")\n",
    "    print(\"-\" * 20)"
   ]
  },
  {
   "cell_type": "code",
   "execution_count": null,
   "id": "051d085d",
   "metadata": {
    "papermill": {
     "duration": 0.008936,
     "end_time": "2025-04-13T04:00:11.291623",
     "exception": false,
     "start_time": "2025-04-13T04:00:11.282687",
     "status": "completed"
    },
    "tags": []
   },
   "outputs": [],
   "source": []
  }
 ],
 "metadata": {
  "kaggle": {
   "accelerator": "none",
   "dataSources": [
    {
     "sourceId": 97258,
     "sourceType": "competition"
    },
    {
     "datasetId": 7069385,
     "sourceId": 11304051,
     "sourceType": "datasetVersion"
    }
   ],
   "dockerImageVersionId": 30918,
   "isGpuEnabled": false,
   "isInternetEnabled": true,
   "language": "python",
   "sourceType": "notebook"
  },
  "kernelspec": {
   "display_name": "Python 3",
   "language": "python",
   "name": "python3"
  },
  "language_info": {
   "codemirror_mode": {
    "name": "ipython",
    "version": 3
   },
   "file_extension": ".py",
   "mimetype": "text/x-python",
   "name": "python",
   "nbconvert_exporter": "python",
   "pygments_lexer": "ipython3",
   "version": "3.10.12"
  },
  "papermill": {
   "default_parameters": {},
   "duration": 75.79742,
   "end_time": "2025-04-13T04:00:12.327457",
   "environment_variables": {},
   "exception": null,
   "input_path": "__notebook__.ipynb",
   "output_path": "__notebook__.ipynb",
   "parameters": {},
   "start_time": "2025-04-13T03:58:56.530037",
   "version": "2.6.0"
  }
 },
 "nbformat": 4,
 "nbformat_minor": 5
}
