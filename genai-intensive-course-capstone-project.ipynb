{
 "cells": [
  {
   "cell_type": "markdown",
   "id": "2d26586e",
   "metadata": {
    "papermill": {
     "duration": 0.005705,
     "end_time": "2025-04-18T01:34:46.743715",
     "exception": false,
     "start_time": "2025-04-18T01:34:46.738010",
     "status": "completed"
    },
    "tags": []
   },
   "source": [
    "# GenAI Intensive Course Capstone Project : Terms of Service Translator\n",
    "\n",
    "## Overview\n",
    "\n",
    "Reading the long and complicated terms of service on websites can be overwhelming for most people. These documents are full of legal language that many users don't read or fully understand, which can lead to uncertainty about the specifics of the service they are using, what they are agreeing to, and the responsibilities of the provider. **This project tackles that problem by creating a smart \"Terms of Service Translator.\"** It uses Gemini AI to turn complex legal text into simple, easy-to-understand summaries. The translated texts are written in plain English and made more approachable with helpful emoji.\n",
    "\n",
    "To illustrate the capabilities of this translator, a sample Terms of Service document has been created for a fictitious company called \"Dig-A-Hole.\" This whimsical example details a service where customers can engage in the activity of digging holes in designated areas of a field for recreational exercise and stress relief, with options for subscription. This sample terms of service document has been saved in a PDF file, which Gemini AI is then used to read and process. The goal is to translate the formal legal language of this document into a clear and friendly summary.\n",
    "\n",
    "This project was incorporated by the following approach along with demonstration of Gen AI capabilities in ().\n",
    "\n",
    "* A sample Terms of Service document was created for the fictitious \"Dig-A-Hole\" company, detailing their stress-relief digging service, and then saved as a PDF.\n",
    "* The necessary Google API key was set up to enable access to the Gen AI models.\n",
    "* A suitable Gemini model was selected for effective language processing.\n",
    "* The PDF document was then processed using Gemini AI with a carefully designed prompt to extract and summarize the key legal terms into plain, accessible English (Leveraging Gemini for **Document Understanding**).\n",
    "* Few-shot prompting with illustrative examples was employed to guide Gemini in incorporating relevant and helpful emojis into the translations (**Few-shot Prompting**).\n",
    "* The output was structured using JSON format to establish a direct and clear link between the original legal terms and their corresponding simplified translations (**JSON Mode**).\n",
    "* Gemini AI was utilized again to rigorously evaluate the quality of the translated output based on predefined metrics, specific evaluation criteria, and a detailed rating rubric (**Gen AI Evaluation**).\n",
    "* Interactivity was implemented in the translated Terms of Service by using Embeddings and Retrieval Augmented Generation (RAG). This allows users to ask specific questions about the terms and receive relevant, context-aware answers (**Embeddings** and **RAG**).\n",
    "\n",
    "This project demonstrates a practical application of Gen AI in making legal documents more accessible and user-friendly."
   ]
  },
  {
   "cell_type": "code",
   "execution_count": 1,
   "id": "ca6182bf",
   "metadata": {
    "_cell_guid": "b1076dfc-b9ad-4769-8c92-a6c4dae69d19",
    "_uuid": "8f2839f25d086af736a60e9eeb907d3b93b6e0e5",
    "execution": {
     "iopub.execute_input": "2025-04-18T01:34:46.754898Z",
     "iopub.status.busy": "2025-04-18T01:34:46.754636Z",
     "iopub.status.idle": "2025-04-18T01:34:47.498932Z",
     "shell.execute_reply": "2025-04-18T01:34:47.497884Z"
    },
    "papermill": {
     "duration": 0.751467,
     "end_time": "2025-04-18T01:34:47.500235",
     "exception": false,
     "start_time": "2025-04-18T01:34:46.748768",
     "status": "completed"
    },
    "tags": []
   },
   "outputs": [
    {
     "name": "stdout",
     "output_type": "stream",
     "text": [
      "/kaggle/input/sample-terms-of-service/sample_terms_of_service.pdf\n",
      "/kaggle/input/sample-terms-of-service/sample_terms_of_service2.pdf\n"
     ]
    }
   ],
   "source": [
    "# This Python 3 environment comes with many helpful analytics libraries installed\n",
    "# It is defined by the kaggle/python Docker image: https://github.com/kaggle/docker-python\n",
    "# For example, here's several helpful packages to load\n",
    "\n",
    "import numpy as np # linear algebra\n",
    "import pandas as pd # data processing, CSV file I/O (e.g. pd.read_csv)\n",
    "\n",
    "# Input data files are available in the read-only \"../input/\" directory\n",
    "# For example, running this (by clicking run or pressing Shift+Enter) will list all files under the input directory\n",
    "\n",
    "import os\n",
    "for dirname, _, filenames in os.walk('/kaggle/input'):\n",
    "    for filename in filenames:\n",
    "        print(os.path.join(dirname, filename))\n",
    "\n",
    "# You can write up to 20GB to the current directory (/kaggle/working/) that gets preserved as output when you create a version using \"Save & Run All\" \n",
    "# You can also write temporary files to /kaggle/temp/, but they won't be saved outside of the current session"
   ]
  },
  {
   "cell_type": "markdown",
   "id": "b39b8de8",
   "metadata": {
    "papermill": {
     "duration": 0.004778,
     "end_time": "2025-04-18T01:34:47.510781",
     "exception": false,
     "start_time": "2025-04-18T01:34:47.506003",
     "status": "completed"
    },
    "tags": []
   },
   "source": [
    "## Install the Python SDK\n",
    "\n",
    "First things first, let's grab the necessary tools! I'll be installing the Gemini API Python SDK so I can chat with the AI, and also ChromaDB, which will come in handy later for making my terms of service interactively.\n"
   ]
  },
  {
   "cell_type": "code",
   "execution_count": 2,
   "id": "e888b75e",
   "metadata": {
    "execution": {
     "iopub.execute_input": "2025-04-18T01:34:47.521931Z",
     "iopub.status.busy": "2025-04-18T01:34:47.521493Z",
     "iopub.status.idle": "2025-04-18T01:35:22.462237Z",
     "shell.execute_reply": "2025-04-18T01:35:22.461011Z"
    },
    "papermill": {
     "duration": 34.94822,
     "end_time": "2025-04-18T01:35:22.463950",
     "exception": false,
     "start_time": "2025-04-18T01:34:47.515730",
     "status": "completed"
    },
    "tags": []
   },
   "outputs": [
    {
     "name": "stdout",
     "output_type": "stream",
     "text": [
      "\u001b[33mWARNING: Skipping kfp as it is not installed.\u001b[0m\u001b[33m\r\n",
      "\u001b[2K     \u001b[90m━━━━━━━━━━━━━━━━━━━━━━━━━━━━━━━━━━━━━━━━\u001b[0m \u001b[32m67.3/67.3 kB\u001b[0m \u001b[31m3.8 MB/s\u001b[0m eta \u001b[36m0:00:00\u001b[0m\r\n",
      "\u001b[?25h  Installing build dependencies ... \u001b[?25l\u001b[?25hdone\r\n",
      "  Getting requirements to build wheel ... \u001b[?25l\u001b[?25hdone\r\n",
      "  Preparing metadata (pyproject.toml) ... \u001b[?25l\u001b[?25hdone\r\n",
      "\u001b[2K   \u001b[90m━━━━━━━━━━━━━━━━━━━━━━━━━━━━━━━━━━━━━━━━\u001b[0m \u001b[32m144.7/144.7 kB\u001b[0m \u001b[31m8.1 MB/s\u001b[0m eta \u001b[36m0:00:00\u001b[0m\r\n",
      "\u001b[2K   \u001b[90m━━━━━━━━━━━━━━━━━━━━━━━━━━━━━━━━━━━━━━━━\u001b[0m \u001b[32m611.1/611.1 kB\u001b[0m \u001b[31m13.6 MB/s\u001b[0m eta \u001b[36m0:00:00\u001b[0m\r\n",
      "\u001b[2K   \u001b[90m━━━━━━━━━━━━━━━━━━━━━━━━━━━━━━━━━━━━━━━━\u001b[0m \u001b[32m2.4/2.4 MB\u001b[0m \u001b[31m61.1 MB/s\u001b[0m eta \u001b[36m0:00:00\u001b[0m\r\n",
      "\u001b[2K   \u001b[90m━━━━━━━━━━━━━━━━━━━━━━━━━━━━━━━━━━━━━━━━\u001b[0m \u001b[32m100.9/100.9 kB\u001b[0m \u001b[31m6.3 MB/s\u001b[0m eta \u001b[36m0:00:00\u001b[0m\r\n",
      "\u001b[2K   \u001b[90m━━━━━━━━━━━━━━━━━━━━━━━━━━━━━━━━━━━━━━━━\u001b[0m \u001b[32m284.2/284.2 kB\u001b[0m \u001b[31m16.1 MB/s\u001b[0m eta \u001b[36m0:00:00\u001b[0m\r\n",
      "\u001b[2K   \u001b[90m━━━━━━━━━━━━━━━━━━━━━━━━━━━━━━━━━━━━━━━━\u001b[0m \u001b[32m95.2/95.2 kB\u001b[0m \u001b[31m5.7 MB/s\u001b[0m eta \u001b[36m0:00:00\u001b[0m\r\n",
      "\u001b[2K   \u001b[90m━━━━━━━━━━━━━━━━━━━━━━━━━━━━━━━━━━━━━━━━\u001b[0m \u001b[32m2.0/2.0 MB\u001b[0m \u001b[31m60.0 MB/s\u001b[0m eta \u001b[36m0:00:00\u001b[0m\r\n",
      "\u001b[2K   \u001b[90m━━━━━━━━━━━━━━━━━━━━━━━━━━━━━━━━━━━━━━━━\u001b[0m \u001b[32m99.2/99.2 kB\u001b[0m \u001b[31m7.1 MB/s\u001b[0m eta \u001b[36m0:00:00\u001b[0m\r\n",
      "\u001b[2K   \u001b[90m━━━━━━━━━━━━━━━━━━━━━━━━━━━━━━━━━━━━━━━━\u001b[0m \u001b[32m16.0/16.0 MB\u001b[0m \u001b[31m71.1 MB/s\u001b[0m eta \u001b[36m0:00:00\u001b[0m\r\n",
      "\u001b[2K   \u001b[90m━━━━━━━━━━━━━━━━━━━━━━━━━━━━━━━━━━━━━━━━\u001b[0m \u001b[32m55.9/55.9 kB\u001b[0m \u001b[31m3.8 MB/s\u001b[0m eta \u001b[36m0:00:00\u001b[0m\r\n",
      "\u001b[2K   \u001b[90m━━━━━━━━━━━━━━━━━━━━━━━━━━━━━━━━━━━━━━━━\u001b[0m \u001b[32m188.4/188.4 kB\u001b[0m \u001b[31m12.7 MB/s\u001b[0m eta \u001b[36m0:00:00\u001b[0m\r\n",
      "\u001b[2K   \u001b[90m━━━━━━━━━━━━━━━━━━━━━━━━━━━━━━━━━━━━━━━━\u001b[0m \u001b[32m65.3/65.3 kB\u001b[0m \u001b[31m4.1 MB/s\u001b[0m eta \u001b[36m0:00:00\u001b[0m\r\n",
      "\u001b[2K   \u001b[90m━━━━━━━━━━━━━━━━━━━━━━━━━━━━━━━━━━━━━━━━\u001b[0m \u001b[32m119.0/119.0 kB\u001b[0m \u001b[31m8.3 MB/s\u001b[0m eta \u001b[36m0:00:00\u001b[0m\r\n",
      "\u001b[2K   \u001b[90m━━━━━━━━━━━━━━━━━━━━━━━━━━━━━━━━━━━━━━━━\u001b[0m \u001b[32m89.1/89.1 kB\u001b[0m \u001b[31m5.7 MB/s\u001b[0m eta \u001b[36m0:00:00\u001b[0m\r\n",
      "\u001b[2K   \u001b[90m━━━━━━━━━━━━━━━━━━━━━━━━━━━━━━━━━━━━━━━━\u001b[0m \u001b[32m62.4/62.4 kB\u001b[0m \u001b[31m3.8 MB/s\u001b[0m eta \u001b[36m0:00:00\u001b[0m\r\n",
      "\u001b[2K   \u001b[90m━━━━━━━━━━━━━━━━━━━━━━━━━━━━━━━━━━━━━━━━\u001b[0m \u001b[32m442.1/442.1 kB\u001b[0m \u001b[31m23.3 MB/s\u001b[0m eta \u001b[36m0:00:00\u001b[0m\r\n",
      "\u001b[2K   \u001b[90m━━━━━━━━━━━━━━━━━━━━━━━━━━━━━━━━━━━━━━━━\u001b[0m \u001b[32m319.7/319.7 kB\u001b[0m \u001b[31m18.7 MB/s\u001b[0m eta \u001b[36m0:00:00\u001b[0m\r\n",
      "\u001b[2K   \u001b[90m━━━━━━━━━━━━━━━━━━━━━━━━━━━━━━━━━━━━━━━━\u001b[0m \u001b[32m72.0/72.0 kB\u001b[0m \u001b[31m4.7 MB/s\u001b[0m eta \u001b[36m0:00:00\u001b[0m\r\n",
      "\u001b[2K   \u001b[90m━━━━━━━━━━━━━━━━━━━━━━━━━━━━━━━━━━━━━━━━\u001b[0m \u001b[32m3.8/3.8 MB\u001b[0m \u001b[31m70.9 MB/s\u001b[0m eta \u001b[36m0:00:00\u001b[0m\r\n",
      "\u001b[2K   \u001b[90m━━━━━━━━━━━━━━━━━━━━━━━━━━━━━━━━━━━━━━━━\u001b[0m \u001b[32m454.9/454.9 kB\u001b[0m \u001b[31m22.9 MB/s\u001b[0m eta \u001b[36m0:00:00\u001b[0m\r\n",
      "\u001b[2K   \u001b[90m━━━━━━━━━━━━━━━━━━━━━━━━━━━━━━━━━━━━━━━━\u001b[0m \u001b[32m46.0/46.0 kB\u001b[0m \u001b[31m2.3 MB/s\u001b[0m eta \u001b[36m0:00:00\u001b[0m\r\n",
      "\u001b[2K   \u001b[90m━━━━━━━━━━━━━━━━━━━━━━━━━━━━━━━━━━━━━━━━\u001b[0m \u001b[32m86.8/86.8 kB\u001b[0m \u001b[31m5.2 MB/s\u001b[0m eta \u001b[36m0:00:00\u001b[0m\r\n",
      "\u001b[?25h  Building wheel for pypika (pyproject.toml) ... \u001b[?25l\u001b[?25hdone\r\n",
      "\u001b[31mERROR: pip's dependency resolver does not currently take into account all the packages that are installed. This behaviour is the source of the following dependency conflicts.\r\n",
      "google-api-core 1.34.1 requires protobuf!=3.20.0,!=3.20.1,!=4.21.0,!=4.21.1,!=4.21.2,!=4.21.3,!=4.21.4,!=4.21.5,<4.0.0dev,>=3.19.5, but you have protobuf 5.29.4 which is incompatible.\r\n",
      "google-cloud-bigtable 2.27.0 requires google-api-core[grpc]<3.0.0dev,>=2.16.0, but you have google-api-core 1.34.1 which is incompatible.\r\n",
      "google-cloud-translate 3.12.1 requires protobuf!=3.20.0,!=3.20.1,!=4.21.0,!=4.21.1,!=4.21.2,!=4.21.3,!=4.21.4,!=4.21.5,<5.0.0dev,>=3.19.5, but you have protobuf 5.29.4 which is incompatible.\r\n",
      "pandas-gbq 0.25.0 requires google-api-core<3.0.0dev,>=2.10.2, but you have google-api-core 1.34.1 which is incompatible.\r\n",
      "tensorflow 2.17.1 requires protobuf!=4.21.0,!=4.21.1,!=4.21.2,!=4.21.3,!=4.21.4,!=4.21.5,<5.0.0dev,>=3.20.3, but you have protobuf 5.29.4 which is incompatible.\r\n",
      "tensorflow-decision-forests 1.10.0 requires tensorflow==2.17.0, but you have tensorflow 2.17.1 which is incompatible.\r\n",
      "tensorflow-metadata 1.13.1 requires protobuf<5,>=3.20.3, but you have protobuf 5.29.4 which is incompatible.\u001b[0m\u001b[31m\r\n",
      "\u001b[0m"
     ]
    }
   ],
   "source": [
    "#!pip install -Uq \"google-genai==1.7.0\"\n",
    "!pip uninstall -qqy jupyterlab kfp  # Remove unused conflicting packages\n",
    "!pip install -qU \"google-genai==1.7.0\" \"chromadb==0.6.3\""
   ]
  },
  {
   "cell_type": "code",
   "execution_count": 3,
   "id": "d7e8aa81",
   "metadata": {
    "execution": {
     "iopub.execute_input": "2025-04-18T01:35:22.478361Z",
     "iopub.status.busy": "2025-04-18T01:35:22.478115Z",
     "iopub.status.idle": "2025-04-18T01:35:23.476221Z",
     "shell.execute_reply": "2025-04-18T01:35:23.475092Z"
    },
    "papermill": {
     "duration": 1.006871,
     "end_time": "2025-04-18T01:35:23.477721",
     "exception": false,
     "start_time": "2025-04-18T01:35:22.470850",
     "status": "completed"
    },
    "tags": []
   },
   "outputs": [
    {
     "data": {
      "text/plain": [
       "'1.7.0'"
      ]
     },
     "execution_count": 3,
     "metadata": {},
     "output_type": "execute_result"
    }
   ],
   "source": [
    "from google import genai\n",
    "from google.genai import types\n",
    "\n",
    "from IPython.display import Markdown, display\n",
    "\n",
    "genai.__version__"
   ]
  },
  {
   "cell_type": "markdown",
   "id": "69e844cd",
   "metadata": {
    "papermill": {
     "duration": 0.007362,
     "end_time": "2025-04-18T01:35:23.492045",
     "exception": false,
     "start_time": "2025-04-18T01:35:23.484683",
     "status": "completed"
    },
    "tags": []
   },
   "source": [
    "## Set up the API key\n",
    "\n",
    "Alright, time to get my API key sorted! I'll need this so I can actually chat with Gemini. I've already tucked my Google API key away securely in a secret called `GOOGLE_API_KEY`."
   ]
  },
  {
   "cell_type": "code",
   "execution_count": 4,
   "id": "6a5dcc47",
   "metadata": {
    "execution": {
     "iopub.execute_input": "2025-04-18T01:35:23.506480Z",
     "iopub.status.busy": "2025-04-18T01:35:23.506058Z",
     "iopub.status.idle": "2025-04-18T01:35:23.958182Z",
     "shell.execute_reply": "2025-04-18T01:35:23.957362Z"
    },
    "papermill": {
     "duration": 0.460899,
     "end_time": "2025-04-18T01:35:23.959771",
     "exception": false,
     "start_time": "2025-04-18T01:35:23.498872",
     "status": "completed"
    },
    "tags": []
   },
   "outputs": [],
   "source": [
    "from kaggle_secrets import UserSecretsClient\n",
    "\n",
    "client = genai.Client(api_key=UserSecretsClient().get_secret(\"GOOGLE_API_KEY\"))"
   ]
  },
  {
   "cell_type": "markdown",
   "id": "cee2fe77",
   "metadata": {
    "papermill": {
     "duration": 0.006066,
     "end_time": "2025-04-18T01:35:23.972537",
     "exception": false,
     "start_time": "2025-04-18T01:35:23.966471",
     "status": "completed"
    },
    "tags": []
   },
   "source": [
    "## Automated retry\n",
    "\n",
    "This codelab sends a lot of requests, so set up an automatic retry that ensures your requests are retried when per-minute quota is reached.\n",
    "I might be sending a bunch of requests to Gemini. To avoid any hiccups if I hit a temporary limit, I'm setting up an automatic retry system. This way, if a request gets a \"try again later\" message, my code will patiently wait and try again. Smart, right? 😉\n"
   ]
  },
  {
   "cell_type": "code",
   "execution_count": 5,
   "id": "9408608d",
   "metadata": {
    "execution": {
     "iopub.execute_input": "2025-04-18T01:35:23.986615Z",
     "iopub.status.busy": "2025-04-18T01:35:23.986311Z",
     "iopub.status.idle": "2025-04-18T01:35:24.136562Z",
     "shell.execute_reply": "2025-04-18T01:35:24.135674Z"
    },
    "papermill": {
     "duration": 0.159168,
     "end_time": "2025-04-18T01:35:24.138186",
     "exception": false,
     "start_time": "2025-04-18T01:35:23.979018",
     "status": "completed"
    },
    "tags": []
   },
   "outputs": [],
   "source": [
    "from google.api_core import retry\n",
    "\n",
    "is_retriable = lambda e: (isinstance(e, genai.errors.APIError) and e.code in {429, 503})\n",
    "\n",
    "if not hasattr(genai.models.Models.generate_content, '__wrapped__'):\n",
    "  genai.models.Models.generate_content = retry.Retry(\n",
    "      predicate=is_retriable)(genai.models.Models.generate_content)"
   ]
  },
  {
   "cell_type": "markdown",
   "id": "7a68d222",
   "metadata": {
    "papermill": {
     "duration": 0.006039,
     "end_time": "2025-04-18T01:35:24.150933",
     "exception": false,
     "start_time": "2025-04-18T01:35:24.144894",
     "status": "completed"
    },
    "tags": []
   },
   "source": [
    "## Model Selection\n",
    "\n",
    "Gemini comes in different flavors! I'm going to take a peek at the available models and see which one seems like the best fit for my task right here. It's like choosing the right expert for the job! 🤔"
   ]
  },
  {
   "cell_type": "code",
   "execution_count": 6,
   "id": "380d320b",
   "metadata": {
    "execution": {
     "iopub.execute_input": "2025-04-18T01:35:24.164664Z",
     "iopub.status.busy": "2025-04-18T01:35:24.164148Z",
     "iopub.status.idle": "2025-04-18T01:35:24.349057Z",
     "shell.execute_reply": "2025-04-18T01:35:24.347210Z"
    },
    "papermill": {
     "duration": 0.193158,
     "end_time": "2025-04-18T01:35:24.350257",
     "exception": false,
     "start_time": "2025-04-18T01:35:24.157099",
     "status": "completed"
    },
    "tags": []
   },
   "outputs": [
    {
     "name": "stdout",
     "output_type": "stream",
     "text": [
      "models/chat-bison-001\n",
      "models/text-bison-001\n",
      "models/embedding-gecko-001\n",
      "models/gemini-1.0-pro-vision-latest\n",
      "models/gemini-pro-vision\n",
      "models/gemini-1.5-pro-latest\n",
      "models/gemini-1.5-pro-001\n",
      "models/gemini-1.5-pro-002\n",
      "models/gemini-1.5-pro\n",
      "models/gemini-1.5-flash-latest\n",
      "models/gemini-1.5-flash-001\n",
      "models/gemini-1.5-flash-001-tuning\n",
      "models/gemini-1.5-flash\n",
      "models/gemini-1.5-flash-002\n",
      "models/gemini-1.5-flash-8b\n",
      "models/gemini-1.5-flash-8b-001\n",
      "models/gemini-1.5-flash-8b-latest\n",
      "models/gemini-1.5-flash-8b-exp-0827\n",
      "models/gemini-1.5-flash-8b-exp-0924\n",
      "models/gemini-2.5-pro-exp-03-25\n",
      "models/gemini-2.5-pro-preview-03-25\n",
      "models/gemini-2.5-flash-preview-04-17\n",
      "models/gemini-2.0-flash-exp\n",
      "models/gemini-2.0-flash\n",
      "models/gemini-2.0-flash-001\n",
      "models/gemini-2.0-flash-exp-image-generation\n",
      "models/gemini-2.0-flash-lite-001\n",
      "models/gemini-2.0-flash-lite\n",
      "models/gemini-2.0-flash-lite-preview-02-05\n",
      "models/gemini-2.0-flash-lite-preview\n",
      "models/gemini-2.0-pro-exp\n",
      "models/gemini-2.0-pro-exp-02-05\n",
      "models/gemini-exp-1206\n",
      "models/gemini-2.0-flash-thinking-exp-01-21\n",
      "models/gemini-2.0-flash-thinking-exp\n",
      "models/gemini-2.0-flash-thinking-exp-1219\n",
      "models/learnlm-1.5-pro-experimental\n",
      "models/learnlm-2.0-flash-experimental\n",
      "models/gemma-3-1b-it\n",
      "models/gemma-3-4b-it\n",
      "models/gemma-3-12b-it\n",
      "models/gemma-3-27b-it\n",
      "models/embedding-001\n",
      "models/text-embedding-004\n",
      "models/gemini-embedding-exp-03-07\n",
      "models/gemini-embedding-exp\n",
      "models/aqa\n",
      "models/imagen-3.0-generate-002\n",
      "models/gemini-2.0-flash-live-001\n"
     ]
    }
   ],
   "source": [
    "for model in client.models.list():\n",
    "  print(model.name)"
   ]
  },
  {
   "cell_type": "markdown",
   "id": "c0ecc3e1",
   "metadata": {
    "papermill": {
     "duration": 0.006219,
     "end_time": "2025-04-18T01:35:24.363233",
     "exception": false,
     "start_time": "2025-04-18T01:35:24.357014",
     "status": "completed"
    },
    "tags": []
   },
   "source": [
    "For summarizing the main document, I'm rolling with **gemini-1.5-pro**. It seems pretty reliable and stable for text-based tasks like this.\n",
    "\n",
    "(Quick heads-up though! For the evaluation part later on, I had to switch gears and use **gemini-2.0-flash**.)"
   ]
  },
  {
   "cell_type": "code",
   "execution_count": 7,
   "id": "f6a73f00",
   "metadata": {
    "execution": {
     "iopub.execute_input": "2025-04-18T01:35:24.376830Z",
     "iopub.status.busy": "2025-04-18T01:35:24.376483Z",
     "iopub.status.idle": "2025-04-18T01:35:24.757478Z",
     "shell.execute_reply": "2025-04-18T01:35:24.756414Z"
    },
    "papermill": {
     "duration": 0.389396,
     "end_time": "2025-04-18T01:35:24.758793",
     "exception": false,
     "start_time": "2025-04-18T01:35:24.369397",
     "status": "completed"
    },
    "tags": []
   },
   "outputs": [
    {
     "name": "stdout",
     "output_type": "stream",
     "text": [
      "{'description': 'Stable version of Gemini 1.5 Pro, our mid-size multimodal '\n",
      "                'model that supports up to 2 million tokens, released in May '\n",
      "                'of 2024.',\n",
      " 'display_name': 'Gemini 1.5 Pro',\n",
      " 'input_token_limit': 2000000,\n",
      " 'name': 'models/gemini-1.5-pro',\n",
      " 'output_token_limit': 8192,\n",
      " 'supported_actions': ['generateContent', 'countTokens'],\n",
      " 'tuned_model_info': {},\n",
      " 'version': '001'}\n"
     ]
    }
   ],
   "source": [
    "from pprint import pprint\n",
    "\n",
    "for model in client.models.list():\n",
    "  if model.name == 'models/gemini-1.5-pro':\n",
    "    pprint(model.to_json_dict())\n",
    "    break"
   ]
  },
  {
   "cell_type": "markdown",
   "id": "4e80b380",
   "metadata": {
    "papermill": {
     "duration": 0.006279,
     "end_time": "2025-04-18T01:35:24.771818",
     "exception": false,
     "start_time": "2025-04-18T01:35:24.765539",
     "status": "completed"
    },
    "tags": []
   },
   "source": [
    "## Document Understanding: Cracking Open the PDF! 🔓\n",
    "\n",
    "So, I've got my super important (but kinda snooze-worthy) terms of service all written down and tucked away in a PDF file. Right here, I'm gonna pull that document in and have Gemini work its magic to give me\n",
    "a quick and easy rundown in plain English – no legal headaches! 🥳"
   ]
  },
  {
   "cell_type": "code",
   "execution_count": 8,
   "id": "1b845821",
   "metadata": {
    "execution": {
     "iopub.execute_input": "2025-04-18T01:35:24.785580Z",
     "iopub.status.busy": "2025-04-18T01:35:24.785253Z",
     "iopub.status.idle": "2025-04-18T01:35:26.548863Z",
     "shell.execute_reply": "2025-04-18T01:35:26.547970Z"
    },
    "papermill": {
     "duration": 1.772338,
     "end_time": "2025-04-18T01:35:26.550423",
     "exception": false,
     "start_time": "2025-04-18T01:35:24.778085",
     "status": "completed"
    },
    "tags": []
   },
   "outputs": [],
   "source": [
    "document_file = client.files.upload(file='/kaggle/input/sample-terms-of-service/sample_terms_of_service.pdf')"
   ]
  },
  {
   "cell_type": "markdown",
   "id": "fed18b39",
   "metadata": {
    "papermill": {
     "duration": 0.007065,
     "end_time": "2025-04-18T01:35:26.564838",
     "exception": false,
     "start_time": "2025-04-18T01:35:26.557773",
     "status": "completed"
    },
    "tags": []
   },
   "source": [
    "## Few-Shot Prompt: Making it Friendly! 🎉\n",
    "\n",
    "The summary I got above is okay, but let's dial up the friendliness!\n",
    "To get Gemini to be a bit more casual and throw in some fun emoji, I'm going to use a \"few-shot prompt.\" This involves showing Gemini a few examples of how I want the translations to sound, specifically super chill and emoji-packed! 😎"
   ]
  },
  {
   "cell_type": "code",
   "execution_count": 9,
   "id": "654d0c93",
   "metadata": {
    "execution": {
     "iopub.execute_input": "2025-04-18T01:35:26.578621Z",
     "iopub.status.busy": "2025-04-18T01:35:26.578262Z",
     "iopub.status.idle": "2025-04-18T01:35:38.249606Z",
     "shell.execute_reply": "2025-04-18T01:35:38.248744Z"
    },
    "papermill": {
     "duration": 11.680033,
     "end_time": "2025-04-18T01:35:38.251106",
     "exception": false,
     "start_time": "2025-04-18T01:35:26.571073",
     "status": "completed"
    },
    "tags": []
   },
   "outputs": [
    {
     "name": "stdout",
     "output_type": "stream",
     "text": [
      "Want to dig a hole? 🕳️ Here's the deal:\n",
      "\n",
      "1. **The Agreement:** This is a contract. By digging with us, you agree to these rules. 🤝\n",
      "2. **What We Do:** We offer a place to dig holes for fun and stress relief!  We have a free trial dig, then you need a monthly subscription.  You can also rent a shovel. 🥄\n",
      "3. **Subscriptions & Payment:** Subscriptions are for a whole month (at least).  We'll tell you the price online or at our place.  You'll be billed each month.  You can cancel anytime, but you still have to pay for the current month.  No refunds for partial months. 🗓️💰\n",
      "4. **Shovel Rental:**  Rent a shovel! 🥄  Take care of it and bring it back in good shape (normal wear and tear is okay).  We might charge you if it's broken or lost. \n",
      "5. **Safety First (But It's Your Responsibility):** Digging can be dangerous! You might get tired, hurt, trip, or bonk yourself on a rock. 🤕  You're responsible for your own safety.  By digging here, you're saying you understand the risks.\n",
      "6. **Don't Sue Us:**  If you get hurt, you can't sue us.  You also agree to protect us from any legal trouble related to your digging adventures.  (Legalese: \"Release of Liability and Indemnification\") 🤕➡️🙅‍♀️🚫⚖️\n",
      "7. **Not Doctors:** We're not medical professionals.  See a doctor before digging, especially if you have health issues.  We're not responsible for medical bills. 👨‍⚕️\n",
      "8. **Be Nice:** Be respectful.  We can kick you out if you're disruptive or unsafe.  🚷\n",
      "9. **We Can Change the Rules:** We can update these rules anytime.  Check back often! 🔄\n",
      "10. **Legal Stuff:** Ohio law applies.  Any legal disputes will be handled in Columbus, Ohio. ⚖️\n",
      "11. **The Whole Story:** This document is the complete agreement.  Everything else we've said or written before doesn't count. \n",
      "12. **Questions?** Contact us! 📞📧\n",
      "\n",
      "\n",
      "\n"
     ]
    }
   ],
   "source": [
    "model_config = types.GenerateContentConfig(\n",
    "    temperature=0.0\n",
    ")\n",
    "\n",
    "few_shot_prompt = \"\"\"\n",
    "Here are some examples of how to translate legal terms of service and their friendly summaries using emoji:\n",
    "\n",
    "Original: \"We reserve the right to accept or refuse membership in our discretion.\" \n",
    "Translated: \"We get to say yay 👍 or nay 👎 to memberships, just because we can💪!\"\n",
    "\n",
    "Original: \"To the maximum extent permitted by law, you agree that the Company shall not be held liable for any injuries, damages, or losses incurred in connection with the use of our services or products. By using our services, you waive any right to bring a claim or lawsuit against us for such injuries.\"\n",
    "Translated: \"Oops! If you trip, slip, or fall dramatically and get hurt while using our stuff, please don’t sue us 😅🙏. By hanging out with us, you're saying, 'Okay cool, I won't blame you if I bonk myself💖'\"\n",
    "\n",
    "Please summarize the following terms of service in plain, easy-to-undersand English with emoji.\n",
    "\"\"\"\n",
    "\n",
    "response = client.models.generate_content(\n",
    "    model='gemini-1.5-pro',\n",
    "    config=model_config,\n",
    "    contents=[few_shot_prompt, document_file],\n",
    ")\n",
    "\n",
    "print(response.text)"
   ]
  },
  {
   "cell_type": "code",
   "execution_count": 10,
   "id": "52162d7a",
   "metadata": {
    "execution": {
     "iopub.execute_input": "2025-04-18T01:35:38.266126Z",
     "iopub.status.busy": "2025-04-18T01:35:38.265839Z",
     "iopub.status.idle": "2025-04-18T01:35:47.660142Z",
     "shell.execute_reply": "2025-04-18T01:35:47.659292Z"
    },
    "papermill": {
     "duration": 9.403094,
     "end_time": "2025-04-18T01:35:47.661370",
     "exception": false,
     "start_time": "2025-04-18T01:35:38.258276",
     "status": "completed"
    },
    "tags": []
   },
   "outputs": [
    {
     "data": {
      "text/markdown": [
       "Dig-A-Hole's Terms of Service basically say:\n",
       "\n",
       "* **Digging Holes:**  We let you dig holes in our field for fun and stress relief. You can try it once for free, then you need a monthly subscription. You can also rent shovels.\n",
       "* **Agreement:** By using our services, you agree to these rules.\n",
       "* **Subscriptions:** Subscriptions are monthly. You can cancel anytime, but you have to pay for the full month even if you cancel mid-month. No refunds for partial months.\n",
       "* **Shovel Rental:** You can rent shovels for an extra fee. You're responsible for any damage or loss beyond normal wear and tear.\n",
       "* **Safety:** Digging has risks (getting tired, injuries, etc.). You're responsible for your own safety. We're not liable for anything that happens to you while digging.\n",
       "* **Liability:** You agree not to sue us for anything related to using our services, and you agree to cover our legal costs if someone sues us because of something you did.\n",
       "* **Medical:** We don't offer medical services. See a doctor before digging, especially if you have health issues. We're not responsible for your medical bills.\n",
       "* **Behavior:** Behave respectfully. We can refuse service to anyone disruptive or unsafe.\n",
       "* **Changes:** We can change these terms anytime.  Using our services after a change means you accept the new terms.\n",
       "* **Law:** Ohio law applies to these terms. Any disputes will be handled in Columbus, Ohio courts.\n",
       "* **Contact:**  Contact information is provided if you have questions.\n",
       "\n",
       "\n",
       "In short, you pay to dig holes, you're responsible for your own safety and actions, and we're not liable for much.  Have fun digging!\n"
      ],
      "text/plain": [
       "<IPython.core.display.Markdown object>"
      ]
     },
     "execution_count": 10,
     "metadata": {},
     "output_type": "execute_result"
    }
   ],
   "source": [
    "request = 'Please summarize the following terms of servicein plain, easy-to-undersand English:'\n",
    "\n",
    "def translate_doc(request: str) -> str:\n",
    "  \"\"\"Execute the request on the uploaded document.\"\"\"\n",
    "  # Set the temperature low to stabilise the output.\n",
    "  config = types.GenerateContentConfig(temperature=0.0)\n",
    "  response = client.models.generate_content(\n",
    "      model='gemini-1.5-pro',\n",
    "      config=config,\n",
    "      contents=[request, document_file],\n",
    "  )\n",
    "\n",
    "  return response.text\n",
    "\n",
    "summary = translate_doc(request)\n",
    "Markdown(summary)"
   ]
  },
  {
   "cell_type": "markdown",
   "id": "95dc1916",
   "metadata": {
    "papermill": {
     "duration": 0.006467,
     "end_time": "2025-04-18T01:35:47.675056",
     "exception": false,
     "start_time": "2025-04-18T01:35:47.668589",
     "status": "completed"
    },
    "tags": []
   },
   "source": [
    "## JSON: Keeping Things Linked\n",
    "\n",
    "Good summaries so far! Now, let's structure things with JSON to keep each \"Original\" legal term directly linked to its \"Translated\" buddy. "
   ]
  },
  {
   "cell_type": "code",
   "execution_count": 11,
   "id": "a76c1011",
   "metadata": {
    "execution": {
     "iopub.execute_input": "2025-04-18T01:35:47.689984Z",
     "iopub.status.busy": "2025-04-18T01:35:47.689746Z",
     "iopub.status.idle": "2025-04-18T01:36:10.710393Z",
     "shell.execute_reply": "2025-04-18T01:36:10.709246Z"
    },
    "papermill": {
     "duration": 23.029444,
     "end_time": "2025-04-18T01:36:10.711833",
     "exception": false,
     "start_time": "2025-04-18T01:35:47.682389",
     "status": "completed"
    },
    "tags": []
   },
   "outputs": [
    {
     "name": "stdout",
     "output_type": "stream",
     "text": [
      "[\n",
      "    {\n",
      "        \"Original\": \"These Terms of Service constitute a legally binding agreement between you (\\\"Customer,\\\" \\\"you,\\\" or \\\"your\\\") and Dig-A-Hole (\\\"Dig-A-Hole,\\\" \\\"we,\\\" \\\"us,\\\" or \\\"our\\\"). By using our services, you acknowledge that you have read, understood, and agree to be bound by these Terms.\",\n",
      "        \"Translated\": \"This is a real deal contract between you (that's \\\"Customer,\\\" \\\"you,\\\" or \\\"your\\\") and us (we're \\\"Dig-A-Hole\\\" also known as \\\"we,\\\" \\\"us,\\\" or \\\"our\\\"). By using our stuff, you're saying \\\"I get it, and I'm on board!\\\" 🤝\"\n",
      "    },\n",
      "    {\n",
      "        \"Original\": \"Dig-A-Hole provides a facility where customers can engage in the activity of digging holes in designated areas of a field. Our services are intended for recreational exercise and stress relief.\",\n",
      "        \"Translated\": \"We've got a place where you can dig holes to your heart's content! 🕳️ It's all about fun, exercise, and digging away your stress! 😄\"\n",
      "    },\n",
      "    {\n",
      "        \"Original\": \"Free Trial Dig: New customers are eligible for one (1) complimentary digging session before requiring a subscription.\",\n",
      "        \"Translated\": \"First dig is FREE! 🎉 Try us out before you subscribe.\"\n",
      "    },\n",
      "    {\n",
      "        \"Original\": \"Monthly Subscription Plan: Customers can subscribe to a monthly plan for ongoing access to our digging facilities.\",\n",
      "        \"Translated\": \"Dig all month long! Subscribe for endless digging fun! 🗓️\"\n",
      "    },\n",
      "    {\n",
      "        \"Original\": \"Shovel Rental Add-On: Customers have the option to rent shovels for an additional fee, subject to availability.\",\n",
      "        \"Translated\": \"Need a shovel? 🥄 We rent those too (if we have any left!).\"\n",
      "    },\n",
      "    {\n",
      "        \"Original\": \"Minimum Subscription Period: All subscriptions have a minimum commitment of one (1) full month.\",\n",
      "        \"Translated\": \"Subscriptions are for at least one month.\"\n",
      "    },\n",
      "    {\n",
      "        \"Original\": \"Cancellation: You may cancel your subscription at any time. However, due to the minimum one-month commitment, you will be responsible for the full payment of the current billing cycle in which you cancel, and your access will continue until the end of that paid month. No refunds will be provided for partial months.\",\n",
      "        \"Translated\": \"You can cancel anytime, but you gotta pay for the whole month you're in. No partial refunds! 💰\"\n",
      "    },\n",
      "    {\n",
      "        \"Original\": \"Shovels are available for rent on an add-on basis, subject to availability and an additional fee.\",\n",
      "        \"Translated\": \"Shovels are extra, and we might run out! 🥄\"\n",
      "    },\n",
      "    {\n",
      "        \"Original\": \"Customers renting shovels are responsible for their proper use and return in the same condition (excluding normal wear and tear).\",\n",
      "        \"Translated\": \"Please be nice to the shovels and bring them back in one piece (normal wear and tear is okay). 🙏\"\n",
      "    },\n",
      "    {\n",
      "        \"Original\": \"Dig-A-Hole reserves the right to charge for any damage to or loss of rented shovels.\",\n",
      "        \"Translated\": \"If you break or lose a shovel, you're gonna have to pay for it. 💸\"\n",
      "    },\n",
      "    {\n",
      "        \"Original\": \"Engaging in digging activities involves inherent risks, including but not limited to: Physical exertion and fatigue; Muscle strains, sprains, and other bodily injuries; Tripping, slipping, and falling; Injuries caused by contact with the ground, rocks, or other objects; Injuries resulting from the misuse of tools, including shovels; Exposure to weather conditions.\",\n",
      "        \"Translated\": \"Digging can be risky! You might get tired, pull a muscle, trip, fall, or hit something hard. 🤕 Be careful out there!\"\n",
      "    },\n",
      "    {\n",
      "        \"Original\": \"By participating in digging activities at Dig-A-Hole, you acknowledge and voluntarily assume all such risks. You are responsible for ensuring your own safety and well-being while on our premises.\",\n",
      "        \"Translated\": \"Dig at your own risk! You're responsible for your own safety. Be smart! ⛑️\"\n",
      "    },\n",
      "    {\n",
      "        \"Original\": \"You hereby release and forever discharge Dig-A-Hole, its owners, officers, directors, employees, agents, and affiliates from any and all claims, demands, actions, causes of action, damages, losses, expenses, and liabilities of any kind or nature whatsoever, whether known or unknown, arising out of or in any way connected with your use of Dig-A-Hole's facilities or participation in digging activities, including but not limited to any injuries you may sustain.\",\n",
      "        \"Translated\": \"If you get hurt while digging, it's not our fault! 😅 By digging here, you agree not to sue us for anything that happens.\"\n",
      "    },\n",
      "    {\n",
      "        \"Original\": \"You agree to indemnify, defend, and hold harmless Dig-A-Hole, its owners, officers, directors, employees, agents, and affiliates from and against any and all claims...arising out of or in any way connected with your breach of these Terms of Service or your negligent or willful misconduct while using our services or facilities.\",\n",
      "        \"Translated\": \"If you break the rules and something bad happens, you agree to protect us from any lawsuits. 🛡️\"\n",
      "    },\n",
      "    {\n",
      "        \"Original\": \"Dig-A-Hole does not provide medical services or advice. We recommend that you consult with your physician before participating in any physical activity, especially if you have any pre-existing medical conditions.\",\n",
      "        \"Translated\": \"We're not doctors! See your physician before digging, especially if you have health issues. 👨‍⚕️\"\n",
      "    },\n",
      "    {\n",
      "        \"Original\": \"You understand and agree that Dig-A-Hole will not be responsible for any medical expenses incurred by you as a result of any injury sustained while using our facilities or participating in digging activities. You are solely responsible for your own health and safety.\",\n",
      "        \"Translated\": \"We're not responsible for your medical bills if you get hurt! Take care of yourself. ❤️\"\n",
      "    },\n",
      "    {\n",
      "        \"Original\": \"Customers are expected to conduct themselves in a respectful and responsible manner while on Dig-A-Hole property. We reserve the right to refuse service to anyone who, in our sole discretion, engages in unsafe, disruptive, or inappropriate behavior.\",\n",
      "        \"Translated\": \"Behave yourselves! We can kick you out if you're being unsafe, disruptive, or inappropriate. 🚫\"\n",
      "    },\n",
      "    {\n",
      "        \"Original\": \"Dig-A-Hole reserves the right to modify or update these Terms of Service at any time without prior notice. Any changes will be effective immediately upon posting on our website or at our facility. Your continued use of our services after the posting of any revised Terms constitutes your acceptance of such changes.\",\n",
      "        \"Translated\": \"We might update these rules anytime. Check back often! Your continued digging means you agree to the new rules. 👍\"\n",
      "    },\n",
      "    {\n",
      "        \"Original\": \"These Terms of Service shall be governed by and construed in accordance with the laws of the State of Ohio, without regard to its conflict of law principles. Any dispute arising out of or relating to these Terms or your use of our services shall be exclusively resolved in the state or federal courts located in Columbus, OH, and you hereby consent to the jurisdiction of such courts.\",\n",
      "        \"Translated\": \"Ohio law rules! If we have a legal disagreement, it gets settled in Columbus, OH. 🏛️\"\n",
      "    }\n",
      "]\n"
     ]
    }
   ],
   "source": [
    "import json\n",
    "\n",
    "few_shot_prompt = \"\"\"\n",
    "Please translate the following terms of service to more casual,friendly, easy-to-understand English with emoji. The output should be a JSON array and each element is\n",
    "a JSON object with the \"Original\" and \"Translated\" version.\n",
    "Here are some examples of how to translate leagal terms of service and their friendly summaries using emoji:\n",
    "```\n",
    "{\n",
    "Original: \"We reserve the right to accept or refuse membership in our discretion.\" \n",
    "Translated: \"We get to say yay 👍 or nay 👎 to memberships, just because we can💪!\"\n",
    "}\n",
    "{\n",
    "Original: \"To the maximum extent permitted by law, you agree that the Company shall not be held liable for any injuries, damages, or losses incurred in connection with the use of our services or products. By using our services, you waive any right to bring a claim or lawsuit against us for such injuries.\"\n",
    "Translated: \"Oops!😳 If you trip, slip, or fall dramatically and get hurt🤕 while using our stuff, please don’t sue us 😅🙏. By hanging out with us, you're saying, 'Okay cool, I won't blame you if I bonk myself💖'\"\n",
    "}\n",
    "```\n",
    "\n",
    "\"\"\"\n",
    "\n",
    "response = client.models.generate_content(\n",
    "    model='gemini-1.5-pro',\n",
    "    contents= [few_shot_prompt, document_file],\n",
    "    config={\n",
    "        'response_mime_type': 'application/json'\n",
    "    },\n",
    ")\n",
    "     \n",
    "#print(response.text)\n",
    "\n",
    "response_load = json.loads(response.text)\n",
    "print(json.dumps(response_load, indent=4, ensure_ascii=False))"
   ]
  },
  {
   "cell_type": "markdown",
   "id": "cf8d58b9",
   "metadata": {
    "papermill": {
     "duration": 0.00668,
     "end_time": "2025-04-18T01:36:10.726091",
     "exception": false,
     "start_time": "2025-04-18T01:36:10.719411",
     "status": "completed"
    },
    "tags": []
   },
   "source": [
    "My data is all neatly organized in JSON format. To make it easier to work with, here's how I'm parsing the summary."
   ]
  },
  {
   "cell_type": "code",
   "execution_count": 12,
   "id": "640ef1a0",
   "metadata": {
    "execution": {
     "iopub.execute_input": "2025-04-18T01:36:10.742317Z",
     "iopub.status.busy": "2025-04-18T01:36:10.741934Z",
     "iopub.status.idle": "2025-04-18T01:36:10.754822Z",
     "shell.execute_reply": "2025-04-18T01:36:10.753638Z"
    },
    "papermill": {
     "duration": 0.023242,
     "end_time": "2025-04-18T01:36:10.756653",
     "exception": false,
     "start_time": "2025-04-18T01:36:10.733411",
     "status": "completed"
    },
    "tags": []
   },
   "outputs": [
    {
     "name": "stdout",
     "output_type": "stream",
     "text": [
      "\n",
      "Parsed JSON Summary:\n",
      "\n",
      "Item 1:\n",
      "  Original: These Terms of Service constitute a legally binding agreement between you (\"Customer,\" \"you,\" or \"your\") and Dig-A-Hole (\"Dig-A-Hole,\" \"we,\" \"us,\" or \"our\"). By using our services, you acknowledge that you have read, understood, and agree to be bound by these Terms.\n",
      "  Translated: This is a real deal contract between you (that's \"Customer,\" \"you,\" or \"your\") and us (we're \"Dig-A-Hole\" also known as \"we,\" \"us,\" or \"our\"). By using our stuff, you're saying \"I get it, and I'm on board!\" 🤝\n",
      "\n",
      "Item 2:\n",
      "  Original: Dig-A-Hole provides a facility where customers can engage in the activity of digging holes in designated areas of a field. Our services are intended for recreational exercise and stress relief.\n",
      "  Translated: We've got a place where you can dig holes to your heart's content! 🕳️ It's all about fun, exercise, and digging away your stress! 😄\n",
      "\n",
      "Item 3:\n",
      "  Original: Free Trial Dig: New customers are eligible for one (1) complimentary digging session before requiring a subscription.\n",
      "  Translated: First dig is FREE! 🎉 Try us out before you subscribe.\n",
      "\n",
      "Item 4:\n",
      "  Original: Monthly Subscription Plan: Customers can subscribe to a monthly plan for ongoing access to our digging facilities.\n",
      "  Translated: Dig all month long! Subscribe for endless digging fun! 🗓️\n",
      "\n",
      "Item 5:\n",
      "  Original: Shovel Rental Add-On: Customers have the option to rent shovels for an additional fee, subject to availability.\n",
      "  Translated: Need a shovel? 🥄 We rent those too (if we have any left!).\n",
      "\n",
      "Item 6:\n",
      "  Original: Minimum Subscription Period: All subscriptions have a minimum commitment of one (1) full month.\n",
      "  Translated: Subscriptions are for at least one month.\n",
      "\n",
      "Item 7:\n",
      "  Original: Cancellation: You may cancel your subscription at any time. However, due to the minimum one-month commitment, you will be responsible for the full payment of the current billing cycle in which you cancel, and your access will continue until the end of that paid month. No refunds will be provided for partial months.\n",
      "  Translated: You can cancel anytime, but you gotta pay for the whole month you're in. No partial refunds! 💰\n",
      "\n",
      "Item 8:\n",
      "  Original: Shovels are available for rent on an add-on basis, subject to availability and an additional fee.\n",
      "  Translated: Shovels are extra, and we might run out! 🥄\n",
      "\n",
      "Item 9:\n",
      "  Original: Customers renting shovels are responsible for their proper use and return in the same condition (excluding normal wear and tear).\n",
      "  Translated: Please be nice to the shovels and bring them back in one piece (normal wear and tear is okay). 🙏\n",
      "\n",
      "Item 10:\n",
      "  Original: Dig-A-Hole reserves the right to charge for any damage to or loss of rented shovels.\n",
      "  Translated: If you break or lose a shovel, you're gonna have to pay for it. 💸\n",
      "\n",
      "Item 11:\n",
      "  Original: Engaging in digging activities involves inherent risks, including but not limited to: Physical exertion and fatigue; Muscle strains, sprains, and other bodily injuries; Tripping, slipping, and falling; Injuries caused by contact with the ground, rocks, or other objects; Injuries resulting from the misuse of tools, including shovels; Exposure to weather conditions.\n",
      "  Translated: Digging can be risky! You might get tired, pull a muscle, trip, fall, or hit something hard. 🤕 Be careful out there!\n",
      "\n",
      "Item 12:\n",
      "  Original: By participating in digging activities at Dig-A-Hole, you acknowledge and voluntarily assume all such risks. You are responsible for ensuring your own safety and well-being while on our premises.\n",
      "  Translated: Dig at your own risk! You're responsible for your own safety. Be smart! ⛑️\n",
      "\n",
      "Item 13:\n",
      "  Original: You hereby release and forever discharge Dig-A-Hole, its owners, officers, directors, employees, agents, and affiliates from any and all claims, demands, actions, causes of action, damages, losses, expenses, and liabilities of any kind or nature whatsoever, whether known or unknown, arising out of or in any way connected with your use of Dig-A-Hole's facilities or participation in digging activities, including but not limited to any injuries you may sustain.\n",
      "  Translated: If you get hurt while digging, it's not our fault! 😅 By digging here, you agree not to sue us for anything that happens.\n",
      "\n",
      "Item 14:\n",
      "  Original: You agree to indemnify, defend, and hold harmless Dig-A-Hole, its owners, officers, directors, employees, agents, and affiliates from and against any and all claims...arising out of or in any way connected with your breach of these Terms of Service or your negligent or willful misconduct while using our services or facilities.\n",
      "  Translated: If you break the rules and something bad happens, you agree to protect us from any lawsuits. 🛡️\n",
      "\n",
      "Item 15:\n",
      "  Original: Dig-A-Hole does not provide medical services or advice. We recommend that you consult with your physician before participating in any physical activity, especially if you have any pre-existing medical conditions.\n",
      "  Translated: We're not doctors! See your physician before digging, especially if you have health issues. 👨‍⚕️\n",
      "\n",
      "Item 16:\n",
      "  Original: You understand and agree that Dig-A-Hole will not be responsible for any medical expenses incurred by you as a result of any injury sustained while using our facilities or participating in digging activities. You are solely responsible for your own health and safety.\n",
      "  Translated: We're not responsible for your medical bills if you get hurt! Take care of yourself. ❤️\n",
      "\n",
      "Item 17:\n",
      "  Original: Customers are expected to conduct themselves in a respectful and responsible manner while on Dig-A-Hole property. We reserve the right to refuse service to anyone who, in our sole discretion, engages in unsafe, disruptive, or inappropriate behavior.\n",
      "  Translated: Behave yourselves! We can kick you out if you're being unsafe, disruptive, or inappropriate. 🚫\n",
      "\n",
      "Item 18:\n",
      "  Original: Dig-A-Hole reserves the right to modify or update these Terms of Service at any time without prior notice. Any changes will be effective immediately upon posting on our website or at our facility. Your continued use of our services after the posting of any revised Terms constitutes your acceptance of such changes.\n",
      "  Translated: We might update these rules anytime. Check back often! Your continued digging means you agree to the new rules. 👍\n",
      "\n",
      "Item 19:\n",
      "  Original: These Terms of Service shall be governed by and construed in accordance with the laws of the State of Ohio, without regard to its conflict of law principles. Any dispute arising out of or relating to these Terms or your use of our services shall be exclusively resolved in the state or federal courts located in Columbus, OH, and you hereby consent to the jurisdiction of such courts.\n",
      "  Translated: Ohio law rules! If we have a legal disagreement, it gets settled in Columbus, OH. 🏛️\n"
     ]
    }
   ],
   "source": [
    "#I've got my data all nicely packed in JSON. But what if I want to parse it?  \n",
    "#Here's how I do the parsed summary.\n",
    "\n",
    "import json\n",
    "import re\n",
    "\n",
    "try:\n",
    "    print(\"\\nParsed JSON Summary:\")\n",
    "\n",
    "    if isinstance(response_load, list):\n",
    "        for i, item in enumerate(response_load, start=1):\n",
    "            original = item.get('Original', '[Missing original]')\n",
    "            translated = item.get('Translated', '[Missing translated]')\n",
    "            print(f\"\\nItem {i}:\")\n",
    "            print(f\"  Original: {original}\")\n",
    "            print(f\"  Translated: {translated}\")\n",
    "    else:\n",
    "        print(\"Expected a JSON array but received a different structure.\")\n",
    "except json.JSONDecodeError as e:\n",
    "    print(\"\\nError decoding JSON:\")\n",
    "    print(f\"  {e}\")\n",
    "    print(\"The output does not appear to be valid JSON.\")"
   ]
  },
  {
   "cell_type": "markdown",
   "id": "93a12866",
   "metadata": {
    "papermill": {
     "duration": 0.006624,
     "end_time": "2025-04-18T01:36:10.771045",
     "exception": false,
     "start_time": "2025-04-18T01:36:10.764421",
     "status": "completed"
    },
    "tags": []
   },
   "source": [
    "## Define an Evaluator: Checking the Translation Quality\n",
    "\n",
    "My friendly translation are looking good against the original text. Now, the question is: how well did my translator actually do?\n",
    "\n",
    "In this section, I'm going to put the translations to the test by focusing on a few key things that matter:\n",
    "\n",
    "* **Clarity:** How easy is the translated text to understand for someone without a law degree?\n",
    "* **Friendliness:** Did the translation nail that approachable and emoji-filled vibe I was going for?\n",
    "* **Completeness:** Did it capture all the important info from the original legal stuff?\n",
    "\n",
    "To figure this out, I've set up a simple rating system, giving a score from 1 to 5. I've also laid out the evaluation steps. Let's see how they measure up!\n",
    "\n",
    "**Important:** To keep things running smoothly and avoid any hiccups with rate limits, I'm only going to evaluate the first three items from the terms of service for now. But I believe this will give me a good initial idea of how well the translator is performing."
   ]
  },
  {
   "cell_type": "code",
   "execution_count": 13,
   "id": "012ec492",
   "metadata": {
    "execution": {
     "iopub.execute_input": "2025-04-18T01:36:10.785786Z",
     "iopub.status.busy": "2025-04-18T01:36:10.785502Z",
     "iopub.status.idle": "2025-04-18T01:36:16.070847Z",
     "shell.execute_reply": "2025-04-18T01:36:16.070061Z"
    },
    "papermill": {
     "duration": 5.294269,
     "end_time": "2025-04-18T01:36:16.072213",
     "exception": false,
     "start_time": "2025-04-18T01:36:10.777944",
     "status": "completed"
    },
    "tags": []
   },
   "outputs": [
    {
     "name": "stdout",
     "output_type": "stream",
     "text": [
      "Original: These Terms of Service constitute a legally binding agreement between you (\"Customer,\" \"you,\" or \"your\") and Dig-A-Hole (\"Dig-A-Hole,\" \"we,\" \"us,\" or \"our\"). By using our services, you acknowledge that you have read, understood, and agree to be bound by these Terms.\n",
      "Translated: This is a real deal contract between you (that's \"Customer,\" \"you,\" or \"your\") and us (we're \"Dig-A-Hole\" also known as \"we,\" \"us,\" or \"our\"). By using our stuff, you're saying \"I get it, and I'm on board!\" 🤝\n",
      "Verbose Evaluation:\n",
      "STEP 1:\n",
      "The translation's clarity is quite good; it uses simplified language to make the legal concept understandable. The friendliness is very high, employing a casual and enthusiastic tone with the use of emojis. The translation also accurately conveys the core meaning, explicitly stating that it's a real contract and that using the services implies agreement to the terms.\n",
      "\n",
      "STEP 2:\n",
      "Rating: 5\n",
      "Explanation: The translation is accurate, clear, friendly, and complete, effectively conveying the essence of the original sentence in an accessible and engaging manner.\n",
      "\n",
      "Structured Evaluation: VERY_GOOD\n",
      "--------------------\n",
      "Original: Dig-A-Hole provides a facility where customers can engage in the activity of digging holes in designated areas of a field. Our services are intended for recreational exercise and stress relief.\n",
      "Translated: We've got a place where you can dig holes to your heart's content! 🕳️ It's all about fun, exercise, and digging away your stress! 😄\n",
      "Verbose Evaluation:\n",
      "STEP 1:\n",
      "The translation is clear and friendly, using accessible language and emojis. It accurately reflects the original sentence's meaning and covers the key aspects of the service offered. The translation maintains a friendly and enthusiastic tone, fitting the desired persona.\n",
      "\n",
      "STEP 2:\n",
      "Rating: 5\n",
      "Explanation:\n",
      "The translation is accurate, clear, friendly, and complete, effectively conveying the essence of the original sentence in a welcoming and engaging manner.\n",
      "\n",
      "Structured Evaluation: VERY_GOOD\n",
      "--------------------\n",
      "Original: Free Trial Dig: New customers are eligible for one (1) complimentary digging session before requiring a subscription.\n",
      "Translated: First dig is FREE! 🎉 Try us out before you subscribe.\n",
      "Verbose Evaluation:\n",
      "STEP 1:\n",
      "The translation is clear and friendly. It conveys the core meaning of the original sentence in a simple and enthusiastic way. It also uses emojis to create a positive and engaging experience for the reader. In terms of completeness, the translation accurately conveys that the first digging session is complimentary for new customers before requiring a subscription.\n",
      "\n",
      "STEP 2:\n",
      "Rating: 5\n",
      "\n",
      "Structured Evaluation: VERY_GOOD\n",
      "--------------------\n"
     ]
    }
   ],
   "source": [
    "import enum\n",
    "\n",
    "# Define the evaluation prompt for evaluating the \"Translated\" text\n",
    "TRANSLATION_EVAL_PROMPT = \"\"\"\\\n",
    "# Instruction\n",
    "You are an expert evaluator. Your task is to evaluate the quality of the AI-generated translation of a sentence from a terms of service\n",
    "document.\n",
    "We will provide you with the original sentence and the AI-generated translation.\n",
    "You should first read the original sentence carefully, then evaluate the quality of the translation based on the Criteria \n",
    "provided in the Evaluation section below.\n",
    "You will assign the translation a rating following the Rating Rubric and Evaluation Steps. Give step-by-step explanations \n",
    "for your rating, and only choose ratings from the Rating Rubric.\n",
    "\n",
    "# Evaluation\n",
    "## Metric Definition\n",
    "You will be assessing the translation Clarity, friendliness and Completeness.\n",
    "\n",
    "## Criteria\n",
    "Clarity: The translation prioritizes making the core meaning immediately accessible and easy to understand for everyone, \n",
    "even those unfamiliar with legal terms. It uses simple language and relatable analogies to convey the essential information effectively.\n",
    "Friendliness: The translation adopts an extremely approachable, casual, and enthusiastic tone, using emojis and informal language \n",
    "to create a positive and engaging experience for the reader. The high level of friendliness is intentional to make the legal terms \n",
    "feel less intimidating and more welcoming.\n",
    "Completeness: Completeness: The translation accurately and fully conveys the core meaning and key pieces of information presented \n",
    "in the original sentence. It should capture all the essential facts, actions, entities, and relationships described, \n",
    "even if expressed in simpler language. The level of detail in the translation should be sufficient to understand the main points \n",
    "of the original without losing critical information.\n",
    "\n",
    "## Rating Rubric\n",
    "5: (Very good). The translation is accurate, clear, friendly, and complete.\n",
    "4: (Good). The translation is mostly accurate, clear, friendly, and complete.\n",
    "3: (Ok). The translation is understandable but may have minor issues with accuracy, clarity, or friendliness. Emojis might \n",
    "be missing or slightly awkward.\n",
    "2: (Bad). The translation has significant issues with accuracy or clarity, or fails to adopt a friendly tone.\n",
    "1: (Very bad). The translation is inaccurate, incomprehensible, or completely fails to address the original meaning.\n",
    "\n",
    "## Evaluation Steps\n",
    "STEP 1: Assess the translation in aspects of clarity, friendliness, and completeness according to the criteria.\n",
    "STEP 2: Score based on the rubric.\n",
    "\n",
    "# User Inputs and AI-generated Response\n",
    "## Original Sentence\n",
    "\n",
    "{original}\n",
    "\n",
    "## AI-generated Translation\n",
    "\n",
    "{response}\n",
    "\"\"\"\n",
    "\n",
    "# Define a structured enum class to capture the result.\n",
    "class SummaryRating(enum.Enum):\n",
    "    VERY_GOOD = '5'\n",
    "    GOOD = '4'\n",
    "    OK = '3'\n",
    "    BAD = '2'\n",
    "    VERY_BAD = '1'\n",
    "\n",
    "def eval_translation(original, ai_response):\n",
    "    \"\"\"Evaluate the generated translation against the original sentence.\"\"\"\n",
    "\n",
    "    # It doesn't look like I can use chat with gemini-1.5-pro. Using gemini-2.0-flash here.\n",
    "    chat = client.chats.create(model='gemini-2.0-flash')\n",
    "    \n",
    "    # Generate the full text response.\n",
    "    response = chat.send_message(\n",
    "        message=TRANSLATION_EVAL_PROMPT.format(original=original, response=ai_response)\n",
    "    )\n",
    "    verbose_eval = response.text\n",
    "    \n",
    "    # Coerce into the desired structure.\n",
    "    structured_output_config = types.GenerateContentConfig(\n",
    "        response_mime_type=\"text/x.enum\",\n",
    "        response_schema=SummaryRating,\n",
    "    )\n",
    "    response = chat.send_message(\n",
    "        message=\"Convert the final score.\",\n",
    "        config=structured_output_config,\n",
    "    )\n",
    "    structured_eval = response.parsed\n",
    "    \n",
    "    return verbose_eval, structured_eval\n",
    "\n",
    "# Ideally, I want to check everything but I don't have enough quota. So, iterating only first three elements.\n",
    "evaluation_results = []\n",
    "for item in response_load[:3]:\n",
    "    original_text = item['Original']\n",
    "    translated_text = item['Translated']\n",
    "    verbose_eval, structured_eval = eval_translation(original=original_text, ai_response=translated_text)\n",
    "\n",
    "    evaluation_results.append({\n",
    "        'original': original_text,\n",
    "        'translated': translated_text,\n",
    "        'verbose_evaluation': verbose_eval,\n",
    "        'structured_evaluation': structured_eval.name if structured_eval else None\n",
    "    })\n",
    "\n",
    "for result in evaluation_results:\n",
    "    print(f\"Original: {result['original']}\")\n",
    "    print(f\"Translated: {result['translated']}\")\n",
    "    print(f\"Verbose Evaluation:\\n{result['verbose_evaluation']}\")\n",
    "    print(f\"Structured Evaluation: {result['structured_evaluation']}\")\n",
    "    print(\"-\" * 20)"
   ]
  },
  {
   "cell_type": "markdown",
   "id": "940cab52",
   "metadata": {
    "papermill": {
     "duration": 0.007044,
     "end_time": "2025-04-18T01:36:16.087437",
     "exception": false,
     "start_time": "2025-04-18T01:36:16.080393",
     "status": "completed"
    },
    "tags": []
   },
   "source": [
    "## Ask Away! 🗣️ Getting Answers from the Document\n",
    "\n",
    "So far, I've built a friendly translator using the magic of few-shot prompting and structured my results neatly with JSON. I also put my translator to the test with a custom AI evaluator! 🎉 Now, if I want to take this project to the next level and make it even more interactive, I can explore how to let users ask specific questions about the Terms of Service. This next section is about adding a smart search capability, allowing the AI to dig into the document and find just the answers users are looking for! 😎"
   ]
  },
  {
   "cell_type": "markdown",
   "id": "21516590",
   "metadata": {
    "papermill": {
     "duration": 0.007893,
     "end_time": "2025-04-18T01:36:16.102319",
     "exception": false,
     "start_time": "2025-04-18T01:36:16.094426",
     "status": "completed"
    },
    "tags": []
   },
   "source": [
    "### Read and Split the Sample Terms of Service Document\n",
    "\n",
    "First, I am going to install PdfReader and read the sample Terms of Service, and then divide the document into smaller chunks.\n",
    "\n",
    "Let's get this document ready for some AI magic! First, I'll be using PdfReader to pull all the text out of our sample Terms of Service. Then, it's time to slice and dice it into smaller pieces to prepare them for embedding and using it effectively with a RAG system. Onward! 🚀\n",
    "\n"
   ]
  },
  {
   "cell_type": "code",
   "execution_count": 14,
   "id": "11e82910",
   "metadata": {
    "execution": {
     "iopub.execute_input": "2025-04-18T01:36:16.117500Z",
     "iopub.status.busy": "2025-04-18T01:36:16.117191Z",
     "iopub.status.idle": "2025-04-18T01:36:19.744902Z",
     "shell.execute_reply": "2025-04-18T01:36:19.743806Z"
    },
    "papermill": {
     "duration": 3.63713,
     "end_time": "2025-04-18T01:36:19.746576",
     "exception": false,
     "start_time": "2025-04-18T01:36:16.109446",
     "status": "completed"
    },
    "tags": []
   },
   "outputs": [
    {
     "name": "stdout",
     "output_type": "stream",
     "text": [
      "Collecting PyPDF2\r\n",
      "  Downloading pypdf2-3.0.1-py3-none-any.whl.metadata (6.8 kB)\r\n",
      "Downloading pypdf2-3.0.1-py3-none-any.whl (232 kB)\r\n",
      "\u001b[2K   \u001b[90m━━━━━━━━━━━━━━━━━━━━━━━━━━━━━━━━━━━━━━━━\u001b[0m \u001b[32m232.6/232.6 kB\u001b[0m \u001b[31m9.0 MB/s\u001b[0m eta \u001b[36m0:00:00\u001b[0m\r\n",
      "\u001b[?25hInstalling collected packages: PyPDF2\r\n",
      "Successfully installed PyPDF2-3.0.1\r\n"
     ]
    }
   ],
   "source": [
    "!pip install PyPDF2"
   ]
  },
  {
   "cell_type": "code",
   "execution_count": 15,
   "id": "267239a3",
   "metadata": {
    "execution": {
     "iopub.execute_input": "2025-04-18T01:36:19.762376Z",
     "iopub.status.busy": "2025-04-18T01:36:19.762083Z",
     "iopub.status.idle": "2025-04-18T01:36:20.371299Z",
     "shell.execute_reply": "2025-04-18T01:36:20.370204Z"
    },
    "papermill": {
     "duration": 0.618733,
     "end_time": "2025-04-18T01:36:20.372975",
     "exception": false,
     "start_time": "2025-04-18T01:36:19.754242",
     "status": "completed"
    },
    "tags": []
   },
   "outputs": [
    {
     "name": "stdout",
     "output_type": "stream",
     "text": [
      "Paragraph 1:\n",
      "Dig-A-Hole - Terms of Service Last Updated: April 6, 2025 Please read these Terms of Service carefully before using the services provided by Dig-A-Hole. By accessing our facilities, participating in our digging activities, or subscribing to our services, you agree to be bound by these Terms.\n",
      "====================\n",
      "Paragraph 2:\n",
      "1. Acceptance of Terms These Terms of Service constitute a legally binding agreement between you (\"Customer,\" \"you,\" or \"your\") and Dig-A-Hole (\"Dig-A-Hole,\" \"we,\" \"us,\" or \"our\"). By using our services, you acknowledge that you have read, understood, and agree to be bound by these Terms.\n",
      "====================\n",
      "Paragraph 3:\n",
      "2. Description of Services Dig-A-Hole provides a facility where customers can engage in the activity of digging holes in designated areas of a field. Our services are intended for recreational exercise and stress relief. We offer the following: ● Digging Access: Access to a designated field area for the purpose of digging holes. ● Free Trial Dig: New customers are eligible for one (1) complimentary digging session before requiring a subscription. ● Monthly Subscription Plan: Customers can subscribe to a monthly plan for ongoing access to our digging facilities. ● Shovel Rental Add-On: Customers have the option to rent shovels for an additional fee, subject to availability.\n",
      "====================\n",
      "Paragraph 4:\n",
      "3. Subscription Terms and Payment ● Minimum Subscription Period: All subscriptions have a minimum commitment of one (1) full month. ● Subscription Fees: The monthly subscription fee will be clearly communicated on our website or at our facility. ● Billing: Subscription fees will be billed on a recurring monthly basis, commencing on the date of your initial subscription. ● Payment Methods: We accept the payment methods specified on our website or at our facility. You agree to provide accurate and up-to-date payment information. ● Cancellation: You may cancel your subscription at any time. However, due to the minimum one-month commitment, you will be responsible for the full payment of the current billing cycle in which you cancel, and your access will continue until the end of that paid month. No refunds will be provided for partial months.\n",
      "====================\n",
      "Paragraph 5:\n",
      "4. Shovel Rental ● Shovels are available for rent on an add-on basis, subject to availability and an additional fee. ● Customers renting shovels are responsible for their proper use and return in the same condition (excluding normal wear and tear). ● Dig-A-Hole reserves the right to charge for any damage to or loss of rented shovels.\n",
      "====================\n",
      "Paragraph 6:\n",
      "5. Safety and Assumption of Risk Engaging in digging activities involves inherent risks, including but not limited to: ● Physical exertion and fatigue. ● Muscle strains, sprains, and other bodily injuries. ● Tripping, slipping, and falling. ● Injuries caused by contact with the ground, rocks, or other objects. ● Injuries resulting from the misuse of tools, including shovels. ● Exposure to weather conditions. By participating in digging activities at Dig-A-Hole, you acknowledge and voluntarily assume all such risks. You are responsible for ensuring your own safety and well-being while on our premises.\n",
      "====================\n",
      "Paragraph 7:\n",
      "6. Release of Liability and Indemnification To the fullest extent permitted by applicable law: ● You hereby release and forever discharge Dig-A-Hole, its owners, officers, directors, employees, agents, and affiliates from any and all claims, demands, actions, causes of action, damages, losses, expenses, and liabilities of any kind or nature whatsoever, whether known or unknown, arising out of or in any way connected with your use of Dig-A-Hole's facilities or participation in digging activities, including but not limited to any injuries you may sustain. ● You agree to indemnify, defend, and hold harmless Dig-A-Hole, its owners, officers, directors, employees, agents, and affiliates from and against any and all claims, demands, actions, causes of action, damages, losses, expenses (including attorneys' fees), and liabilities of any kind or nature whatsoever arising out of or in any way connected with your breach of these Terms of Service or your negligent or willful misconduct while using our services or facilities.\n",
      "====================\n",
      "Paragraph 8:\n",
      "7. Medical Disclaimer Dig-A-Hole does not provide medical services or advice. We recommend that you consult with your physician before participating in any physical activity, especially if you have any pre-existing medical conditions. You understand and agree that Dig-A-Hole will not be responsible for any medical expenses incurred by you as a result of any injury sustained while using our facilities or participating in digging activities. You are solely responsible for your own health and safety.\n",
      "====================\n",
      "Paragraph 9:\n",
      "8. Conduct Customers are expected to conduct themselves in a respectful and responsible manner while on Dig-A-Hole property. We reserve the right to refuse service to anyone who, in our sole discretion, engages in unsafe, disruptive, or inappropriate behavior.\n",
      "====================\n",
      "Paragraph 10:\n",
      "9. Changes to Terms of Service Dig-A-Hole reserves the right to modify or update these Terms of Service at any time without prior notice. Any changes will be effective immediately upon posting on our website or at our facility. Your continued use of our services after the posting of any revised Terms constitutes your acceptance of such changes.\n",
      "====================\n",
      "Paragraph 11:\n",
      "10. Governing Law and Dispute Resolution These Terms of Service shall be governed by and construed in accordance with the laws of the State of Ohio, without regard to its conflict of law principles. Any dispute arising out of or relating to these Terms or your use of our services shall be exclusively resolved in the state or federal courts located in Columbus, OH, and you hereby consent to the jurisdiction of such courts.\n",
      "====================\n",
      "Paragraph 12:\n",
      "11. Entire Agreement These Terms of Service constitute the entire agreement between you and Dig-A-Hole with respect to the subject matter hereof and supersede all prior or contemporaneous communications and proposals, whether oral or written. 5\n",
      "====================\n",
      "Paragraph 13:\n",
      "12. Contact Us If you have any questions about these Terms of Service, please contact us at: Dig-A-Hole [123 dig, awesometown, Columbus, OH] [digaholeA++++++++++++@gmail.com] [555-5555] By using Dig-A-Hole's services, you acknowledge that you have read, understood, and agree to be bound by these Terms of Service.\n",
      "====================\n"
     ]
    }
   ],
   "source": [
    "import re\n",
    "from PyPDF2 import PdfReader\n",
    "\n",
    "def split_into_paragraphs(text):\n",
    "    # Remove newlines that interrupt sentences\n",
    "    text = text.replace('\\n', ' ')\n",
    "    text = re.sub(r'\\s+', ' ', text)\n",
    "\n",
    "    # Check if the text contains numbered sections like 1., 2., etc.\n",
    "    if re.search(r'\\b\\d+\\.\\s', text):\n",
    "        # Split based on numbered sections\n",
    "        parts = re.split(r'(?=\\b\\d+\\.\\s)', text)\n",
    "        paragraphs = [part.strip() for part in parts if part.strip()]\n",
    "    else:\n",
    "        # Fallback: Split based on sentence boundaries and group into paragraphs\n",
    "        sentence_candidates = re.split(r'(?<=[.?!])\\s+(?=[A-Z])', text)\n",
    "\n",
    "        paragraphs = []\n",
    "        temp = \"\"\n",
    "        sentence_count = 0\n",
    "\n",
    "        for part in sentence_candidates:\n",
    "            temp += part.strip() + \" \"\n",
    "            sentence_count += 1\n",
    "            if sentence_count >= 2:\n",
    "                paragraphs.append(temp.strip())\n",
    "                temp = \"\"\n",
    "                sentence_count = 0\n",
    "\n",
    "        if temp.strip():\n",
    "            paragraphs.append(temp.strip())\n",
    "\n",
    "    return paragraphs\n",
    "\n",
    "try:\n",
    "    reader = PdfReader('/kaggle/input/sample-terms-of-service/sample_terms_of_service.pdf')\n",
    "    text = \"\"\n",
    "    for page in reader.pages:\n",
    "        text += page.extract_text() + \"\\n\"\n",
    "\n",
    "    all_paragraphs = []\n",
    "    paragraphs = split_into_paragraphs(text)\n",
    "    for i, paragraph in enumerate(paragraphs):\n",
    "        print(f\"Paragraph {i+1}:\\n{paragraph}\\n{'='*20}\")\n",
    "        all_paragraphs.append(paragraph)\n",
    "\n",
    "except FileNotFoundError:\n",
    "    print(\"Error: The PDF file was not found.\")\n",
    "except Exception as e:\n",
    "    print(f\"An error occurred while reading the PDF: {e}\")"
   ]
  },
  {
   "cell_type": "markdown",
   "id": "47c7f85c",
   "metadata": {
    "papermill": {
     "duration": 0.007402,
     "end_time": "2025-04-18T01:36:20.388670",
     "exception": false,
     "start_time": "2025-04-18T01:36:20.381268",
     "status": "completed"
    },
    "tags": []
   },
   "source": [
    "### Examine Available Embedding Model\n",
    "\n",
    "Let's check available embedding model. I am using text-embedding-004 model here.\n",
    "\n",
    "Let's scout out our embedding model! I'm choosing the `text-embedding-004` to be the star of our embedding show! ✨It's a well-regarded model that should give us good semantic representations of our Terms of Service chunks, leading to better answers when users ask questions. 🧠"
   ]
  },
  {
   "cell_type": "code",
   "execution_count": 16,
   "id": "287aa040",
   "metadata": {
    "execution": {
     "iopub.execute_input": "2025-04-18T01:36:20.404927Z",
     "iopub.status.busy": "2025-04-18T01:36:20.404647Z",
     "iopub.status.idle": "2025-04-18T01:36:20.569296Z",
     "shell.execute_reply": "2025-04-18T01:36:20.568293Z"
    },
    "papermill": {
     "duration": 0.174913,
     "end_time": "2025-04-18T01:36:20.571080",
     "exception": false,
     "start_time": "2025-04-18T01:36:20.396167",
     "status": "completed"
    },
    "tags": []
   },
   "outputs": [
    {
     "name": "stdout",
     "output_type": "stream",
     "text": [
      "models/embedding-001\n",
      "models/text-embedding-004\n",
      "models/gemini-embedding-exp-03-07\n",
      "models/gemini-embedding-exp\n"
     ]
    }
   ],
   "source": [
    "for m in client.models.list():\n",
    "    if \"embedContent\" in m.supported_actions:\n",
    "        print(m.name)"
   ]
  },
  {
   "cell_type": "markdown",
   "id": "03ec2c01",
   "metadata": {
    "papermill": {
     "duration": 0.007437,
     "end_time": "2025-04-18T01:36:20.586619",
     "exception": false,
     "start_time": "2025-04-18T01:36:20.579182",
     "status": "completed"
    },
    "tags": []
   },
   "source": [
    "### Define a Custom Embedding Function\n",
    "\n",
    "I am about to do some behind-the-scenes magic to make my document searchable! This little custom function is the key. It grabs each chunk of my Terms of Service and sends it on a quick trip to Google's Gemini AI. Gemini then figures out the core meaning of the text  and sends that meaning back. This is what ChromaDB uses to understand and later retrieve the right information when you ask questions. Pretty cool, huh? 😎"
   ]
  },
  {
   "cell_type": "code",
   "execution_count": 17,
   "id": "85b0dae4",
   "metadata": {
    "execution": {
     "iopub.execute_input": "2025-04-18T01:36:20.602933Z",
     "iopub.status.busy": "2025-04-18T01:36:20.602637Z",
     "iopub.status.idle": "2025-04-18T01:36:21.238301Z",
     "shell.execute_reply": "2025-04-18T01:36:21.237574Z"
    },
    "papermill": {
     "duration": 0.645627,
     "end_time": "2025-04-18T01:36:21.239807",
     "exception": false,
     "start_time": "2025-04-18T01:36:20.594180",
     "status": "completed"
    },
    "tags": []
   },
   "outputs": [],
   "source": [
    "from chromadb import Documents, EmbeddingFunction, Embeddings\n",
    "from google.api_core import retry\n",
    "\n",
    "from google.genai import types\n",
    "\n",
    "\n",
    "# Define a helper to retry when per-minute quota is reached.\n",
    "is_retriable = lambda e: (isinstance(e, genai.errors.APIError) and e.code in {429, 503})\n",
    "\n",
    "\n",
    "class GeminiEmbeddingFunction(EmbeddingFunction):\n",
    "    # Specify whether to generate embeddings for documents, or queries\n",
    "    document_mode = True\n",
    "\n",
    "    @retry.Retry(predicate=is_retriable)\n",
    "    #def __call__(self, input: all_paragraphs) -> Embeddings:\n",
    "    def __call__(self, input: document_file) -> Embeddings:\n",
    "        if self.document_mode:\n",
    "            embedding_task = \"retrieval_document\"\n",
    "        else:\n",
    "            embedding_task = \"retrieval_query\"\n",
    "\n",
    "        resp = client.models.embed_content(\n",
    "            model=\"models/text-embedding-004\",\n",
    "            contents=input,\n",
    "            config=types.EmbedContentConfig(\n",
    "                task_type=embedding_task,\n",
    "            ),\n",
    "        )\n",
    "        return [e.values for e in resp.embeddings]"
   ]
  },
  {
   "cell_type": "markdown",
   "id": "b13454c4",
   "metadata": {
    "papermill": {
     "duration": 0.007419,
     "end_time": "2025-04-18T01:36:21.255490",
     "exception": false,
     "start_time": "2025-04-18T01:36:21.248071",
     "status": "completed"
    },
    "tags": []
   },
   "source": [
    "### Getting the ChromaDB Toolbox Ready\n",
    "\n",
    "This is where my document chunks are sent, which ChromaDB now understands thanks to Gemini, and add them to my \"googlecardb\" collection. This crucial step makes our Terms of Service searchable and ready for those insightful questions I am going to throw at it! 😉"
   ]
  },
  {
   "cell_type": "code",
   "execution_count": 18,
   "id": "cbef4a91",
   "metadata": {
    "execution": {
     "iopub.execute_input": "2025-04-18T01:36:21.271392Z",
     "iopub.status.busy": "2025-04-18T01:36:21.271097Z",
     "iopub.status.idle": "2025-04-18T01:36:22.110815Z",
     "shell.execute_reply": "2025-04-18T01:36:22.109899Z"
    },
    "papermill": {
     "duration": 0.849962,
     "end_time": "2025-04-18T01:36:22.112885",
     "exception": false,
     "start_time": "2025-04-18T01:36:21.262923",
     "status": "completed"
    },
    "tags": []
   },
   "outputs": [],
   "source": [
    "import chromadb\n",
    "\n",
    "DB_NAME = \"googlecardb\"\n",
    "\n",
    "embed_fn = GeminiEmbeddingFunction()\n",
    "embed_fn.document_mode = True\n",
    "\n",
    "chroma_client = chromadb.Client()\n",
    "db = chroma_client.get_or_create_collection(name=DB_NAME, embedding_function=embed_fn)\n",
    "\n",
    "db.add(documents=all_paragraphs, ids=[str(i) for i in range(len(all_paragraphs))])\n",
    "\n",
    "\n"
   ]
  },
  {
   "cell_type": "code",
   "execution_count": 19,
   "id": "54e2d391",
   "metadata": {
    "execution": {
     "iopub.execute_input": "2025-04-18T01:36:22.129248Z",
     "iopub.status.busy": "2025-04-18T01:36:22.128978Z",
     "iopub.status.idle": "2025-04-18T01:36:22.135678Z",
     "shell.execute_reply": "2025-04-18T01:36:22.134952Z"
    },
    "papermill": {
     "duration": 0.015944,
     "end_time": "2025-04-18T01:36:22.136832",
     "exception": false,
     "start_time": "2025-04-18T01:36:22.120888",
     "status": "completed"
    },
    "tags": []
   },
   "outputs": [
    {
     "data": {
      "text/plain": [
       "13"
      ]
     },
     "execution_count": 19,
     "metadata": {},
     "output_type": "execute_result"
    }
   ],
   "source": [
    "db.count()"
   ]
  },
  {
   "cell_type": "markdown",
   "id": "0ce017f8",
   "metadata": {
    "papermill": {
     "duration": 0.007095,
     "end_time": "2025-04-18T01:36:22.151331",
     "exception": false,
     "start_time": "2025-04-18T01:36:22.144236",
     "status": "completed"
    },
    "tags": []
   },
   "source": [
    "### Asking a Question\n",
    "\n",
    "Alright, let's see if my embedded document is smart! First, I'm switching to \"query mode.\" Then, I'm asking: \"What is the cancellation policy?\" 🤔 Just like the document, my question gets its meaning from Gemini, and ChromaDB uses it to find the most similar chunks. Let's see what it finds! "
   ]
  },
  {
   "cell_type": "code",
   "execution_count": 20,
   "id": "912ac5fb",
   "metadata": {
    "execution": {
     "iopub.execute_input": "2025-04-18T01:36:22.166839Z",
     "iopub.status.busy": "2025-04-18T01:36:22.166483Z",
     "iopub.status.idle": "2025-04-18T01:36:22.755649Z",
     "shell.execute_reply": "2025-04-18T01:36:22.754756Z"
    },
    "papermill": {
     "duration": 0.598308,
     "end_time": "2025-04-18T01:36:22.756940",
     "exception": false,
     "start_time": "2025-04-18T01:36:22.158632",
     "status": "completed"
    },
    "tags": []
   },
   "outputs": [
    {
     "data": {
      "text/markdown": [
       "3. Subscription Terms and Payment ● Minimum Subscription Period: All subscriptions have a minimum commitment of one (1) full month. ● Subscription Fees: The monthly subscription fee will be clearly communicated on our website or at our facility. ● Billing: Subscription fees will be billed on a recurring monthly basis, commencing on the date of your initial subscription. ● Payment Methods: We accept the payment methods specified on our website or at our facility. You agree to provide accurate and up-to-date payment information. ● Cancellation: You may cancel your subscription at any time. However, due to the minimum one-month commitment, you will be responsible for the full payment of the current billing cycle in which you cancel, and your access will continue until the end of that paid month. No refunds will be provided for partial months."
      ],
      "text/plain": [
       "<IPython.core.display.Markdown object>"
      ]
     },
     "execution_count": 20,
     "metadata": {},
     "output_type": "execute_result"
    }
   ],
   "source": [
    "# Switch to query mode when generating embeddings.\n",
    "embed_fn.document_mode = False\n",
    "\n",
    "# Search the Chroma DB using the specified query.\n",
    "query = \"What is the cancellation policy?\"\n",
    "\n",
    "result = db.query(query_texts=[query], n_results=1) \n",
    "[all_passages] = result[\"documents\"]\n",
    "\n",
    "Markdown(all_passages[0])"
   ]
  },
  {
   "cell_type": "markdown",
   "id": "d9eae958",
   "metadata": {
    "papermill": {
     "duration": 0.007237,
     "end_time": "2025-04-18T01:36:22.772207",
     "exception": false,
     "start_time": "2025-04-18T01:36:22.764970",
     "status": "completed"
    },
    "tags": []
   },
   "source": [
    "### Getting the Friendly Answer\n",
    "\n",
    "In the following steps, the question and the relevant document snippets retrieved by ChromaDB are sent to the Gemini AI model. The prompt includes specific instructions for Gemini: to answer in a friendly and casual tone, use simple language with appropriate emojis, stick to the provided text, and be precise. If the passage doesn't contain the answer, Gemini is instructed to say so.\n",
    "\n",
    "The code then takes the generated answer from Gemini and displays it in a readable format. This demonstrates the RAG pipeline in action, providing a user-friendly answer based on the information found in the Terms of Service document. 🥳"
   ]
  },
  {
   "cell_type": "code",
   "execution_count": 21,
   "id": "efd9a497",
   "metadata": {
    "execution": {
     "iopub.execute_input": "2025-04-18T01:36:22.787921Z",
     "iopub.status.busy": "2025-04-18T01:36:22.787668Z",
     "iopub.status.idle": "2025-04-18T01:36:22.791998Z",
     "shell.execute_reply": "2025-04-18T01:36:22.791105Z"
    },
    "papermill": {
     "duration": 0.01352,
     "end_time": "2025-04-18T01:36:22.793168",
     "exception": false,
     "start_time": "2025-04-18T01:36:22.779648",
     "status": "completed"
    },
    "tags": []
   },
   "outputs": [
    {
     "name": "stdout",
     "output_type": "stream",
     "text": [
      "You are a very friendly bot that answers questions using text from the reference passage included below.\n",
      "Be sure to respond in a complete sentence, but being casual and very friendly. Make sure to include some appropriate emoji.\n",
      "You need to use easy-to-understand English instead of using legal terms. If the passage is irrelevant to the answer, you\n",
      "may say that you can not find the information.\n",
      "\n",
      "QUESTION: What is the cancellation policy?\n",
      "\n",
      "PASSAGE: 3. Subscription Terms and Payment ● Minimum Subscription Period: All subscriptions have a minimum commitment of one (1) full month. ● Subscription Fees: The monthly subscription fee will be clearly communicated on our website or at our facility. ● Billing: Subscription fees will be billed on a recurring monthly basis, commencing on the date of your initial subscription. ● Payment Methods: We accept the payment methods specified on our website or at our facility. You agree to provide accurate and up-to-date payment information. ● Cancellation: You may cancel your subscription at any time. However, due to the minimum one-month commitment, you will be responsible for the full payment of the current billing cycle in which you cancel, and your access will continue until the end of that paid month. No refunds will be provided for partial months.\n",
      "\n"
     ]
    }
   ],
   "source": [
    "query_oneline = query.replace(\"\\n\", \" \")\n",
    "\n",
    "# This prompt is where you can specify any guidance on tone, or what topics the model should stick to, or avoid.\n",
    "prompt = f\"\"\"You are a very friendly bot that answers questions using text from the reference passage included below.\n",
    "Be sure to respond in a complete sentence, but being casual and very friendly. Make sure to include some appropriate emoji.\n",
    "You need to use easy-to-understand English instead of using legal terms. If the passage is irrelevant to the answer, you\n",
    "may say that you can not find the information.\n",
    "\n",
    "QUESTION: {query_oneline}\n",
    "\"\"\"\n",
    "\n",
    "\n",
    "# Add the retrieved documents to the prompt.\n",
    "for passage in all_passages:\n",
    "    passage_oneline = passage.replace(\"\\n\", \" \")\n",
    "    prompt += f\"\\nPASSAGE: {passage_oneline}\\n\"\n",
    "\n",
    "print(prompt)"
   ]
  },
  {
   "cell_type": "code",
   "execution_count": 22,
   "id": "05a2e7c0",
   "metadata": {
    "execution": {
     "iopub.execute_input": "2025-04-18T01:36:22.808965Z",
     "iopub.status.busy": "2025-04-18T01:36:22.808663Z",
     "iopub.status.idle": "2025-04-18T01:36:23.625649Z",
     "shell.execute_reply": "2025-04-18T01:36:23.624548Z"
    },
    "papermill": {
     "duration": 0.826439,
     "end_time": "2025-04-18T01:36:23.627088",
     "exception": false,
     "start_time": "2025-04-18T01:36:22.800649",
     "status": "completed"
    },
    "tags": []
   },
   "outputs": [
    {
     "data": {
      "text/markdown": [
       "Hey there! 👋 You can cancel your subscription whenever you want, but since there's a one-month minimum, you'll still need to pay for the current month, and you can keep using it until the end of that month. No refunds for partial months, though! 😔\n"
      ],
      "text/plain": [
       "<IPython.core.display.Markdown object>"
      ]
     },
     "execution_count": 22,
     "metadata": {},
     "output_type": "execute_result"
    }
   ],
   "source": [
    "model_config=types.GenerateContentConfig(temperature=0.0)\n",
    "answer = client.models.generate_content(\n",
    "    model=\"gemini-2.0-flash\",\n",
    "    config=model_config,\n",
    "    contents=prompt\n",
    ")\n",
    "\n",
    "Markdown(answer.text)"
   ]
  },
  {
   "cell_type": "markdown",
   "id": "722ac035",
   "metadata": {
    "papermill": {
     "duration": 0.007587,
     "end_time": "2025-04-18T01:36:23.643933",
     "exception": false,
     "start_time": "2025-04-18T01:36:23.636346",
     "status": "completed"
    },
    "tags": []
   },
   "source": [
    "This \"Ask Away!\" feature aims to make static legal documents interactive. While a simple few-shot prompt might sometimes work for question answering, my experimentation suggests that Retrieval Augmented Generation (RAG) offers improved accuracy, particularly for questions not directly addressed in the document. RAG's grounding in the provided text reduces the likelihood of irrelevant or hallucinated answers, leading to a more trustworthy user experience."
   ]
  },
  {
   "cell_type": "markdown",
   "id": "23f2abf2",
   "metadata": {
    "papermill": {
     "duration": 0.007974,
     "end_time": "2025-04-18T01:36:23.661009",
     "exception": false,
     "start_time": "2025-04-18T01:36:23.653035",
     "status": "completed"
    },
    "tags": []
   },
   "source": [
    "## Conclusions and Recommendations\n",
    "Awesome! 😎 Thanks to the cool techniques I picked up during the 5-Day Gen AI Intensive Course, I was able to build a solution that makes Terms of Service much easier to understand. Potential next steps include expanding support to other legal document types (e.g., privacy policies, contracts) and enabling the system to process documents directly from URLs. Additionally, incorporating user feedback mechanisms could further refine translation quality and tailor the output."
   ]
  }
 ],
 "metadata": {
  "kaggle": {
   "accelerator": "none",
   "dataSources": [
    {
     "datasetId": 7069385,
     "sourceId": 11428914,
     "sourceType": "datasetVersion"
    }
   ],
   "dockerImageVersionId": 30918,
   "isGpuEnabled": false,
   "isInternetEnabled": true,
   "language": "python",
   "sourceType": "notebook"
  },
  "kernelspec": {
   "display_name": "Python 3",
   "language": "python",
   "name": "python3"
  },
  "language_info": {
   "codemirror_mode": {
    "name": "ipython",
    "version": 3
   },
   "file_extension": ".py",
   "mimetype": "text/x-python",
   "name": "python",
   "nbconvert_exporter": "python",
   "pygments_lexer": "ipython3",
   "version": "3.10.12"
  },
  "papermill": {
   "default_parameters": {},
   "duration": 100.646259,
   "end_time": "2025-04-18T01:36:24.688990",
   "environment_variables": {},
   "exception": null,
   "input_path": "__notebook__.ipynb",
   "output_path": "__notebook__.ipynb",
   "parameters": {},
   "start_time": "2025-04-18T01:34:44.042731",
   "version": "2.6.0"
  }
 },
 "nbformat": 4,
 "nbformat_minor": 5
}
