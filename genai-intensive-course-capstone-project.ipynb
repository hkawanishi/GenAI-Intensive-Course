{
 "cells": [
  {
   "cell_type": "markdown",
   "id": "dce34033",
   "metadata": {
    "papermill": {
     "duration": 0.005948,
     "end_time": "2025-04-16T04:54:21.553746",
     "exception": false,
     "start_time": "2025-04-16T04:54:21.547798",
     "status": "completed"
    },
    "tags": []
   },
   "source": [
    "# GenAI Intensive Course Capstone Project\n",
    "\n",
    "## Overview\n",
    "\n",
    "Reading the long and complicated terms of service on websites can be overwhelming for most people. These documents are full of legal language that many users don't read or fully understand, which can lead to uncertainty about the specifics of the service they are using, what they are agreeing to, and the responsibilities of the provider. This project tackles that problem by creating a smart \"Terms of Service Translator.\" It uses Gemini AI to turn complex legal text into simple, easy-to-understand summaries. The translated texts are written in plain English and made more approachable with helpful emoji.\n",
    "\n",
    "To demonstrate this project, I have written a sample terms of service document for a fictitious company called \"Dig-A-Hole.\" This company provides a service where customers can engage in the activity of digging holes in designated areas of a field for recreational exercise and stress relief, with options for subscription. This sample terms of service document has been saved in a PDF file, which Gemini AI is then used to read and process. The goal is to translate the formal legal language of this document into a clear and friendly summary."
   ]
  },
  {
   "cell_type": "code",
   "execution_count": 1,
   "id": "d19cfb16",
   "metadata": {
    "_cell_guid": "b1076dfc-b9ad-4769-8c92-a6c4dae69d19",
    "_uuid": "8f2839f25d086af736a60e9eeb907d3b93b6e0e5",
    "execution": {
     "iopub.execute_input": "2025-04-16T04:54:21.563611Z",
     "iopub.status.busy": "2025-04-16T04:54:21.563255Z",
     "iopub.status.idle": "2025-04-16T04:54:22.501937Z",
     "shell.execute_reply": "2025-04-16T04:54:22.500843Z"
    },
    "papermill": {
     "duration": 0.945185,
     "end_time": "2025-04-16T04:54:22.503299",
     "exception": false,
     "start_time": "2025-04-16T04:54:21.558114",
     "status": "completed"
    },
    "tags": []
   },
   "outputs": [
    {
     "name": "stdout",
     "output_type": "stream",
     "text": [
      "/kaggle/input/sample-terms-of-service/sample_terms_of_service.pdf\n",
      "/kaggle/input/sample-terms-of-service/sample_terms_of_service2.pdf\n"
     ]
    }
   ],
   "source": [
    "# This Python 3 environment comes with many helpful analytics libraries installed\n",
    "# It is defined by the kaggle/python Docker image: https://github.com/kaggle/docker-python\n",
    "# For example, here's several helpful packages to load\n",
    "\n",
    "import numpy as np # linear algebra\n",
    "import pandas as pd # data processing, CSV file I/O (e.g. pd.read_csv)\n",
    "\n",
    "# Input data files are available in the read-only \"../input/\" directory\n",
    "# For example, running this (by clicking run or pressing Shift+Enter) will list all files under the input directory\n",
    "\n",
    "import os\n",
    "for dirname, _, filenames in os.walk('/kaggle/input'):\n",
    "    for filename in filenames:\n",
    "        print(os.path.join(dirname, filename))\n",
    "\n",
    "# You can write up to 20GB to the current directory (/kaggle/working/) that gets preserved as output when you create a version using \"Save & Run All\" \n",
    "# You can also write temporary files to /kaggle/temp/, but they won't be saved outside of the current session"
   ]
  },
  {
   "cell_type": "markdown",
   "id": "e2c80817",
   "metadata": {
    "papermill": {
     "duration": 0.004793,
     "end_time": "2025-04-16T04:54:22.513718",
     "exception": false,
     "start_time": "2025-04-16T04:54:22.508925",
     "status": "completed"
    },
    "tags": []
   },
   "source": [
    "## Install the Python SDK"
   ]
  },
  {
   "cell_type": "code",
   "execution_count": 2,
   "id": "fbff7810",
   "metadata": {
    "execution": {
     "iopub.execute_input": "2025-04-16T04:54:22.524601Z",
     "iopub.status.busy": "2025-04-16T04:54:22.524084Z",
     "iopub.status.idle": "2025-04-16T04:54:28.413294Z",
     "shell.execute_reply": "2025-04-16T04:54:28.412041Z"
    },
    "papermill": {
     "duration": 5.8967,
     "end_time": "2025-04-16T04:54:28.415052",
     "exception": false,
     "start_time": "2025-04-16T04:54:22.518352",
     "status": "completed"
    },
    "tags": []
   },
   "outputs": [
    {
     "name": "stdout",
     "output_type": "stream",
     "text": [
      "\u001b[2K   \u001b[90m━━━━━━━━━━━━━━━━━━━━━━━━━━━━━━━━━━━━━━━━\u001b[0m \u001b[32m144.7/144.7 kB\u001b[0m \u001b[31m6.3 MB/s\u001b[0m eta \u001b[36m0:00:00\u001b[0m\r\n",
      "\u001b[2K   \u001b[90m━━━━━━━━━━━━━━━━━━━━━━━━━━━━━━━━━━━━━━━━\u001b[0m \u001b[32m100.9/100.9 kB\u001b[0m \u001b[31m4.8 MB/s\u001b[0m eta \u001b[36m0:00:00\u001b[0m\r\n",
      "\u001b[?25h"
     ]
    }
   ],
   "source": [
    "!pip install -Uq \"google-genai==1.7.0\""
   ]
  },
  {
   "cell_type": "code",
   "execution_count": 3,
   "id": "3ca154d8",
   "metadata": {
    "execution": {
     "iopub.execute_input": "2025-04-16T04:54:28.426494Z",
     "iopub.status.busy": "2025-04-16T04:54:28.426078Z",
     "iopub.status.idle": "2025-04-16T04:54:29.478222Z",
     "shell.execute_reply": "2025-04-16T04:54:29.477468Z"
    },
    "papermill": {
     "duration": 1.059722,
     "end_time": "2025-04-16T04:54:29.479844",
     "exception": false,
     "start_time": "2025-04-16T04:54:28.420122",
     "status": "completed"
    },
    "tags": []
   },
   "outputs": [
    {
     "data": {
      "text/plain": [
       "'1.7.0'"
      ]
     },
     "execution_count": 3,
     "metadata": {},
     "output_type": "execute_result"
    }
   ],
   "source": [
    "from google import genai\n",
    "from google.genai import types\n",
    "\n",
    "from IPython.display import Markdown, display\n",
    "\n",
    "genai.__version__"
   ]
  },
  {
   "cell_type": "markdown",
   "id": "a2a30d51",
   "metadata": {
    "papermill": {
     "duration": 0.004356,
     "end_time": "2025-04-16T04:54:29.489350",
     "exception": false,
     "start_time": "2025-04-16T04:54:29.484994",
     "status": "completed"
    },
    "tags": []
   },
   "source": [
    "## Set up the API key"
   ]
  },
  {
   "cell_type": "code",
   "execution_count": 4,
   "id": "79becd8a",
   "metadata": {
    "execution": {
     "iopub.execute_input": "2025-04-16T04:54:29.500874Z",
     "iopub.status.busy": "2025-04-16T04:54:29.500331Z",
     "iopub.status.idle": "2025-04-16T04:54:29.994561Z",
     "shell.execute_reply": "2025-04-16T04:54:29.993007Z"
    },
    "papermill": {
     "duration": 0.502642,
     "end_time": "2025-04-16T04:54:29.996466",
     "exception": false,
     "start_time": "2025-04-16T04:54:29.493824",
     "status": "completed"
    },
    "tags": []
   },
   "outputs": [],
   "source": [
    "from kaggle_secrets import UserSecretsClient\n",
    "\n",
    "client = genai.Client(api_key=UserSecretsClient().get_secret(\"GOOGLE_API_KEY\"))"
   ]
  },
  {
   "cell_type": "markdown",
   "id": "b3818061",
   "metadata": {
    "papermill": {
     "duration": 0.004474,
     "end_time": "2025-04-16T04:54:30.005986",
     "exception": false,
     "start_time": "2025-04-16T04:54:30.001512",
     "status": "completed"
    },
    "tags": []
   },
   "source": [
    "## Automated retry\n",
    "\n",
    "This codelab sends a lot of requests, so set up an automatic retry that ensures your requests are retried when per-minute quota is reached.\n"
   ]
  },
  {
   "cell_type": "code",
   "execution_count": 5,
   "id": "6a32c55d",
   "metadata": {
    "execution": {
     "iopub.execute_input": "2025-04-16T04:54:30.016398Z",
     "iopub.status.busy": "2025-04-16T04:54:30.016087Z",
     "iopub.status.idle": "2025-04-16T04:54:30.234388Z",
     "shell.execute_reply": "2025-04-16T04:54:30.233058Z"
    },
    "papermill": {
     "duration": 0.225565,
     "end_time": "2025-04-16T04:54:30.236165",
     "exception": false,
     "start_time": "2025-04-16T04:54:30.010600",
     "status": "completed"
    },
    "tags": []
   },
   "outputs": [],
   "source": [
    "from google.api_core import retry\n",
    "\n",
    "is_retriable = lambda e: (isinstance(e, genai.errors.APIError) and e.code in {429, 503})\n",
    "\n",
    "if not hasattr(genai.models.Models.generate_content, '__wrapped__'):\n",
    "  genai.models.Models.generate_content = retry.Retry(\n",
    "      predicate=is_retriable)(genai.models.Models.generate_content)"
   ]
  },
  {
   "cell_type": "markdown",
   "id": "a5679298",
   "metadata": {
    "papermill": {
     "duration": 0.004279,
     "end_time": "2025-04-16T04:54:30.245326",
     "exception": false,
     "start_time": "2025-04-16T04:54:30.241047",
     "status": "completed"
    },
    "tags": []
   },
   "source": [
    "## Model Selection"
   ]
  },
  {
   "cell_type": "code",
   "execution_count": 6,
   "id": "2e2d96e0",
   "metadata": {
    "execution": {
     "iopub.execute_input": "2025-04-16T04:54:30.257237Z",
     "iopub.status.busy": "2025-04-16T04:54:30.256686Z",
     "iopub.status.idle": "2025-04-16T04:54:30.445984Z",
     "shell.execute_reply": "2025-04-16T04:54:30.444640Z"
    },
    "papermill": {
     "duration": 0.198148,
     "end_time": "2025-04-16T04:54:30.448029",
     "exception": false,
     "start_time": "2025-04-16T04:54:30.249881",
     "status": "completed"
    },
    "tags": []
   },
   "outputs": [
    {
     "name": "stdout",
     "output_type": "stream",
     "text": [
      "models/chat-bison-001\n",
      "models/text-bison-001\n",
      "models/embedding-gecko-001\n",
      "models/gemini-1.0-pro-vision-latest\n",
      "models/gemini-pro-vision\n",
      "models/gemini-1.5-pro-latest\n",
      "models/gemini-1.5-pro-001\n",
      "models/gemini-1.5-pro-002\n",
      "models/gemini-1.5-pro\n",
      "models/gemini-1.5-flash-latest\n",
      "models/gemini-1.5-flash-001\n",
      "models/gemini-1.5-flash-001-tuning\n",
      "models/gemini-1.5-flash\n",
      "models/gemini-1.5-flash-002\n",
      "models/gemini-1.5-flash-8b\n",
      "models/gemini-1.5-flash-8b-001\n",
      "models/gemini-1.5-flash-8b-latest\n",
      "models/gemini-1.5-flash-8b-exp-0827\n",
      "models/gemini-1.5-flash-8b-exp-0924\n",
      "models/gemini-2.5-pro-exp-03-25\n",
      "models/gemini-2.5-pro-preview-03-25\n",
      "models/gemini-2.0-flash-exp\n",
      "models/gemini-2.0-flash\n",
      "models/gemini-2.0-flash-001\n",
      "models/gemini-2.0-flash-exp-image-generation\n",
      "models/gemini-2.0-flash-lite-001\n",
      "models/gemini-2.0-flash-lite\n",
      "models/gemini-2.0-flash-lite-preview-02-05\n",
      "models/gemini-2.0-flash-lite-preview\n",
      "models/gemini-2.0-pro-exp\n",
      "models/gemini-2.0-pro-exp-02-05\n",
      "models/gemini-exp-1206\n",
      "models/gemini-2.0-flash-thinking-exp-01-21\n",
      "models/gemini-2.0-flash-thinking-exp\n",
      "models/gemini-2.0-flash-thinking-exp-1219\n",
      "models/learnlm-1.5-pro-experimental\n",
      "models/gemma-3-1b-it\n",
      "models/gemma-3-4b-it\n",
      "models/gemma-3-12b-it\n",
      "models/gemma-3-27b-it\n",
      "models/embedding-001\n",
      "models/text-embedding-004\n",
      "models/gemini-embedding-exp-03-07\n",
      "models/gemini-embedding-exp\n",
      "models/aqa\n",
      "models/imagen-3.0-generate-002\n",
      "models/gemini-2.0-flash-live-001\n"
     ]
    }
   ],
   "source": [
    "for model in client.models.list():\n",
    "  print(model.name)"
   ]
  },
  {
   "cell_type": "markdown",
   "id": "4d536c7a",
   "metadata": {
    "papermill": {
     "duration": 0.004887,
     "end_time": "2025-04-16T04:54:30.458510",
     "exception": false,
     "start_time": "2025-04-16T04:54:30.453623",
     "status": "completed"
    },
    "tags": []
   },
   "source": [
    "For summarizing the main document, I'm rolling with **gemini-1.5-pro**. It seems pretty reliable and stable for text-based tasks like this.\n",
    "\n",
    "(Quick heads-up though! For the evaluation part later on, I had to switch gears and use **gemini-2.0-flash**.)"
   ]
  },
  {
   "cell_type": "code",
   "execution_count": 7,
   "id": "e4d60fbc",
   "metadata": {
    "execution": {
     "iopub.execute_input": "2025-04-16T04:54:30.469445Z",
     "iopub.status.busy": "2025-04-16T04:54:30.469120Z",
     "iopub.status.idle": "2025-04-16T04:54:31.134302Z",
     "shell.execute_reply": "2025-04-16T04:54:31.133468Z"
    },
    "papermill": {
     "duration": 0.672025,
     "end_time": "2025-04-16T04:54:31.135476",
     "exception": false,
     "start_time": "2025-04-16T04:54:30.463451",
     "status": "completed"
    },
    "tags": []
   },
   "outputs": [
    {
     "name": "stdout",
     "output_type": "stream",
     "text": [
      "{'description': 'Stable version of Gemini 1.5 Pro, our mid-size multimodal '\n",
      "                'model that supports up to 2 million tokens, released in May '\n",
      "                'of 2024.',\n",
      " 'display_name': 'Gemini 1.5 Pro',\n",
      " 'input_token_limit': 2000000,\n",
      " 'name': 'models/gemini-1.5-pro',\n",
      " 'output_token_limit': 8192,\n",
      " 'supported_actions': ['generateContent', 'countTokens'],\n",
      " 'tuned_model_info': {},\n",
      " 'version': '001'}\n"
     ]
    }
   ],
   "source": [
    "from pprint import pprint\n",
    "\n",
    "for model in client.models.list():\n",
    "  if model.name == 'models/gemini-1.5-pro':\n",
    "    pprint(model.to_json_dict())\n",
    "    break"
   ]
  },
  {
   "cell_type": "markdown",
   "id": "677c8291",
   "metadata": {
    "papermill": {
     "duration": 0.004519,
     "end_time": "2025-04-16T04:54:31.144926",
     "exception": false,
     "start_time": "2025-04-16T04:54:31.140407",
     "status": "completed"
    },
    "tags": []
   },
   "source": [
    "## Document Understanding: Cracking Open the PDF! 🔓\n",
    "\n",
    "So, I've got my super important (but kinda snooze-worthy) terms of service all written down and tucked away in a PDF file. Right here, I'm gonna pull that document in and have Gemini work its magic to give me\n",
    "a quick and easy rundown in plain English – no legal headaches! 🥳"
   ]
  },
  {
   "cell_type": "code",
   "execution_count": 8,
   "id": "9ee461c1",
   "metadata": {
    "execution": {
     "iopub.execute_input": "2025-04-16T04:54:31.155285Z",
     "iopub.status.busy": "2025-04-16T04:54:31.154978Z",
     "iopub.status.idle": "2025-04-16T04:54:32.798349Z",
     "shell.execute_reply": "2025-04-16T04:54:32.797516Z"
    },
    "papermill": {
     "duration": 1.650499,
     "end_time": "2025-04-16T04:54:32.799958",
     "exception": false,
     "start_time": "2025-04-16T04:54:31.149459",
     "status": "completed"
    },
    "tags": []
   },
   "outputs": [],
   "source": [
    "document_file = client.files.upload(file='/kaggle/input/sample-terms-of-service/sample_terms_of_service.pdf')"
   ]
  },
  {
   "cell_type": "code",
   "execution_count": 9,
   "id": "4e796948",
   "metadata": {
    "execution": {
     "iopub.execute_input": "2025-04-16T04:54:32.811969Z",
     "iopub.status.busy": "2025-04-16T04:54:32.811713Z",
     "iopub.status.idle": "2025-04-16T04:54:41.838479Z",
     "shell.execute_reply": "2025-04-16T04:54:41.837576Z"
    },
    "papermill": {
     "duration": 9.034278,
     "end_time": "2025-04-16T04:54:41.840108",
     "exception": false,
     "start_time": "2025-04-16T04:54:32.805830",
     "status": "completed"
    },
    "tags": []
   },
   "outputs": [
    {
     "data": {
      "text/markdown": [
       "Dig-A-Hole's Terms of Service basically say:\n",
       "\n",
       "* **Digging Holes:**  We let you dig holes in our field for fun and stress relief. You can try it once for free, then you need a monthly subscription. You can also rent shovels.\n",
       "* **Agreement:** By using our services, you agree to these rules.\n",
       "* **Subscriptions:** Subscriptions are monthly. You can cancel anytime, but you have to pay for the full month even if you cancel mid-month. No refunds for partial months.\n",
       "* **Shovel Rental:** You can rent shovels for an extra fee. You're responsible for any damage or loss beyond normal wear and tear.\n",
       "* **Safety:** Digging has risks (getting tired, injuries, etc.). You're responsible for your own safety. We're not liable for anything that happens to you while digging.\n",
       "* **Liability:** You agree not to sue us for anything related to using our services, and you agree to cover our legal costs if someone sues us because of something you did.\n",
       "* **Medical:** We don't offer medical services. See a doctor before digging, especially if you have health issues. We're not responsible for your medical bills.\n",
       "* **Behavior:** Behave respectfully. We can refuse service to anyone disruptive or unsafe.\n",
       "* **Changes:** We can change these rules anytime.  Changes are effective immediately when posted.\n",
       "* **Law:** Ohio law applies to these terms. Any disputes will be handled in Columbus, Ohio courts.\n",
       "* **Contact:**  Contact information is provided if you have questions.\n",
       "\n",
       "\n",
       "In short, you pay to dig holes, you're responsible for your own safety and actions, and we're not liable for much.  Have fun digging!\n"
      ],
      "text/plain": [
       "<IPython.core.display.Markdown object>"
      ]
     },
     "execution_count": 9,
     "metadata": {},
     "output_type": "execute_result"
    }
   ],
   "source": [
    "request = 'Please summarize the following terms of servicein plain, easy-to-undersand English:'\n",
    "\n",
    "def translate_doc(request: str) -> str:\n",
    "  \"\"\"Execute the request on the uploaded document.\"\"\"\n",
    "  # Set the temperature low to stabilise the output.\n",
    "  config = types.GenerateContentConfig(temperature=0.0)\n",
    "  response = client.models.generate_content(\n",
    "      model='gemini-1.5-pro',\n",
    "      config=config,\n",
    "      contents=[request, document_file],\n",
    "  )\n",
    "\n",
    "  return response.text\n",
    "\n",
    "summary = translate_doc(request)\n",
    "Markdown(summary)"
   ]
  },
  {
   "cell_type": "markdown",
   "id": "4e07b893",
   "metadata": {
    "papermill": {
     "duration": 0.004704,
     "end_time": "2025-04-16T04:54:41.850263",
     "exception": false,
     "start_time": "2025-04-16T04:54:41.845559",
     "status": "completed"
    },
    "tags": []
   },
   "source": [
    "## Few-Shot Prompt: Making it Friendly! 🎉\n",
    "\n",
    "The summary I got above is okay, but let's dial up the friendliness! To get Gemini to be a bit more casual and throw in some fun emoji, I am going to use a \"few-shot prompt.\" Think of it as showing Gemini a few examples of how I want the translations to sound – super chill and emoji-packed! 😎"
   ]
  },
  {
   "cell_type": "code",
   "execution_count": 10,
   "id": "2b50a0ae",
   "metadata": {
    "execution": {
     "iopub.execute_input": "2025-04-16T04:54:41.861065Z",
     "iopub.status.busy": "2025-04-16T04:54:41.860762Z",
     "iopub.status.idle": "2025-04-16T04:54:54.195035Z",
     "shell.execute_reply": "2025-04-16T04:54:54.194326Z"
    },
    "papermill": {
     "duration": 12.341557,
     "end_time": "2025-04-16T04:54:54.196598",
     "exception": false,
     "start_time": "2025-04-16T04:54:41.855041",
     "status": "completed"
    },
    "tags": []
   },
   "outputs": [
    {
     "name": "stdout",
     "output_type": "stream",
     "text": [
      "Dig-A-Hole Terms of Service - The Friendly Version 😊\n",
      "\n",
      "**1. The Agreement:** This is a contract between you and us (Dig-A-Hole). By using our services, you're saying \"I agree!\" to everything here. 👍\n",
      "\n",
      "**2. What We Do:** We provide a place for you to dig holes! 🕳️ It's for fun and stress relief.  We offer:\n",
      "* **Digging Access:**  Come dig in our designated digging area.\n",
      "* **Free Trial Dig:** First dig is free! 🎉\n",
      "* **Monthly Subscription:** Pay monthly to dig as much as you want. 🗓️\n",
      "* **Shovel Rental:**  Need a shovel? We rent them! 🥄 (If available)\n",
      "\n",
      "**3. Subscriptions & Payment:**\n",
      "* **Minimum Commitment:** One month.\n",
      "* **Fees:** Check our website or ask us. 💰\n",
      "* **Billing:** Monthly.\n",
      "* **Payment:** We'll tell you how to pay.\n",
      "* **Cancellation:** You can cancel anytime, but you still have to pay for the current month.  No refunds for partial months. 🙅‍♀️\n",
      "\n",
      "**4. Shovel Rental:**\n",
      "* Rent shovels for a fee (if available).  Take care of them!  If you break or lose one, you'll have to pay. 💸\n",
      "\n",
      "**5. Safety First!** ⚠️ Digging can be dangerous! You might get tired, hurt, trip, or bonk yourself on a rock. You're responsible for your own safety.  Be careful!\n",
      "\n",
      "**6. Don't Sue Us!** 🙏  If you get hurt, it's not our fault. By digging here, you agree not to sue us.\n",
      "\n",
      "**7. Not Doctors!** 👨‍⚕️ We don't give medical advice. See a doctor before digging, especially if you have health problems.  We're not responsible for medical bills.\n",
      "\n",
      "**8. Be Nice!**  Be respectful.  We can kick you out if you're disruptive or unsafe. 🚷\n",
      "\n",
      "**9. We Can Change the Rules:** We might update these terms anytime.  Keep checking back!\n",
      "\n",
      "**10. Legal Stuff:** Ohio law applies. Any disputes will be handled in Columbus, OH courts.\n",
      "\n",
      "**11. The Whole Story:** This is the entire agreement between us.\n",
      "\n",
      "**12. Questions?** Contact us! 📞📧\n",
      "\n",
      "\n",
      "By digging with us, you agree to all of this. Happy digging! ⛏️😄\n",
      "\n"
     ]
    }
   ],
   "source": [
    "model_config = types.GenerateContentConfig(\n",
    "    temperature=0.0\n",
    ")\n",
    "\n",
    "few_shot_prompt = \"\"\"\n",
    "Here are some examples of how to translate leagal terms of service and their friendly summaries using emoji:\n",
    "\n",
    "Original: \"We reserve the right to accept or refuse membership in our discretion.\" \n",
    "Translated: \"We get to say yay 👍 or nay 👎 to memberships, just because we can💪!\"\n",
    "\n",
    "Original: \"To the maximum extent permitted by law, you agree that the Company shall not be held liable for any injuries, damages, or losses incurred in connection with the use of our services or products. By using our services, you waive any right to bring a claim or lawsuit against us for such injuries.\"\n",
    "Translated: \"Oops! If you trip, slip, or fall dramatically and get hurt while using our stuff, please don’t sue us 😅🙏. By hanging out with us, you're saying, 'Okay cool, I won't blame you if I bonk myself💖'\"\n",
    "\n",
    "Please summarize the following terms of servicein plain, easy-to-undersand English with emoji.\n",
    "\"\"\"\n",
    "\n",
    "response = client.models.generate_content(\n",
    "    model='gemini-1.5-pro',\n",
    "    config=model_config,\n",
    "    contents=[few_shot_prompt, document_file],\n",
    ")\n",
    "\n",
    "print(response.text)"
   ]
  },
  {
   "cell_type": "markdown",
   "id": "9520e3aa",
   "metadata": {
    "papermill": {
     "duration": 0.004561,
     "end_time": "2025-04-16T04:54:54.206480",
     "exception": false,
     "start_time": "2025-04-16T04:54:54.201919",
     "status": "completed"
    },
    "tags": []
   },
   "source": [
    "## JSON: Keeping Things Linked\n",
    "\n",
    "Good summaries so far! Now, let's structure things with JSON to keep each \"Original\" legal term directly linked to its \"Translated\" buddy. "
   ]
  },
  {
   "cell_type": "code",
   "execution_count": 11,
   "id": "19edea0e",
   "metadata": {
    "execution": {
     "iopub.execute_input": "2025-04-16T04:54:54.217476Z",
     "iopub.status.busy": "2025-04-16T04:54:54.217124Z",
     "iopub.status.idle": "2025-04-16T04:55:13.214487Z",
     "shell.execute_reply": "2025-04-16T04:55:13.213727Z"
    },
    "papermill": {
     "duration": 19.004914,
     "end_time": "2025-04-16T04:55:13.216159",
     "exception": false,
     "start_time": "2025-04-16T04:54:54.211245",
     "status": "completed"
    },
    "tags": []
   },
   "outputs": [
    {
     "name": "stdout",
     "output_type": "stream",
     "text": [
      "[\n",
      "    {\n",
      "        \"Original\": \"These Terms of Service constitute a legally binding agreement between you (\\\"Customer,\\\" \\\"you,\\\" or \\\"your\\\") and Dig-A-Hole (\\\"Dig-A-Hole,\\\" \\\"we,\\\" \\\"us,\\\" or \\\"our\\\"). By using our services, you acknowledge that you have read, understood, and agree to be bound by these Terms.\",\n",
      "        \"Translated\": \"This is like a pinky swear 🤝 between you (that's \\\"Customer\\\", \\\"you\\\", or \\\"your\\\") and us (that's \\\"Dig-A-Hole, \\\"we\\\", \\\"us\\\", or \\\"our\\\"). By playing with us, you're saying \\\"I get it, and I'm in! 👍\\\"\",\n",
      "        \"Emoji\": \"🤝👍\"\n",
      "    },\n",
      "    {\n",
      "        \"Original\": \"Dig-A-Hole provides a facility where customers can engage in the activity of digging holes in designated areas of a field. Our services are intended for recreational exercise and stress relief.\",\n",
      "        \"Translated\": \"We've got a place where you can dig holes to your heart's content! 🕳️💖 It's all about fun and games, and maybe letting off some steam.  🧘\",\n",
      "        \"Emoji\": \"🕳️💖🧘\"\n",
      "    },\n",
      "    {\n",
      "        \"Original\": \"Free Trial Dig: New customers are eligible for one (1) complimentary digging session before requiring a subscription.\",\n",
      "        \"Translated\": \"First dig is FREE! 🎉  Give it a try before you subscribe.\",\n",
      "        \"Emoji\": \"🎉\"\n",
      "    },\n",
      "    {\n",
      "        \"Original\": \"Monthly Subscription Plan: Customers can subscribe to a monthly plan for ongoing access to our digging facilities.\",\n",
      "        \"Translated\": \"Wanna dig all month long?  Subscribe and get your dig on! 🗓️\",\n",
      "        \"Emoji\": \"🗓️\"\n",
      "    },\n",
      "    {\n",
      "        \"Original\": \"Shovel Rental Add-On: Customers have the option to rent shovels for an additional fee, subject to availability.\",\n",
      "        \"Translated\": \"Need a shovel? 🥄 We rent those too! (If we have any left)\",\n",
      "        \"Emoji\": \"🥄\"\n",
      "    },\n",
      "    {\n",
      "        \"Original\": \"Minimum Subscription Period: All subscriptions have a minimum commitment of one (1) full month.\",\n",
      "        \"Translated\": \"Subscriptions are for a whole month.  Gotta commit! 💖\",\n",
      "        \"Emoji\": \"💖\"\n",
      "    },\n",
      "    {\n",
      "        \"Original\": \"Cancellation: You may cancel your subscription at any time. However, due to the minimum one-month commitment, you will be responsible for the full payment of the current billing cycle in which you cancel, and your access will continue until the end of that paid month. No refunds will be provided for partial months.\",\n",
      "        \"Translated\": \"You can cancel anytime, but you gotta pay for the whole month you're in, even if you stop digging early.  No partial refunds! 💰\",\n",
      "        \"Emoji\": \"💰\"\n",
      "    },\n",
      "    {\n",
      "        \"Original\": \"Customers renting shovels are responsible for their proper use and return in the same condition (excluding normal wear and tear). Dig-A-Hole reserves the right to charge for any damage to or loss of rented shovels.\",\n",
      "        \"Translated\": \"Take care of our shovels! 🛠️  If you break or lose it, you gotta pay for it.  (Normal wear and tear is okay, we get it.)\",\n",
      "        \"Emoji\": \"🛠️\"\n",
      "    },\n",
      "    {\n",
      "        \"Original\": \"By participating in digging activities at Dig-A-Hole, you acknowledge and voluntarily assume all such risks. You are responsible for ensuring your own safety and well-being while on our premises.\",\n",
      "        \"Translated\": \"Digging can be dangerous! ⚠️ You're responsible for your own safety, so be careful and have fun! 😄\",\n",
      "        \"Emoji\": \"⚠️😄\"\n",
      "    },\n",
      "    {\n",
      "        \"Original\": \"You hereby release and forever discharge Dig-A-Hole, its owners, officers, directors, employees, agents, and affiliates from any and all claims, demands, actions, causes of action, damages, losses, expenses, and liabilities of any kind or nature whatsoever, whether known or unknown, arising out of or in any way connected with your use of Dig-A-Hole's facilities or participation in digging activities, including but not limited to any injuries you may sustain.\",\n",
      "        \"Translated\": \"If you get hurt digging, it's not our fault.  You're agreeing not to sue us, even if you trip over a rock or get a shovel-related injury.  🤕  Please don't sue us! 🙏\",\n",
      "        \"Emoji\": \"🤕🙏\"\n",
      "    },\n",
      "    {\n",
      "        \"Original\": \"Dig-A-Hole does not provide medical services or advice. We recommend that you consult with your physician before participating in any physical activity, especially if you have any pre-existing medical conditions.\",\n",
      "        \"Translated\": \"We're not doctors! 👨‍⚕️  If you have any health concerns, talk to a real doctor before you dig.\",\n",
      "        \"Emoji\": \"👨‍⚕️\"\n",
      "    },\n",
      "    {\n",
      "        \"Original\": \"Customers are expected to conduct themselves in a respectful and responsible manner while on Dig-A-Hole property. We reserve the right to refuse service to anyone who, in our sole discretion, engages in unsafe, disruptive, or inappropriate behavior.\",\n",
      "        \"Translated\": \"Be nice and respectful!  Play fair. We can kick you out if you aren't. 🚫\",\n",
      "        \"Emoji\": \"🚫\"\n",
      "    },\n",
      "    {\n",
      "        \"Original\": \"Dig-A-Hole reserves the right to modify or update these Terms of Service at any time without prior notice. Any changes will be effective immediately upon posting on our website or at our facility. Your continued use of our services after the posting of any revised Terms constitutes your acceptance of such changes.\",\n",
      "        \"Translated\": \"We can change these rules anytime.  Just FYI.  If you keep digging, you are automatically agreeing to the changes.\",\n",
      "        \"Emoji\": \"\"\n",
      "    }\n",
      "]\n"
     ]
    }
   ],
   "source": [
    "import json\n",
    "\n",
    "few_shot_prompt = \"\"\"\n",
    "Please translate the following terms of service to more casual,friendly, easy-to-understand English with emoji. The output should be a JSON array and each element is\n",
    "a JSON object with the \"Original\" and \"Translated\" version.\n",
    "Here are some examples of how to translate leagal terms of service and their friendly summaries using emoji:\n",
    "```\n",
    "{\n",
    "Original: \"We reserve the right to accept or refuse membership in our discretion.\" \n",
    "Translated: \"We get to say yay 👍 or nay 👎 to memberships, just because we can💪!\"\n",
    "}\n",
    "{\n",
    "Original: \"To the maximum extent permitted by law, you agree that the Company shall not be held liable for any injuries, damages, or losses incurred in connection with the use of our services or products. By using our services, you waive any right to bring a claim or lawsuit against us for such injuries.\"\n",
    "Translated: \"Oops!😳 If you trip, slip, or fall dramatically and get hurt🤕 while using our stuff, please don’t sue us 😅🙏. By hanging out with us, you're saying, 'Okay cool, I won't blame you if I bonk myself💖'\"\n",
    "}\n",
    "```\n",
    "\n",
    "\"\"\"\n",
    "\n",
    "response = client.models.generate_content(\n",
    "    model='gemini-1.5-pro',\n",
    "    contents= [few_shot_prompt, document_file],\n",
    "    config={\n",
    "        'response_mime_type': 'application/json'\n",
    "    },\n",
    ")\n",
    "     \n",
    "#print(response.text)\n",
    "\n",
    "response_load = json.loads(response.text)\n",
    "print(json.dumps(response_load, indent=4, ensure_ascii=False))"
   ]
  },
  {
   "cell_type": "code",
   "execution_count": 12,
   "id": "bc0802f7",
   "metadata": {
    "execution": {
     "iopub.execute_input": "2025-04-16T04:55:13.228739Z",
     "iopub.status.busy": "2025-04-16T04:55:13.228427Z",
     "iopub.status.idle": "2025-04-16T04:55:13.239806Z",
     "shell.execute_reply": "2025-04-16T04:55:13.238567Z"
    },
    "papermill": {
     "duration": 0.019256,
     "end_time": "2025-04-16T04:55:13.241179",
     "exception": false,
     "start_time": "2025-04-16T04:55:13.221923",
     "status": "completed"
    },
    "tags": []
   },
   "outputs": [
    {
     "name": "stdout",
     "output_type": "stream",
     "text": [
      "\n",
      "Parsed JSON Summary:\n",
      "\n",
      "Item 1:\n",
      "  Original: These Terms of Service constitute a legally binding agreement between you (\"Customer,\" \"you,\" or \"your\") and Dig-A-Hole (\"Dig-A-Hole,\" \"we,\" \"us,\" or \"our\"). By using our services, you acknowledge that you have read, understood, and agree to be bound by these Terms.\n",
      "  Translated: This is like a pinky swear 🤝 between you (that's \"Customer\", \"you\", or \"your\") and us (that's \"Dig-A-Hole, \"we\", \"us\", or \"our\"). By playing with us, you're saying \"I get it, and I'm in! 👍\"\n",
      "\n",
      "Item 2:\n",
      "  Original: Dig-A-Hole provides a facility where customers can engage in the activity of digging holes in designated areas of a field. Our services are intended for recreational exercise and stress relief.\n",
      "  Translated: We've got a place where you can dig holes to your heart's content! 🕳️💖 It's all about fun and games, and maybe letting off some steam.  🧘\n",
      "\n",
      "Item 3:\n",
      "  Original: Free Trial Dig: New customers are eligible for one (1) complimentary digging session before requiring a subscription.\n",
      "  Translated: First dig is FREE! 🎉  Give it a try before you subscribe.\n",
      "\n",
      "Item 4:\n",
      "  Original: Monthly Subscription Plan: Customers can subscribe to a monthly plan for ongoing access to our digging facilities.\n",
      "  Translated: Wanna dig all month long?  Subscribe and get your dig on! 🗓️\n",
      "\n",
      "Item 5:\n",
      "  Original: Shovel Rental Add-On: Customers have the option to rent shovels for an additional fee, subject to availability.\n",
      "  Translated: Need a shovel? 🥄 We rent those too! (If we have any left)\n",
      "\n",
      "Item 6:\n",
      "  Original: Minimum Subscription Period: All subscriptions have a minimum commitment of one (1) full month.\n",
      "  Translated: Subscriptions are for a whole month.  Gotta commit! 💖\n",
      "\n",
      "Item 7:\n",
      "  Original: Cancellation: You may cancel your subscription at any time. However, due to the minimum one-month commitment, you will be responsible for the full payment of the current billing cycle in which you cancel, and your access will continue until the end of that paid month. No refunds will be provided for partial months.\n",
      "  Translated: You can cancel anytime, but you gotta pay for the whole month you're in, even if you stop digging early.  No partial refunds! 💰\n",
      "\n",
      "Item 8:\n",
      "  Original: Customers renting shovels are responsible for their proper use and return in the same condition (excluding normal wear and tear). Dig-A-Hole reserves the right to charge for any damage to or loss of rented shovels.\n",
      "  Translated: Take care of our shovels! 🛠️  If you break or lose it, you gotta pay for it.  (Normal wear and tear is okay, we get it.)\n",
      "\n",
      "Item 9:\n",
      "  Original: By participating in digging activities at Dig-A-Hole, you acknowledge and voluntarily assume all such risks. You are responsible for ensuring your own safety and well-being while on our premises.\n",
      "  Translated: Digging can be dangerous! ⚠️ You're responsible for your own safety, so be careful and have fun! 😄\n",
      "\n",
      "Item 10:\n",
      "  Original: You hereby release and forever discharge Dig-A-Hole, its owners, officers, directors, employees, agents, and affiliates from any and all claims, demands, actions, causes of action, damages, losses, expenses, and liabilities of any kind or nature whatsoever, whether known or unknown, arising out of or in any way connected with your use of Dig-A-Hole's facilities or participation in digging activities, including but not limited to any injuries you may sustain.\n",
      "  Translated: If you get hurt digging, it's not our fault.  You're agreeing not to sue us, even if you trip over a rock or get a shovel-related injury.  🤕  Please don't sue us! 🙏\n",
      "\n",
      "Item 11:\n",
      "  Original: Dig-A-Hole does not provide medical services or advice. We recommend that you consult with your physician before participating in any physical activity, especially if you have any pre-existing medical conditions.\n",
      "  Translated: We're not doctors! 👨‍⚕️  If you have any health concerns, talk to a real doctor before you dig.\n",
      "\n",
      "Item 12:\n",
      "  Original: Customers are expected to conduct themselves in a respectful and responsible manner while on Dig-A-Hole property. We reserve the right to refuse service to anyone who, in our sole discretion, engages in unsafe, disruptive, or inappropriate behavior.\n",
      "  Translated: Be nice and respectful!  Play fair. We can kick you out if you aren't. 🚫\n",
      "\n",
      "Item 13:\n",
      "  Original: Dig-A-Hole reserves the right to modify or update these Terms of Service at any time without prior notice. Any changes will be effective immediately upon posting on our website or at our facility. Your continued use of our services after the posting of any revised Terms constitutes your acceptance of such changes.\n",
      "  Translated: We can change these rules anytime.  Just FYI.  If you keep digging, you are automatically agreeing to the changes.\n"
     ]
    }
   ],
   "source": [
    "#I've got my data all nicely packed in JSON. But what if I want to parse it?  \n",
    "#Here's how I do the parsed summary.\n",
    "\n",
    "import json\n",
    "import re\n",
    "\n",
    "try:\n",
    "    print(\"\\nParsed JSON Summary:\")\n",
    "\n",
    "    if isinstance(response_load, list):\n",
    "        for i, item in enumerate(response_load, start=1):\n",
    "            original = item.get('Original', '[Missing original]')\n",
    "            translated = item.get('Translated', '[Missing translated]')\n",
    "            print(f\"\\nItem {i}:\")\n",
    "            print(f\"  Original: {original}\")\n",
    "            print(f\"  Translated: {translated}\")\n",
    "    else:\n",
    "        print(\"Expected a JSON array but received a different structure.\")\n",
    "except json.JSONDecodeError as e:\n",
    "    print(\"\\nError decoding JSON:\")\n",
    "    print(f\"  {e}\")\n",
    "    print(\"The output does not appear to be valid JSON.\")"
   ]
  },
  {
   "cell_type": "markdown",
   "id": "7ceab264",
   "metadata": {
    "papermill": {
     "duration": 0.005071,
     "end_time": "2025-04-16T04:55:13.251984",
     "exception": false,
     "start_time": "2025-04-16T04:55:13.246913",
     "status": "completed"
    },
    "tags": []
   },
   "source": [
    "## Define an Evaluator: Checking the Translation Quality\n",
    "\n",
    "My friendly translation are looking good against the original text. Now, the question is: how well did my translator actually do?\n",
    "\n",
    "In this section, I'm going to put the translations to the test by focusing on a few key things that matter:\n",
    "\n",
    "* **Clarity:** How easy is the translated text to understand for someone without a law degree?\n",
    "* **Friendliness:** Did the translation nail that approachable and emoji-filled vibe I was going for?\n",
    "* **Completeness:** Did it capture all the important info from the original legal stuff?\n",
    "\n",
    "To figure this out, I've set up a simple rating system, giving a score from 1 to 5. I've also laid out the evaluation steps. Let's see how they measure up!\n",
    "\n",
    "**Important:** To keep things running smoothly and avoid any hiccups with rate limits, I'm only going to evaluate the first three items from the terms of service for now. But I believe this will give me a good initial idea of how well the translator is performing."
   ]
  },
  {
   "cell_type": "code",
   "execution_count": 13,
   "id": "8110ba1b",
   "metadata": {
    "execution": {
     "iopub.execute_input": "2025-04-16T04:55:13.263601Z",
     "iopub.status.busy": "2025-04-16T04:55:13.263290Z",
     "iopub.status.idle": "2025-04-16T04:55:19.053817Z",
     "shell.execute_reply": "2025-04-16T04:55:19.052864Z"
    },
    "papermill": {
     "duration": 5.798517,
     "end_time": "2025-04-16T04:55:19.055748",
     "exception": false,
     "start_time": "2025-04-16T04:55:13.257231",
     "status": "completed"
    },
    "tags": []
   },
   "outputs": [
    {
     "name": "stdout",
     "output_type": "stream",
     "text": [
      "Original: These Terms of Service constitute a legally binding agreement between you (\"Customer,\" \"you,\" or \"your\") and Dig-A-Hole (\"Dig-A-Hole,\" \"we,\" \"us,\" or \"our\"). By using our services, you acknowledge that you have read, understood, and agree to be bound by these Terms.\n",
      "Translated: This is like a pinky swear 🤝 between you (that's \"Customer\", \"you\", or \"your\") and us (that's \"Dig-A-Hole, \"we\", \"us\", or \"our\"). By playing with us, you're saying \"I get it, and I'm in! 👍\"\n",
      "Verbose Evaluation:\n",
      "## Evaluation Report\n",
      "\n",
      "**STEP 1: Assess the translation in aspects of clarity, friendliness, and completeness according to the criteria.**\n",
      "\n",
      "*   **Clarity:** The translation uses extremely simple and relatable language (\"pinky swear,\" \"playing with us\") to convey the essence of a legally binding agreement. It directly explains the alternative names used for both parties (\"you\" and \"Dig-A-Hole\"). It is very clear.\n",
      "*   **Friendliness:** The translation adopts a highly approachable and enthusiastic tone with the use of a pinky swear emoji and phrases like \"playing with us\" and \"I'm in! 👍\". The level of friendliness is very high and effectively reduces the intimidation factor of legal terms.\n",
      "*   **Completeness:** The translation captures the core meaning of the original sentence, explaining the agreement between the customer and Dig-A-Hole, and the customer's agreement to the terms by using the service. It maintains the key information in simplified language.\n",
      "\n",
      "**STEP 2: Score based on the rubric.**\n",
      "\n",
      "Rating: 5\n",
      "\n",
      "Explanation:\n",
      "The translation excels in clarity, friendliness, and completeness. It successfully transforms a formal legal statement into an accessible and welcoming message while retaining all essential information. The use of emojis and casual language significantly enhances the user experience.\n",
      "\n",
      "Structured Evaluation: VERY_GOOD\n",
      "--------------------\n",
      "Original: Dig-A-Hole provides a facility where customers can engage in the activity of digging holes in designated areas of a field. Our services are intended for recreational exercise and stress relief.\n",
      "Translated: We've got a place where you can dig holes to your heart's content! 🕳️💖 It's all about fun and games, and maybe letting off some steam.  🧘\n",
      "Verbose Evaluation:\n",
      "## Evaluation\n",
      "\n",
      "**STEP 1: Assess the translation in aspects of clarity, friendliness, and completeness according to the criteria.**\n",
      "\n",
      "*   **Clarity:** The translation is exceptionally clear and easy to understand, using very simple language. It avoids any technical or legal jargon, making it accessible to everyone.\n",
      "*   **Friendliness:** The translation uses an extremely friendly and casual tone. The use of emojis and enthusiastic language (e.g., \"to your heart's content!\") creates a very welcoming experience.\n",
      "*   **Completeness:** The translation captures the core idea of digging holes for recreational exercise and stress relief. It may lack the formal precision of stating designated areas within a field but doesn't change the fundamental meaning.\n",
      "\n",
      "**STEP 2: Score based on the rubric.**\n",
      "\n",
      "The translation excels in clarity and friendliness while maintaining completeness.\n",
      "\n",
      "**Rating: 5 (Very good)**\n",
      "\n",
      "Structured Evaluation: VERY_GOOD\n",
      "--------------------\n",
      "Original: Free Trial Dig: New customers are eligible for one (1) complimentary digging session before requiring a subscription.\n",
      "Translated: First dig is FREE! 🎉  Give it a try before you subscribe.\n",
      "Verbose Evaluation:\n",
      "STEP 1:\n",
      "The translation is clear, friendly, and complete. It uses simple language and an emoji to convey the essential information in an approachable tone. It accurately and fully conveys the core meaning of the original sentence.\n",
      "\n",
      "STEP 2:\n",
      "Rating: 5\n",
      "\n",
      "Structured Evaluation: VERY_GOOD\n",
      "--------------------\n"
     ]
    }
   ],
   "source": [
    "import enum\n",
    "\n",
    "# Define the evaluation prompt for evaluating the \"Translated\" text\n",
    "TRANSLATION_EVAL_PROMPT = \"\"\"\\\n",
    "# Instruction\n",
    "You are an expert evaluator. Your task is to evaluate the quality of the AI-generated translation of a sentence from a terms of service\n",
    "document.\n",
    "We will provide you with the original sentence and the AI-generated translation.\n",
    "You should first read the original sentence carefully, then evaluate the quality of the translation based on the Criteria \n",
    "provided in the Evaluation section below.\n",
    "You will assign the translation a rating following the Rating Rubric and Evaluation Steps. Give step-by-step explanations \n",
    "for your rating, and only choose ratings from the Rating Rubric.\n",
    "\n",
    "# Evaluation\n",
    "## Metric Definition\n",
    "You will be assessing the translation Clarity, friendliness and Completeness.\n",
    "\n",
    "## Criteria\n",
    "Clarity: The translation prioritizes making the core meaning immediately accessible and easy to understand for everyone, \n",
    "even those unfamiliar with legal terms. It uses simple language and relatable analogies to convey the essential information effectively.\n",
    "Friendliness: The translation adopts an extremely approachable, casual, and enthusiastic tone, using emojis and informal language \n",
    "to create a positive and engaging experience for the reader. The high level of friendliness is intentional to make the legal terms \n",
    "feel less intimidating and more welcoming.\n",
    "Completeness: Completeness: The translation accurately and fully conveys the core meaning and key pieces of information presented \n",
    "in the original sentence. It should capture all the essential facts, actions, entities, and relationships described, \n",
    "even if expressed in simpler language. The level of detail in the translation should be sufficient to understand the main points \n",
    "of the original without losing critical information.\n",
    "\n",
    "## Rating Rubric\n",
    "5: (Very good). The translation is accurate, clear, friendly, and complete.\n",
    "4: (Good). The translation is mostly accurate, clear, friendly, and complete.\n",
    "3: (Ok). The translation is understandable but may have minor issues with accuracy, clarity, or friendliness. Emojis might \n",
    "be missing or slightly awkward.\n",
    "2: (Bad). The translation has significant issues with accuracy or clarity, or fails to adopt a friendly tone.\n",
    "1: (Very bad). The translation is inaccurate, incomprehensible, or completely fails to address the original meaning.\n",
    "\n",
    "## Evaluation Steps\n",
    "STEP 1: Assess the translation in aspects of clarity, friendliness, and completeness according to the criteria.\n",
    "STEP 2: Score based on the rubric.\n",
    "\n",
    "# User Inputs and AI-generated Response\n",
    "## Original Sentence\n",
    "\n",
    "{original}\n",
    "\n",
    "## AI-generated Translation\n",
    "\n",
    "{response}\n",
    "\"\"\"\n",
    "\n",
    "# Define a structured enum class to capture the result.\n",
    "class SummaryRating(enum.Enum):\n",
    "    VERY_GOOD = '5'\n",
    "    GOOD = '4'\n",
    "    OK = '3'\n",
    "    BAD = '2'\n",
    "    VERY_BAD = '1'\n",
    "\n",
    "def eval_translation(original, ai_response):\n",
    "    \"\"\"Evaluate the generated translation against the original sentence.\"\"\"\n",
    "\n",
    "    # It doesn't look like I can use chat with gemini-1.5-pro. Using gemini-2.0-flash here.\n",
    "    chat = client.chats.create(model='gemini-2.0-flash')\n",
    "    \n",
    "    # Generate the full text response.\n",
    "    response = chat.send_message(\n",
    "        message=TRANSLATION_EVAL_PROMPT.format(original=original, response=ai_response)\n",
    "    )\n",
    "    verbose_eval = response.text\n",
    "    \n",
    "    # Coerce into the desired structure.\n",
    "    structured_output_config = types.GenerateContentConfig(\n",
    "        response_mime_type=\"text/x.enum\",\n",
    "        response_schema=SummaryRating,\n",
    "    )\n",
    "    response = chat.send_message(\n",
    "        message=\"Convert the final score.\",\n",
    "        config=structured_output_config,\n",
    "    )\n",
    "    structured_eval = response.parsed\n",
    "    \n",
    "    return verbose_eval, structured_eval\n",
    "\n",
    "# Ideally, I want to check everything but I don't have enough quota. So, iterating only first three elements.\n",
    "evaluation_results = []\n",
    "for item in response_load[:3]:\n",
    "    original_text = item['Original']\n",
    "    translated_text = item['Translated']\n",
    "    verbose_eval, structured_eval = eval_translation(original=original_text, ai_response=translated_text)\n",
    "\n",
    "    evaluation_results.append({\n",
    "        'original': original_text,\n",
    "        'translated': translated_text,\n",
    "        'verbose_evaluation': verbose_eval,\n",
    "        'structured_evaluation': structured_eval.name if structured_eval else None\n",
    "    })\n",
    "\n",
    "for result in evaluation_results:\n",
    "    print(f\"Original: {result['original']}\")\n",
    "    print(f\"Translated: {result['translated']}\")\n",
    "    print(f\"Verbose Evaluation:\\n{result['verbose_evaluation']}\")\n",
    "    print(f\"Structured Evaluation: {result['structured_evaluation']}\")\n",
    "    print(\"-\" * 20)"
   ]
  },
  {
   "cell_type": "code",
   "execution_count": 14,
   "id": "c89a8c8a",
   "metadata": {
    "execution": {
     "iopub.execute_input": "2025-04-16T04:55:19.069699Z",
     "iopub.status.busy": "2025-04-16T04:55:19.069306Z",
     "iopub.status.idle": "2025-04-16T04:55:22.863272Z",
     "shell.execute_reply": "2025-04-16T04:55:22.861888Z"
    },
    "papermill": {
     "duration": 3.80277,
     "end_time": "2025-04-16T04:55:22.865135",
     "exception": false,
     "start_time": "2025-04-16T04:55:19.062365",
     "status": "completed"
    },
    "tags": []
   },
   "outputs": [
    {
     "name": "stdout",
     "output_type": "stream",
     "text": [
      "Collecting PyPDF2\r\n",
      "  Downloading pypdf2-3.0.1-py3-none-any.whl.metadata (6.8 kB)\r\n",
      "Downloading pypdf2-3.0.1-py3-none-any.whl (232 kB)\r\n",
      "\u001b[2K   \u001b[90m━━━━━━━━━━━━━━━━━━━━━━━━━━━━━━━━━━━━━━━━\u001b[0m \u001b[32m232.6/232.6 kB\u001b[0m \u001b[31m7.9 MB/s\u001b[0m eta \u001b[36m0:00:00\u001b[0m\r\n",
      "\u001b[?25hInstalling collected packages: PyPDF2\r\n",
      "Successfully installed PyPDF2-3.0.1\r\n"
     ]
    }
   ],
   "source": [
    "!pip install PyPDF2"
   ]
  },
  {
   "cell_type": "code",
   "execution_count": 15,
   "id": "283fb41f",
   "metadata": {
    "execution": {
     "iopub.execute_input": "2025-04-16T04:55:22.877350Z",
     "iopub.status.busy": "2025-04-16T04:55:22.876999Z",
     "iopub.status.idle": "2025-04-16T04:55:23.525271Z",
     "shell.execute_reply": "2025-04-16T04:55:23.524149Z"
    },
    "papermill": {
     "duration": 0.655747,
     "end_time": "2025-04-16T04:55:23.526615",
     "exception": false,
     "start_time": "2025-04-16T04:55:22.870868",
     "status": "completed"
    },
    "tags": []
   },
   "outputs": [
    {
     "name": "stdout",
     "output_type": "stream",
     "text": [
      "Paragraph 1:\n",
      "Dig-A-Hole - Terms of Service Last Updated: April 6, 2025 Please read these Terms of Service carefully before using the services provided by Dig-A-Hole. By accessing our facilities, participating in our digging activities, or subscribing to our services, you agree to be bound by these Terms.\n",
      "====================\n",
      "Paragraph 2:\n",
      "Acceptance of Terms These Terms of Service constitute a legally binding agreement between you (\"Customer,\" \"you,\" or \"your\") and Dig-A-Hole (\"Dig-A-Hole,\" \"we,\" \"us,\" or \"our\"). By using our services, you acknowledge that you have read, understood, and agree to be bound by these Terms.\n",
      "====================\n",
      "Paragraph 3:\n",
      "Description of Services Dig-A-Hole provides a facility where customers can engage in the activity of digging holes in designated areas of a field. Our services are intended for recreational exercise and stress relief.\n",
      "====================\n",
      "Paragraph 4:\n",
      "We offer the following: ● Digging Access: Access to a designated field area for the purpose of digging holes. ● Free Trial Dig: New customers are eligible for one (1) complimentary digging session before requiring a subscription. ● Monthly Subscription Plan: Customers can subscribe to a monthly plan for ongoing access to our digging facilities. ● Shovel Rental Add-On: Customers have the option to rent shovels for an additional fee, subject to availability. Subscription Terms and Payment ● Minimum Subscription Period: All subscriptions have a minimum commitment of one (1) full month. ● Subscription Fees: The monthly subscription fee will be clearly communicated on our website or at our facility. ● Billing: Subscription fees will be billed on a recurring monthly basis, commencing on the date of your initial subscription. ● Payment Methods: We accept the payment methods specified on our website or at our facility.\n",
      "====================\n",
      "Paragraph 5:\n",
      "You agree to provide accurate and up-to-date payment information. ● Cancellation: You may cancel your subscription at any time. However, due to the minimum one-month commitment, you will be responsible for the full payment of the current billing cycle in which you cancel, and your access will continue until the end of that paid month.\n",
      "====================\n",
      "Paragraph 6:\n",
      "No refunds will be provided for partial months. Shovel Rental ● Shovels are available for rent on an add-on basis, subject to availability and an additional fee. ● Customers renting shovels are responsible for their proper use and return in the same condition (excluding normal wear and tear). ● Dig-A-Hole reserves the right to charge for any damage to or loss of rented shovels.\n",
      "====================\n",
      "Paragraph 7:\n",
      "Safety and Assumption of Risk Engaging in digging activities involves inherent risks, including but not limited to: ● Physical exertion and fatigue. ● Muscle strains, sprains, and other bodily injuries. ● Tripping, slipping, and falling. ● Injuries caused by contact with the ground, rocks, or other objects. ● Injuries resulting from the misuse of tools, including shovels. ● Exposure to weather conditions. By participating in digging activities at Dig-A-Hole, you acknowledge and voluntarily assume all such risks.\n",
      "====================\n",
      "Paragraph 8:\n",
      "You are responsible for ensuring your own safety and well-being while on our premises. Release of Liability and Indemnification To the fullest extent permitted by applicable law: ● You hereby release and forever discharge Dig-A-Hole, its owners, officers, directors, employees, agents, and affiliates from any and all claims, demands, actions, causes of action, damages, losses, expenses, and liabilities of any kind or nature whatsoever, whether known or unknown, arising out of or in any way connected with your use of Dig-A-Hole's facilities or participation in digging activities, including but not limited to any injuries you may sustain. ● You agree to indemnify, defend, and hold harmless Dig-A-Hole, its owners, officers, directors, employees, agents, and affiliates from and against any and all claims, demands, actions, causes of action, damages, losses, expenses (including attorneys' fees), and liabilities of any kind or nature whatsoever arising out of or in any way connected with your breach of these Terms of Service or your negligent or willful misconduct while using our services or facilities.\n",
      "====================\n",
      "Paragraph 9:\n",
      "Medical Disclaimer Dig-A-Hole does not provide medical services or advice. We recommend that you consult with your physician before participating in any physical activity, especially if you have any pre-existing medical conditions.\n",
      "====================\n",
      "Paragraph 10:\n",
      "You understand and agree that Dig-A-Hole will not be responsible for any medical expenses incurred by you as a result of any injury sustained while using our facilities or participating in digging activities. You are solely responsible for your own health and safety.\n",
      "====================\n",
      "Paragraph 11:\n",
      "Conduct Customers are expected to conduct themselves in a respectful and responsible manner while on Dig-A-Hole property. We reserve the right to refuse service to anyone who, in our sole discretion, engages in unsafe, disruptive, or inappropriate behavior.\n",
      "====================\n",
      "Paragraph 12:\n",
      "Changes to Terms of Service Dig-A-Hole reserves the right to modify or update these Terms of Service at any time without prior notice. Any changes will be effective immediately upon posting on our website or at our facility.\n",
      "====================\n",
      "Paragraph 13:\n",
      "Your continued use of our services after the posting of any revised Terms constitutes your acceptance of such changes. Governing Law and Dispute Resolution These Terms of Service shall be governed by and construed in accordance with the laws of the State of Ohio, without regard to its conflict of law principles.\n",
      "====================\n",
      "Paragraph 14:\n",
      "Any dispute arising out of or relating to these Terms or your use of our services shall be exclusively resolved in the state or federal courts located in Columbus, OH, and you hereby consent to the jurisdiction of such courts. Entire Agreement These Terms of Service constitute the entire agreement between you and Dig-A-Hole with respect to the subject matter hereof and supersede all prior or contemporaneous communications and proposals, whether oral or written. 5 Contact Us If you have any questions about these Terms of Service, please contact us at: Dig-A-Hole [123 dig, awesometown, Columbus, OH] [digaholeA++++++++++++@gmail.com] [555-5555] By using Dig-A-Hole's services, you acknowledge that you have read, understood, and agree to be bound by these Terms of Service.\n",
      "====================\n"
     ]
    }
   ],
   "source": [
    "import re\n",
    "from PyPDF2 import PdfReader\n",
    "\n",
    "def split_into_paragraphs(text):\n",
    "    # Remove all newlines that break up sentences\n",
    "    text = text.replace('\\n', ' ')\n",
    "\n",
    "    # Normalize spaces\n",
    "    text = re.sub(r'\\s+', ' ', text)\n",
    "\n",
    "    # Split where a sentence ends and a new one starts (with capital letter)\n",
    "    # This won't be perfect, but it's better than line-based\n",
    "    paragraph_candidates = re.split(r'(?<=[.?!])\\s+(?=[A-Z])', text)\n",
    "\n",
    "    # Rejoin into paragraphs by grouping a few sentences together\n",
    "    paragraphs = []\n",
    "    temp = \"\"\n",
    "    sentence_count = 0\n",
    "\n",
    "\n",
    "    for part in paragraph_candidates:\n",
    "        temp += part.strip() + \" \"\n",
    "        sentence_count += 1\n",
    "        if sentence_count >= 2:  # You can adjust this value for longer/shorter paragraphs\n",
    "            paragraphs.append(temp.strip())\n",
    "            temp = \"\"\n",
    "            sentence_count = 0\n",
    "\n",
    "    if temp.strip():\n",
    "        paragraphs.append(temp.strip())\n",
    "\n",
    "    return paragraphs\n",
    "\n",
    "try:\n",
    "    reader = PdfReader('/kaggle/input/sample-terms-of-service/sample_terms_of_service2.pdf')\n",
    "    text = \"\"\n",
    "    for page in reader.pages:\n",
    "        text += page.extract_text() + \"\\n\"\n",
    "\n",
    "    all_paragraphs = []\n",
    "    \n",
    "    paragraphs = split_into_paragraphs(text)\n",
    "    for i, paragraph in enumerate(paragraphs):\n",
    "        print(f\"Paragraph {i+1}:\\n{paragraph}\\n{'='*20}\")\n",
    "        all_paragraphs.append(paragraph)\n",
    "\n",
    "except FileNotFoundError:\n",
    "    print(\"Error: The PDF file was not found.\")\n",
    "except Exception as e:\n",
    "    print(f\"An error occurred while reading the PDF: {e}\")"
   ]
  },
  {
   "cell_type": "code",
   "execution_count": 16,
   "id": "8ae758c3",
   "metadata": {
    "execution": {
     "iopub.execute_input": "2025-04-16T04:55:23.541060Z",
     "iopub.status.busy": "2025-04-16T04:55:23.540769Z",
     "iopub.status.idle": "2025-04-16T04:56:00.272736Z",
     "shell.execute_reply": "2025-04-16T04:56:00.271601Z"
    },
    "papermill": {
     "duration": 36.741525,
     "end_time": "2025-04-16T04:56:00.274479",
     "exception": false,
     "start_time": "2025-04-16T04:55:23.532954",
     "status": "completed"
    },
    "tags": []
   },
   "outputs": [
    {
     "name": "stdout",
     "output_type": "stream",
     "text": [
      "\u001b[33mWARNING: Skipping kfp as it is not installed.\u001b[0m\u001b[33m\r\n",
      "\u001b[2K     \u001b[90m━━━━━━━━━━━━━━━━━━━━━━━━━━━━━━━━━━━━━━━━\u001b[0m \u001b[32m67.3/67.3 kB\u001b[0m \u001b[31m3.3 MB/s\u001b[0m eta \u001b[36m0:00:00\u001b[0m\r\n",
      "\u001b[?25h  Installing build dependencies ... \u001b[?25l\u001b[?25hdone\r\n",
      "  Getting requirements to build wheel ... \u001b[?25l\u001b[?25hdone\r\n",
      "  Preparing metadata (pyproject.toml) ... \u001b[?25l\u001b[?25hdone\r\n",
      "\u001b[2K   \u001b[90m━━━━━━━━━━━━━━━━━━━━━━━━━━━━━━━━━━━━━━━━\u001b[0m \u001b[32m611.1/611.1 kB\u001b[0m \u001b[31m22.9 MB/s\u001b[0m eta \u001b[36m0:00:00\u001b[0m\r\n",
      "\u001b[2K   \u001b[90m━━━━━━━━━━━━━━━━━━━━━━━━━━━━━━━━━━━━━━━━\u001b[0m \u001b[32m2.4/2.4 MB\u001b[0m \u001b[31m59.0 MB/s\u001b[0m eta \u001b[36m0:00:00\u001b[0m\r\n",
      "\u001b[2K   \u001b[90m━━━━━━━━━━━━━━━━━━━━━━━━━━━━━━━━━━━━━━━━\u001b[0m \u001b[32m284.2/284.2 kB\u001b[0m \u001b[31m17.0 MB/s\u001b[0m eta \u001b[36m0:00:00\u001b[0m\r\n",
      "\u001b[2K   \u001b[90m━━━━━━━━━━━━━━━━━━━━━━━━━━━━━━━━━━━━━━━━\u001b[0m \u001b[32m95.2/95.2 kB\u001b[0m \u001b[31m5.4 MB/s\u001b[0m eta \u001b[36m0:00:00\u001b[0m\r\n",
      "\u001b[2K   \u001b[90m━━━━━━━━━━━━━━━━━━━━━━━━━━━━━━━━━━━━━━━━\u001b[0m \u001b[32m2.0/2.0 MB\u001b[0m \u001b[31m49.9 MB/s\u001b[0m eta \u001b[36m0:00:00\u001b[0m\r\n",
      "\u001b[2K   \u001b[90m━━━━━━━━━━━━━━━━━━━━━━━━━━━━━━━━━━━━━━━━\u001b[0m \u001b[32m99.2/99.2 kB\u001b[0m \u001b[31m5.6 MB/s\u001b[0m eta \u001b[36m0:00:00\u001b[0m\r\n",
      "\u001b[2K   \u001b[90m━━━━━━━━━━━━━━━━━━━━━━━━━━━━━━━━━━━━━━━━\u001b[0m \u001b[32m16.0/16.0 MB\u001b[0m \u001b[31m67.8 MB/s\u001b[0m eta \u001b[36m0:00:00\u001b[0m\r\n",
      "\u001b[2K   \u001b[90m━━━━━━━━━━━━━━━━━━━━━━━━━━━━━━━━━━━━━━━━\u001b[0m \u001b[32m55.9/55.9 kB\u001b[0m \u001b[31m2.8 MB/s\u001b[0m eta \u001b[36m0:00:00\u001b[0m\r\n",
      "\u001b[2K   \u001b[90m━━━━━━━━━━━━━━━━━━━━━━━━━━━━━━━━━━━━━━━━\u001b[0m \u001b[32m188.4/188.4 kB\u001b[0m \u001b[31m9.1 MB/s\u001b[0m eta \u001b[36m0:00:00\u001b[0m\r\n",
      "\u001b[2K   \u001b[90m━━━━━━━━━━━━━━━━━━━━━━━━━━━━━━━━━━━━━━━━\u001b[0m \u001b[32m65.3/65.3 kB\u001b[0m \u001b[31m3.8 MB/s\u001b[0m eta \u001b[36m0:00:00\u001b[0m\r\n",
      "\u001b[2K   \u001b[90m━━━━━━━━━━━━━━━━━━━━━━━━━━━━━━━━━━━━━━━━\u001b[0m \u001b[32m119.0/119.0 kB\u001b[0m \u001b[31m6.7 MB/s\u001b[0m eta \u001b[36m0:00:00\u001b[0m\r\n",
      "\u001b[2K   \u001b[90m━━━━━━━━━━━━━━━━━━━━━━━━━━━━━━━━━━━━━━━━\u001b[0m \u001b[32m89.1/89.1 kB\u001b[0m \u001b[31m5.4 MB/s\u001b[0m eta \u001b[36m0:00:00\u001b[0m\r\n",
      "\u001b[2K   \u001b[90m━━━━━━━━━━━━━━━━━━━━━━━━━━━━━━━━━━━━━━━━\u001b[0m \u001b[32m62.4/62.4 kB\u001b[0m \u001b[31m3.2 MB/s\u001b[0m eta \u001b[36m0:00:00\u001b[0m\r\n",
      "\u001b[2K   \u001b[90m━━━━━━━━━━━━━━━━━━━━━━━━━━━━━━━━━━━━━━━━\u001b[0m \u001b[32m442.1/442.1 kB\u001b[0m \u001b[31m18.5 MB/s\u001b[0m eta \u001b[36m0:00:00\u001b[0m\r\n",
      "\u001b[2K   \u001b[90m━━━━━━━━━━━━━━━━━━━━━━━━━━━━━━━━━━━━━━━━\u001b[0m \u001b[32m319.7/319.7 kB\u001b[0m \u001b[31m16.6 MB/s\u001b[0m eta \u001b[36m0:00:00\u001b[0m\r\n",
      "\u001b[2K   \u001b[90m━━━━━━━━━━━━━━━━━━━━━━━━━━━━━━━━━━━━━━━━\u001b[0m \u001b[32m72.0/72.0 kB\u001b[0m \u001b[31m4.4 MB/s\u001b[0m eta \u001b[36m0:00:00\u001b[0m\r\n",
      "\u001b[2K   \u001b[90m━━━━━━━━━━━━━━━━━━━━━━━━━━━━━━━━━━━━━━━━\u001b[0m \u001b[32m3.8/3.8 MB\u001b[0m \u001b[31m69.6 MB/s\u001b[0m eta \u001b[36m0:00:00\u001b[0m\r\n",
      "\u001b[2K   \u001b[90m━━━━━━━━━━━━━━━━━━━━━━━━━━━━━━━━━━━━━━━━\u001b[0m \u001b[32m454.9/454.9 kB\u001b[0m \u001b[31m17.1 MB/s\u001b[0m eta \u001b[36m0:00:00\u001b[0m\r\n",
      "\u001b[2K   \u001b[90m━━━━━━━━━━━━━━━━━━━━━━━━━━━━━━━━━━━━━━━━\u001b[0m \u001b[32m46.0/46.0 kB\u001b[0m \u001b[31m2.1 MB/s\u001b[0m eta \u001b[36m0:00:00\u001b[0m\r\n",
      "\u001b[2K   \u001b[90m━━━━━━━━━━━━━━━━━━━━━━━━━━━━━━━━━━━━━━━━\u001b[0m \u001b[32m86.8/86.8 kB\u001b[0m \u001b[31m5.0 MB/s\u001b[0m eta \u001b[36m0:00:00\u001b[0m\r\n",
      "\u001b[?25h  Building wheel for pypika (pyproject.toml) ... \u001b[?25l\u001b[?25hdone\r\n",
      "\u001b[31mERROR: pip's dependency resolver does not currently take into account all the packages that are installed. This behaviour is the source of the following dependency conflicts.\r\n",
      "google-api-core 1.34.1 requires protobuf!=3.20.0,!=3.20.1,!=4.21.0,!=4.21.1,!=4.21.2,!=4.21.3,!=4.21.4,!=4.21.5,<4.0.0dev,>=3.19.5, but you have protobuf 5.29.4 which is incompatible.\r\n",
      "google-cloud-bigtable 2.27.0 requires google-api-core[grpc]<3.0.0dev,>=2.16.0, but you have google-api-core 1.34.1 which is incompatible.\r\n",
      "google-cloud-translate 3.12.1 requires protobuf!=3.20.0,!=3.20.1,!=4.21.0,!=4.21.1,!=4.21.2,!=4.21.3,!=4.21.4,!=4.21.5,<5.0.0dev,>=3.19.5, but you have protobuf 5.29.4 which is incompatible.\r\n",
      "pandas-gbq 0.25.0 requires google-api-core<3.0.0dev,>=2.10.2, but you have google-api-core 1.34.1 which is incompatible.\r\n",
      "tensorflow 2.17.1 requires protobuf!=4.21.0,!=4.21.1,!=4.21.2,!=4.21.3,!=4.21.4,!=4.21.5,<5.0.0dev,>=3.20.3, but you have protobuf 5.29.4 which is incompatible.\r\n",
      "tensorflow-decision-forests 1.10.0 requires tensorflow==2.17.0, but you have tensorflow 2.17.1 which is incompatible.\r\n",
      "tensorflow-metadata 1.13.1 requires protobuf<5,>=3.20.3, but you have protobuf 5.29.4 which is incompatible.\u001b[0m\u001b[31m\r\n",
      "\u001b[0m"
     ]
    }
   ],
   "source": [
    "!pip uninstall -qqy jupyterlab kfp  # Remove unused conflicting packages\n",
    "!pip install -qU \"google-genai==1.7.0\" \"chromadb==0.6.3\""
   ]
  },
  {
   "cell_type": "code",
   "execution_count": 17,
   "id": "26e03192",
   "metadata": {
    "execution": {
     "iopub.execute_input": "2025-04-16T04:56:00.290035Z",
     "iopub.status.busy": "2025-04-16T04:56:00.289707Z",
     "iopub.status.idle": "2025-04-16T04:56:00.469205Z",
     "shell.execute_reply": "2025-04-16T04:56:00.468214Z"
    },
    "papermill": {
     "duration": 0.189022,
     "end_time": "2025-04-16T04:56:00.470659",
     "exception": false,
     "start_time": "2025-04-16T04:56:00.281637",
     "status": "completed"
    },
    "tags": []
   },
   "outputs": [
    {
     "name": "stdout",
     "output_type": "stream",
     "text": [
      "models/embedding-001\n",
      "models/text-embedding-004\n",
      "models/gemini-embedding-exp-03-07\n",
      "models/gemini-embedding-exp\n"
     ]
    }
   ],
   "source": [
    "for m in client.models.list():\n",
    "    if \"embedContent\" in m.supported_actions:\n",
    "        print(m.name)"
   ]
  },
  {
   "cell_type": "code",
   "execution_count": 18,
   "id": "9d982e4e",
   "metadata": {
    "execution": {
     "iopub.execute_input": "2025-04-16T04:56:00.485777Z",
     "iopub.status.busy": "2025-04-16T04:56:00.485396Z",
     "iopub.status.idle": "2025-04-16T04:56:01.179899Z",
     "shell.execute_reply": "2025-04-16T04:56:01.179049Z"
    },
    "papermill": {
     "duration": 0.703919,
     "end_time": "2025-04-16T04:56:01.181775",
     "exception": false,
     "start_time": "2025-04-16T04:56:00.477856",
     "status": "completed"
    },
    "tags": []
   },
   "outputs": [],
   "source": [
    "from chromadb import Documents, EmbeddingFunction, Embeddings\n",
    "from google.api_core import retry\n",
    "\n",
    "from google.genai import types\n",
    "\n",
    "\n",
    "# Define a helper to retry when per-minute quota is reached.\n",
    "is_retriable = lambda e: (isinstance(e, genai.errors.APIError) and e.code in {429, 503})\n",
    "\n",
    "\n",
    "class GeminiEmbeddingFunction(EmbeddingFunction):\n",
    "    # Specify whether to generate embeddings for documents, or queries\n",
    "    document_mode = True\n",
    "\n",
    "    @retry.Retry(predicate=is_retriable)\n",
    "    def __call__(self, input: all_paragraphs) -> Embeddings:\n",
    "        if self.document_mode:\n",
    "            embedding_task = \"retrieval_document\"\n",
    "        else:\n",
    "            embedding_task = \"retrieval_query\"\n",
    "\n",
    "        resp = client.models.embed_content(\n",
    "            model=\"models/text-embedding-004\",\n",
    "            contents=input,\n",
    "            config=types.EmbedContentConfig(\n",
    "                task_type=embedding_task,\n",
    "            ),\n",
    "        )\n",
    "        return [e.values for e in resp.embeddings]"
   ]
  },
  {
   "cell_type": "code",
   "execution_count": 19,
   "id": "fd87d739",
   "metadata": {
    "execution": {
     "iopub.execute_input": "2025-04-16T04:56:01.197305Z",
     "iopub.status.busy": "2025-04-16T04:56:01.196994Z",
     "iopub.status.idle": "2025-04-16T04:56:02.297993Z",
     "shell.execute_reply": "2025-04-16T04:56:02.297101Z"
    },
    "papermill": {
     "duration": 1.11058,
     "end_time": "2025-04-16T04:56:02.299682",
     "exception": false,
     "start_time": "2025-04-16T04:56:01.189102",
     "status": "completed"
    },
    "tags": []
   },
   "outputs": [],
   "source": [
    "import chromadb\n",
    "\n",
    "DB_NAME = \"googlecardb\"\n",
    "\n",
    "embed_fn = GeminiEmbeddingFunction()\n",
    "embed_fn.document_mode = True\n",
    "\n",
    "chroma_client = chromadb.Client()\n",
    "db = chroma_client.get_or_create_collection(name=DB_NAME, embedding_function=embed_fn)\n",
    "\n",
    "db.add(documents=all_paragraphs, ids=[str(i) for i in range(len(all_paragraphs))])"
   ]
  },
  {
   "cell_type": "code",
   "execution_count": 20,
   "id": "fc5b8a97",
   "metadata": {
    "execution": {
     "iopub.execute_input": "2025-04-16T04:56:02.315172Z",
     "iopub.status.busy": "2025-04-16T04:56:02.314869Z",
     "iopub.status.idle": "2025-04-16T04:56:02.322578Z",
     "shell.execute_reply": "2025-04-16T04:56:02.321707Z"
    },
    "papermill": {
     "duration": 0.017057,
     "end_time": "2025-04-16T04:56:02.324144",
     "exception": false,
     "start_time": "2025-04-16T04:56:02.307087",
     "status": "completed"
    },
    "tags": []
   },
   "outputs": [
    {
     "data": {
      "text/plain": [
       "14"
      ]
     },
     "execution_count": 20,
     "metadata": {},
     "output_type": "execute_result"
    }
   ],
   "source": [
    "db.count()"
   ]
  },
  {
   "cell_type": "code",
   "execution_count": 21,
   "id": "36409115",
   "metadata": {
    "execution": {
     "iopub.execute_input": "2025-04-16T04:56:02.340180Z",
     "iopub.status.busy": "2025-04-16T04:56:02.339889Z",
     "iopub.status.idle": "2025-04-16T04:56:03.115569Z",
     "shell.execute_reply": "2025-04-16T04:56:03.114727Z"
    },
    "papermill": {
     "duration": 0.785394,
     "end_time": "2025-04-16T04:56:03.117245",
     "exception": false,
     "start_time": "2025-04-16T04:56:02.331851",
     "status": "completed"
    },
    "tags": []
   },
   "outputs": [
    {
     "data": {
      "text/markdown": [
       "No refunds will be provided for partial months. Shovel Rental ● Shovels are available for rent on an add-on basis, subject to availability and an additional fee. ● Customers renting shovels are responsible for their proper use and return in the same condition (excluding normal wear and tear). ● Dig-A-Hole reserves the right to charge for any damage to or loss of rented shovels."
      ],
      "text/plain": [
       "<IPython.core.display.Markdown object>"
      ]
     },
     "execution_count": 21,
     "metadata": {},
     "output_type": "execute_result"
    }
   ],
   "source": [
    "# Switch to query mode when generating embeddings.\n",
    "embed_fn.document_mode = False\n",
    "\n",
    "# Search the Chroma DB using the specified query.\n",
    "query = \"What is your cancellation policy?\"\n",
    "\n",
    "result = db.query(query_texts=[query], n_results=1)\n",
    "[all_passages] = result[\"documents\"]\n",
    "\n",
    "Markdown(all_passages[0])"
   ]
  },
  {
   "cell_type": "code",
   "execution_count": null,
   "id": "5600d70b",
   "metadata": {
    "papermill": {
     "duration": 0.006947,
     "end_time": "2025-04-16T04:56:03.131898",
     "exception": false,
     "start_time": "2025-04-16T04:56:03.124951",
     "status": "completed"
    },
    "tags": []
   },
   "outputs": [],
   "source": []
  }
 ],
 "metadata": {
  "kaggle": {
   "accelerator": "none",
   "dataSources": [
    {
     "datasetId": 7069385,
     "sourceId": 11428914,
     "sourceType": "datasetVersion"
    }
   ],
   "dockerImageVersionId": 30918,
   "isGpuEnabled": false,
   "isInternetEnabled": true,
   "language": "python",
   "sourceType": "notebook"
  },
  "kernelspec": {
   "display_name": "Python 3",
   "language": "python",
   "name": "python3"
  },
  "language_info": {
   "codemirror_mode": {
    "name": "ipython",
    "version": 3
   },
   "file_extension": ".py",
   "mimetype": "text/x-python",
   "name": "python",
   "nbconvert_exporter": "python",
   "pygments_lexer": "ipython3",
   "version": "3.10.12"
  },
  "papermill": {
   "default_parameters": {},
   "duration": 105.91066,
   "end_time": "2025-04-16T04:56:04.360864",
   "environment_variables": {},
   "exception": null,
   "input_path": "__notebook__.ipynb",
   "output_path": "__notebook__.ipynb",
   "parameters": {},
   "start_time": "2025-04-16T04:54:18.450204",
   "version": "2.6.0"
  }
 },
 "nbformat": 4,
 "nbformat_minor": 5
}
